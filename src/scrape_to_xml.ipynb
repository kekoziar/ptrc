{
 "cells": [
  {
   "cell_type": "code",
   "execution_count": null,
   "id": "f211a069",
   "metadata": {},
   "outputs": [],
   "source": [
    "# directory = \"../data/input/\"\n",
    "# filename = \"events.html\"\n",
    "# file = open(directory+filename, 'wb')\n",
    "\n",
    "\n",
    "# file.write(webpage.content)\n",
    "# file.close()"
   ]
  },
  {
   "cell_type": "code",
   "execution_count": null,
   "id": "3195c977",
   "metadata": {},
   "outputs": [],
   "source": [
    "# directory+filename"
   ]
  },
  {
   "cell_type": "code",
   "execution_count": 1,
   "id": "55769c8a",
   "metadata": {},
   "outputs": [],
   "source": [
    "import requests #http://docs.python-requests.org/en/master/ \n",
    "url = \"https://www.uspto.gov/about-us/events\"\n",
    "webpage = requests.get(url)\n",
    "# print(webpage.content)"
   ]
  },
  {
   "cell_type": "code",
   "execution_count": 2,
   "id": "424090b1",
   "metadata": {},
   "outputs": [],
   "source": [
    "from bs4 import BeautifulSoup"
   ]
  },
  {
   "cell_type": "code",
   "execution_count": 3,
   "id": "a2964ecc",
   "metadata": {},
   "outputs": [],
   "source": [
    "#webpage.content"
   ]
  },
  {
   "cell_type": "code",
   "execution_count": 4,
   "id": "6c5e0bae",
   "metadata": {},
   "outputs": [],
   "source": [
    "soup = BeautifulSoup(webpage.content, 'html.parser')"
   ]
  },
  {
   "cell_type": "code",
   "execution_count": 5,
   "id": "e4fa44d5",
   "metadata": {},
   "outputs": [],
   "source": [
    "#soup"
   ]
  },
  {
   "cell_type": "code",
   "execution_count": 8,
   "id": "c063a38b",
   "metadata": {},
   "outputs": [],
   "source": [
    "tr = soup.find_all('tr')"
   ]
  },
  {
   "cell_type": "code",
   "execution_count": 10,
   "id": "a6234c5d",
   "metadata": {},
   "outputs": [],
   "source": [
    "#tr[1].find_all('a', href=True)"
   ]
  },
  {
   "cell_type": "code",
   "execution_count": 11,
   "id": "1204ac2f",
   "metadata": {},
   "outputs": [],
   "source": [
    "#tr[len(tr)-1]"
   ]
  },
  {
   "cell_type": "code",
   "execution_count": 12,
   "id": "0ee10d2c",
   "metadata": {},
   "outputs": [],
   "source": [
    "#a = tr[1].select_one('a').text"
   ]
  },
  {
   "cell_type": "code",
   "execution_count": 13,
   "id": "9943b61c",
   "metadata": {},
   "outputs": [],
   "source": [
    "#a"
   ]
  },
  {
   "cell_type": "code",
   "execution_count": 14,
   "id": "f50e39de",
   "metadata": {},
   "outputs": [],
   "source": [
    "#len(tr)"
   ]
  },
  {
   "cell_type": "code",
   "execution_count": 15,
   "id": "90545599",
   "metadata": {},
   "outputs": [],
   "source": [
    "#str(tr[len(tr)-1]).find(\"date=\")"
   ]
  },
  {
   "cell_type": "code",
   "execution_count": 16,
   "id": "5156e1da",
   "metadata": {},
   "outputs": [
    {
     "name": "stdout",
     "output_type": "stream",
     "text": [
      "Variable        Type             Data/Info\n",
      "------------------------------------------\n",
      "BeautifulSoup   type             <class 'bs4.BeautifulSoup'>\n",
      "current_date    int              20220122\n",
      "date            int              20220120\n",
      "date_index      int              227\n",
      "headers         dict             n=1\n",
      "index           int              2962\n",
      "requests        module           <module 'requests' from '<...>\\\\requests\\\\__init__.py'>\n",
      "soup            BeautifulSoup    <!DOCTYPE html>\\n\\n<html <...></script></body></html>\\n\n",
      "string          str              <tr class=\"type-public-ev<...>m. ET</div>\\n</td>\\n</tr>\n",
      "tr              ResultSet        [<tr><th colspan=\"3\">Janu<...>. ET</div>\\n</td>\\n</tr>]\n",
      "url             str              https://www.uspto.gov/about-us/events\n",
      "url_start       str              https://www.uspto.gov\n",
      "url_workshop    str              /about-us/events/intellec<...>-and-helpful-resources-11\n",
      "webpage         Response         <Response [200]>\n"
     ]
    }
   ],
   "source": [
    "%whos"
   ]
  },
  {
   "cell_type": "code",
   "execution_count": 6,
   "id": "1fd3d39b",
   "metadata": {},
   "outputs": [],
   "source": [
    "headers = {\"User-Agent\":\"kekoziar_wikidata/0.0 (Language=Python/3.9.7; Host=https://github.com/kekoziar/ptrc; email=katherine.koziar@ucr.edu) python-requests/2.26.0\"}"
   ]
  },
  {
   "cell_type": "code",
   "execution_count": 9,
   "id": "3e06defc",
   "metadata": {},
   "outputs": [
    {
     "name": "stdout",
     "output_type": "stream",
     "text": [
      "3037\n",
      "213\n",
      "iso8601 date:  20221201\n",
      "link:  /about-us/events/intellectual-property-basics-and-helpful-resources-10\n",
      "workshop name:  Intellectual property basics and helpful resources\n",
      "3036\n",
      "not here\n",
      "3035\n",
      "213\n",
      "iso8601 date:  20221103\n",
      "link:  /about-us/events/intellectual-property-basics-and-helpful-resources-9\n",
      "workshop name:  Intellectual property basics and helpful resources\n",
      "3034\n",
      "not here\n",
      "3033\n",
      "149\n",
      "iso8601 date:  20221026\n",
      "link:  /learning-and-resources/kids-educators/k-12-ip-education-office-hours-17\n",
      "workshop name:  K-12 IP education office hours \n",
      "3032\n",
      "149\n",
      "iso8601 date:  20221025\n",
      "link:  /learning-and-resources/kids-educators/intellectual-property-ip-workshop-k12-educators-10\n",
      "workshop name:  Intellectual Property (IP) Workshop for K12 Educators \n",
      "3031\n",
      "213\n",
      "iso8601 date:  20221006\n",
      "link:  /about-us/events/intellectual-property-basics-and-helpful-resources-8\n",
      "workshop name:  Intellectual property basics and helpful resources\n",
      "3030\n",
      "not here\n",
      "3029\n",
      "149\n",
      "iso8601 date:  20220928\n",
      "link:  /learning-and-resources/kids-educators/k-12-ip-education-office-hours-16\n",
      "workshop name:  K-12 IP education office hours \n",
      "3028\n",
      "149\n",
      "iso8601 date:  20220927\n",
      "link:  /learning-and-resources/kids-educators/intellectual-property-ip-workshop-k12-educators-11\n",
      "workshop name:  Intellectual Property (IP) Workshop for K12 Educators \n",
      "3027\n",
      "213\n",
      "iso8601 date:  20220901\n",
      "link:  /about-us/events/intellectual-property-basics-and-helpful-resources-7\n",
      "workshop name:  Intellectual property basics and helpful resources\n",
      "3026\n",
      "not here\n",
      "3025\n",
      "149\n",
      "iso8601 date:  20220831\n",
      "link:  /learning-and-resources/kids-educators/k-12-ip-education-office-hours-15\n",
      "workshop name:  K-12 IP education office hours \n",
      "3024\n",
      "149\n",
      "iso8601 date:  20220830\n",
      "link:  /learning-and-resources/kids-educators/intellectual-property-ip-workshop-k12-educators-12\n",
      "workshop name:  Intellectual Property (IP) Workshop for K12 Educators \n",
      "3023\n",
      "213\n",
      "iso8601 date:  20220804\n",
      "link:  /about-us/events/intellectual-property-basics-and-helpful-resources-6\n",
      "workshop name:  Intellectual property basics and helpful resources\n",
      "3022\n",
      "not here\n",
      "3021\n",
      "149\n",
      "iso8601 date:  20220727\n",
      "link:  /learning-and-resources/kids-educators/k-12-ip-education-office-hours-14\n",
      "workshop name:  K-12 IP education office hours \n",
      "3020\n",
      "149\n",
      "iso8601 date:  20220726\n",
      "link:  /learning-and-resources/kids-educators/intellectual-property-ip-workshop-k12-educators-13\n",
      "workshop name:  Intellectual Property (IP) Workshop for K12 Educators \n",
      "3019\n",
      "213\n",
      "iso8601 date:  20220707\n",
      "link:  /about-us/events/intellectual-property-basics-and-helpful-resources-5\n",
      "workshop name:  Intellectual property basics and helpful resources\n",
      "3018\n",
      "not here\n",
      "3017\n",
      "149\n",
      "iso8601 date:  20220629\n",
      "link:  /learning-and-resources/kids-educators/k-12-ip-education-office-hours-13\n",
      "workshop name:  K-12 IP education office hours \n",
      "3016\n",
      "149\n",
      "iso8601 date:  20220628\n",
      "link:  /learning-and-resources/kids-educators/intellectual-property-ip-workshop-k12-educators-14\n",
      "workshop name:  Intellectual Property (IP) Workshop for K12 Educators \n",
      "3015\n",
      "213\n",
      "iso8601 date:  20220602\n",
      "link:  /about-us/events/intellectual-property-basics-and-helpful-resources-4\n",
      "workshop name:  Intellectual property basics and helpful resources\n",
      "3014\n",
      "149\n",
      "iso8601 date:  20220601\n",
      "link:  /learning-and-resources/kids-educators/k-12-ip-education-office-hours-12\n",
      "workshop name:  K-12 IP education office hours \n",
      "3013\n",
      "not here\n",
      "3012\n",
      "149\n",
      "iso8601 date:  20220531\n",
      "link:  /learning-and-resources/kids-educators/intellectual-property-ip-workshop-k12-educators-15\n",
      "workshop name:  Intellectual Property (IP) Workshop for K12 Educators \n",
      "3011\n",
      "213\n",
      "iso8601 date:  20220505\n",
      "link:  /about-us/events/intellectual-property-basics-and-helpful-resources-3\n",
      "workshop name:  Intellectual property basics and helpful resources\n",
      "3010\n",
      "not here\n",
      "3009\n",
      "149\n",
      "iso8601 date:  20220427\n",
      "link:  /learning-and-resources/kids-educators/k-12-ip-education-office-hours-11\n",
      "workshop name:  K-12 IP education office hours \n",
      "3008\n",
      "149\n",
      "iso8601 date:  20220426\n",
      "link:  /learning-and-resources/kids-educators/intellectual-property-ip-workshop-k12-educators-16\n",
      "workshop name:  Intellectual Property (IP) Workshop for K12 Educators \n",
      "3007\n",
      "213\n",
      "iso8601 date:  20220407\n",
      "link:  /about-us/events/intellectual-property-basics-and-helpful-resources-2\n",
      "workshop name:  Intellectual property basics and helpful resources\n",
      "3006\n",
      "not here\n",
      "3005\n",
      "149\n",
      "iso8601 date:  20220330\n",
      "link:  /learning-and-resources/kids-educators/k-12-ip-education-office-hours-10\n",
      "workshop name:  K-12 IP education office hours \n",
      "3004\n",
      "149\n",
      "iso8601 date:  20220329\n",
      "link:  /learning-and-resources/kids-educators/intellectual-property-ip-workshop-k12-educators-17\n",
      "workshop name:  Intellectual Property (IP) Workshop for K12 Educators \n",
      "3003\n",
      "244\n",
      "iso8601 date:  20220329\n",
      "link:  /about-us/events/patent-trial-and-appeal-board-presents-appeals-101\n",
      "workshop name:  Patent Trial and Appeal Board presents Appeals 101\n",
      "3002\n",
      "224\n",
      "iso8601 date:  20220317\n",
      "link:  /about-us/uspto-locations/silicon-valley-ca/path-patent-part-viii-common-mistakes-and-post-filing-0\n",
      "workshop name:  The Path to a Patent, Part VIII: Common mistakes and post-filing support\n",
      "3001\n",
      "275\n",
      "iso8601 date:  20220310\n",
      "link:  /about-us/uspto-locations/denver-co/path-patent-part-vii-how-file-patent-application-using-patent-0\n",
      "workshop name:  The Path to a Patent, Part VII: How to file a patent application using Patent Center\n",
      "3000\n",
      "224\n",
      "iso8601 date:  20220303\n",
      "link:  /about-us/uspto-locations/silicon-valley-ca/path-patent-part-vi-learn-how-protect-your-ip-abroad-5\n",
      "workshop name:  The Path to a Patent, Part VI: Learn how to protect your IP abroad\n",
      "2999\n",
      "236\n",
      "iso8601 date:  20220303\n",
      "link:  /about-us/events/intellectual-property-basics-and-helpful-resources-1\n",
      "workshop name:  Intellectual property basics and helpful resources \n",
      "2998\n",
      "279\n",
      "iso8601 date:  20220301\n",
      "link:  /about-us/events/trademark-basics-boot-camp-module-8-question-and-answer-panel-4\n",
      "workshop name:  Trademark Basics Boot Camp, Module 8: Question-and-answer panel\n",
      "2997\n",
      "not here\n",
      "2996\n",
      "236\n",
      "iso8601 date:  20220224\n",
      "link:  /about-us/events/intellectual-property-basics-and-helpful-resources-13\n",
      "workshop name:  Intellectual property basics and helpful resources \n",
      "2995\n",
      "153\n",
      "iso8601 date:  20220224\n",
      "link:  /about-us/events/2022-black-innovation-and-entrepreneurship-program-part-two-invest-ideas\n",
      "workshop name:  2022 Black Innovation and Entrepreneurship program, part two: Invest in ideas\n",
      "2994\n",
      "139\n",
      "iso8601 date:  20220224\n",
      "link:  /about-us/events/attend-docx-filing-training-60\n",
      "workshop name:  Attend DOCX filing training\n",
      "2993\n",
      "149\n",
      "iso8601 date:  20220223\n",
      "link:  /learning-and-resources/kids-educators/k-12-ip-education-office-hours-9\n",
      "workshop name:  K-12 IP education office hours \n",
      "2992\n",
      "149\n",
      "iso8601 date:  20220222\n",
      "link:  /learning-and-resources/kids-educators/intellectual-property-ip-workshop-k12-educators-18\n",
      "workshop name:  Intellectual Property (IP) Workshop for K12 Educators \n",
      "2991\n",
      "279\n",
      "iso8601 date:  20220222\n",
      "link:  /about-us/events/trademark-basics-boot-camp-module-7-keeping-your-registration-alive-5\n",
      "workshop name:  Trademark Basics Boot Camp, Module 7: Keeping your registration alive\n",
      "2990\n",
      "153\n",
      "iso8601 date:  20220217\n",
      "link:  /about-us/events/2022-black-innovation-and-entrepreneurship-program-part-one-defining-tomorrow\n",
      "workshop name:  2022 Black Innovation and Entrepreneurship program, part one: Defining tomorrow\n",
      "2989\n",
      "224\n",
      "iso8601 date:  20220217\n",
      "link:  /about-us/uspto-locations/silicon-valley-ca/path-patent-part-v-understanding-role-claims-patent-2\n",
      "workshop name:  The Path to a Patent, Part V: Understanding the role of claims in a patent application\n",
      "2988\n",
      "139\n",
      "iso8601 date:  20220217\n",
      "link:  /about-us/events/attend-docx-filing-training-56\n",
      "workshop name:  Attend DOCX filing training\n",
      "2987\n",
      "236\n",
      "iso8601 date:  20220215\n",
      "link:  /about-us/events/intellectual-property-basics-and-helpful-resources-12\n",
      "workshop name:  Intellectual property basics and helpful resources\n",
      "2986\n",
      "279\n",
      "iso8601 date:  20220215\n",
      "link:  /about-us/events/trademark-basics-boot-camp-module-6-responding-office-action-2\n",
      "workshop name:  Trademark Basics Boot Camp, Module 6: Responding to an office action\n",
      "2985\n",
      "139\n",
      "iso8601 date:  20220215\n",
      "link:  /about-us/events/attend-docx-filing-training-59\n",
      "workshop name:  Attend DOCX filing training\n",
      "2984\n",
      "244\n",
      "iso8601 date:  20220215\n",
      "link:  /about-us/events/uspto-guidance-and-policy-subject-matter-eligibility\n",
      "workshop name:  USPTO guidance and policy: Subject matter eligibility \n",
      "2983\n",
      "206\n",
      "iso8601 date:  20220210\n",
      "link:  /about-us/events/what-you-need-sell-your-arts-and-crafts-online-introduction-entrepreneurship-native\n",
      "workshop name:  What you need to sell your arts and crafts online: An introduction to entrepreneurship for Native American visual artists (Session 1)\n",
      "2982\n",
      "139\n",
      "iso8601 date:  20220210\n",
      "link:  /about-us/events/attend-docx-filing-training-58\n",
      "workshop name:  Attend DOCX filing training\n",
      "2981\n",
      "279\n",
      "iso8601 date:  20220208\n",
      "link:  /about-us/events/trademark-basics-boot-camp-module-5-application-filing-walk-through-2\n",
      "workshop name:  Trademark Basics Boot Camp, Module 5: Application filing walk-through\n",
      "2980\n",
      "139\n",
      "iso8601 date:  20220208\n",
      "link:  /about-us/events/attend-docx-filing-training-55\n",
      "workshop name:  Attend DOCX filing training\n",
      "2979\n",
      "242\n",
      "iso8601 date:  20220203\n",
      "link:  /about-us/uspto-locations/alexandria-va/path-patent-part-iv-learn-how-draft-patent-application\n",
      "workshop name:  The Path to a Patent, Part IV: Learn how to draft a patent application\n",
      "2978\n",
      "139\n",
      "iso8601 date:  20220203\n",
      "link:  /about-us/events/attend-docx-filing-training-54\n",
      "workshop name:  Attend DOCX filing training\n",
      "2977\n",
      "209\n",
      "iso8601 date:  20220203\n",
      "link:  /about-us/events/intellectual-property-basics-and-helpful-resources-0\n",
      "workshop name:  Intellectual property basics and helpful resources\n",
      "2976\n",
      "279\n",
      "iso8601 date:  20220201\n",
      "link:  /about-us/events/trademark-basics-boot-camp-module-4-application-requirements-2\n",
      "workshop name:  Trademark Basics Boot Camp, Module 4: Application requirements\n",
      "2975\n",
      "139\n",
      "iso8601 date:  20220201\n",
      "link:  /about-us/events/attend-docx-filing-training-57\n",
      "workshop name:  Attend DOCX filing training\n",
      "2974\n",
      "not here\n",
      "2973\n",
      "189\n",
      "iso8601 date:  20220128\n",
      "link:  /about-us/events/attend-trademark-public-advisory-committee-quarterly-meeting-11\n",
      "workshop name:  Attend the Trademark Public Advisory Committee quarterly meeting\n",
      "2972\n",
      "244\n",
      "iso8601 date:  20220127\n",
      "link:  /about-us/uspto-locations/denver-co/path-patent-part-iii-patent-searching-3\n",
      "workshop name:  The Path to a Patent, Part III: Patent searching\n",
      "2971\n",
      "139\n",
      "iso8601 date:  20220127\n",
      "link:  /about-us/events/attend-docx-filing-training-50\n",
      "workshop name:  Attend DOCX filing training\n",
      "2970\n",
      "155\n",
      "iso8601 date:  20220127\n",
      "link:  /about-us/events/ptab-inventor-hour-webinar-episode-4\n",
      "workshop name:  PTAB Inventor Hour webinar - Episode 4\n",
      "2969\n",
      "149\n",
      "iso8601 date:  20220126\n",
      "link:  /learning-and-resources/kids-educators/k-12-ip-education-office-hours-8\n",
      "workshop name:  K-12 IP education office hours \n",
      "2968\n",
      "206\n",
      "iso8601 date:  20220126\n",
      "link:  /learning-and-resources/general-help/together-innovation-inner-space-and-outer-space\n",
      "workshop name:  Together in Innovation: Inner space and outer space\n",
      "2967\n",
      "213\n",
      "iso8601 date:  20220126\n",
      "link:  /about-us/events/usptos-liquid-capital-data-resources-inventors\n",
      "workshop name:  USPTO's liquid capital: Data resources for inventors\n",
      "2966\n",
      "149\n",
      "iso8601 date:  20220125\n",
      "link:  /learning-and-resources/kids-educators/intellectual-property-ip-workshop-k12-educators-19\n",
      "workshop name:  Intellectual property (IP) workshop for K-12 educators \n",
      "2965\n",
      "279\n",
      "iso8601 date:  20220125\n",
      "link:  /about-us/events/trademark-basics-boot-camp-module-3-searching-2\n",
      "workshop name:  Trademark Basics Boot Camp, Module 3: Searching\n",
      "2964\n",
      "139\n",
      "iso8601 date:  20220125\n",
      "link:  /about-us/events/attend-docx-filing-training-53\n",
      "workshop name:  Attend DOCX filing training\n",
      "2963\n",
      "227\n",
      "iso8601 date:  20220120\n",
      "link:  /about-us/events/intellectual-property-basics-and-helpful-resources-11\n",
      "workshop name:  Intellectual property basics and helpful resources\n"
     ]
    }
   ],
   "source": [
    "# this checks if the workshop is after the current date\n",
    "url_start = \"https://www.uspto.gov\"\n",
    "current_date = 20220122\n",
    "# date = 20221231\n",
    "date = 20220201\n",
    "index = len(tr)-1\n",
    "while(date >= current_date):\n",
    "    print(index)\n",
    "    if(str(tr[index]).find(\"date=\")!=-1):\n",
    "        string = str(tr[index])\n",
    "        date_index=(string.find(\"date=\"))+6\n",
    "        print(date_index)\n",
    "        print(\"iso8601 date: \",string[date_index:date_index+8])\n",
    "        date = int(string[date_index:date_index+8])\n",
    "        url_workshop = tr[index].find(href=True)['href']\n",
    "        print(\"link: \", url_workshop)\n",
    "        print(\"workshop name: \", tr[index].select_one('a').text)\n",
    "        # store this info in a dataframe\n",
    "        # pull time info from a dataframe. get from description file, <div class=\"event-info\">\n",
    "        # or <var class=\"atc_date_start\"> <-- probbly get from that, since date is already in \n",
    "        # eastern time\n",
    "         \n",
    "    else:\n",
    "        print(\"not here\")\n",
    "    index = index - 1\n",
    "    \n",
    "    \n",
    "    "
   ]
  },
  {
   "cell_type": "code",
   "execution_count": 17,
   "id": "9f87e55a",
   "metadata": {},
   "outputs": [
    {
     "name": "stdout",
     "output_type": "stream",
     "text": [
      "description:  Unfamiliar with patents, trademarks, copyrights, and trade secrets? Don’t miss this opportunity to learn from United States Patent and Trademark Office (USPTO) experts about intellectual property (IP) basics and potential ways to protect your innovation as you transition from idea to product.\n"
     ]
    }
   ],
   "source": [
    "        # description pull this later, getting url_workshop from dataframe\n",
    "        webpage = requests.get(url_start+url_workshop, headers=headers)\n",
    "        soup_workshop = BeautifulSoup(webpage.content, 'html.parser')\n",
    "        workshop_description = soup_workshop.select_one('var.atc_description').text\n",
    "        xml_description = workshop_description[0:workshop_description.find('\\n')].strip().replace('\\xa0', ' ')\n",
    "        print(\"description: \", xml_description)\n",
    "        #time.sleep(5)\n"
   ]
  },
  {
   "cell_type": "code",
   "execution_count": 47,
   "id": "8c5cf8f9",
   "metadata": {},
   "outputs": [
    {
     "data": {
      "text/plain": [
       "'2022-01-20 20:00:00'"
      ]
     },
     "execution_count": 47,
     "metadata": {},
     "output_type": "execute_result"
    }
   ],
   "source": [
    "soup_workshop.select_one('var.atc_date_start').text"
   ]
  },
  {
   "cell_type": "code",
   "execution_count": 19,
   "id": "4737543d",
   "metadata": {},
   "outputs": [],
   "source": [
    "import datetime"
   ]
  },
  {
   "cell_type": "code",
   "execution_count": 48,
   "id": "7bdf47db",
   "metadata": {},
   "outputs": [],
   "source": [
    "workshop_time = soup_workshop.select_one('var.atc_date_start').text"
   ]
  },
  {
   "cell_type": "code",
   "execution_count": 49,
   "id": "888d062f",
   "metadata": {},
   "outputs": [],
   "source": [
    "workshop_time = workshop_time.replace(\" \", \"T\")"
   ]
  },
  {
   "cell_type": "code",
   "execution_count": 50,
   "id": "2ef55d29",
   "metadata": {},
   "outputs": [],
   "source": [
    "workshop_time = datetime.datetime.fromisoformat(workshop_time)"
   ]
  },
  {
   "cell_type": "code",
   "execution_count": 51,
   "id": "0b10ea37",
   "metadata": {},
   "outputs": [
    {
     "data": {
      "text/plain": [
       "'Thu Jan 20 20:00:00 2022'"
      ]
     },
     "execution_count": 51,
     "metadata": {},
     "output_type": "execute_result"
    }
   ],
   "source": [
    "# workshop_time.strftime(\"%c\")"
   ]
  },
  {
   "cell_type": "code",
   "execution_count": 52,
   "id": "bfe2125f",
   "metadata": {},
   "outputs": [
    {
     "name": "stdout",
     "output_type": "stream",
     "text": [
      "Thu, 20 Jan 2022 20:00:00 EST\n"
     ]
    }
   ],
   "source": [
    "#  Sat, 22 Jan 2022 10:30:00 PST\n",
    "print(workshop_time.strftime(\"%a, %d %b %Y %X EST\"))"
   ]
  },
  {
   "cell_type": "code",
   "execution_count": null,
   "id": "38de0c1a",
   "metadata": {},
   "outputs": [],
   "source": []
  },
  {
   "cell_type": "code",
   "execution_count": 61,
   "id": "1dba914a",
   "metadata": {},
   "outputs": [],
   "source": [
    "url_start = \"https://www.uspto.gov\"\n",
    "url_workshop = \"/about-us/events/intellectual-property-basics-and-helpful-resources-10\""
   ]
  },
  {
   "cell_type": "code",
   "execution_count": 62,
   "id": "eca3bcdb",
   "metadata": {},
   "outputs": [],
   "source": [
    "webpage = requests.get(url_start+url_workshop)\n"
   ]
  },
  {
   "cell_type": "code",
   "execution_count": 81,
   "id": "0509f866",
   "metadata": {},
   "outputs": [],
   "source": [
    "soup_workshop = BeautifulSoup(webpage.content, 'html.parser')\n",
    "workshop_description = soup_workshop.select_one('var.atc_description').text"
   ]
  },
  {
   "cell_type": "code",
   "execution_count": 83,
   "id": "a979179e",
   "metadata": {},
   "outputs": [
    {
     "data": {
      "text/plain": [
       "295"
      ]
     },
     "execution_count": 83,
     "metadata": {},
     "output_type": "execute_result"
    }
   ],
   "source": [
    "workshop_description.find('\\n')"
   ]
  },
  {
   "cell_type": "code",
   "execution_count": 89,
   "id": "1dbb9042",
   "metadata": {},
   "outputs": [
    {
     "data": {
      "text/plain": [
       "'Unfamiliar with patents, trademarks, copyrights, and trade secrets? Don’t miss this opportunity to learn from United States Patent and Trademark Office (USPTO) experts about intellectual property (IP) basics and potential ways to protect your innovation as you transition from idea to product.'"
      ]
     },
     "execution_count": 89,
     "metadata": {},
     "output_type": "execute_result"
    }
   ],
   "source": [
    "workshop_description[0:workshop_description.find('\\n')].strip().replace('\\xa0', ' ')"
   ]
  },
  {
   "cell_type": "code",
   "execution_count": 77,
   "id": "5d04e2d7",
   "metadata": {},
   "outputs": [
    {
     "data": {
      "text/plain": [
       "[<var class=\"atc_description\"> Unfamiliar with patents, trademarks, copyrights, and trade secrets? Don’t miss this opportunity to learn from United States Patent and Trademark Office (USPTO) experts about intellectual property (IP) basics and potential ways to protect your innovation as you transition from idea to product. \n",
       " The USPTO offers this free event for aspiring entrepreneurs, innovators, and students the first Thursday of every month. \n",
       " Register today \n",
       " The discussion will cover:\n",
       " An overview of intellectual property types: patents, trademarks, copyrights, and trade secrets\tWhy innovators and entrepreneurs should consider protecting their IP\tLocal resources and assistance available through the USPTO and other agencies\n",
       " For questions or more information, email Events@uspto.gov. </var>]"
      ]
     },
     "execution_count": 77,
     "metadata": {},
     "output_type": "execute_result"
    }
   ],
   "source": [
    "soup_workshop.find_all(class_=\"atc_description\")"
   ]
  },
  {
   "cell_type": "code",
   "execution_count": 80,
   "id": "447d4b0e",
   "metadata": {},
   "outputs": [
    {
     "data": {
      "text/plain": [
       "' Unfamiliar with patents, trademarks, copyrights, and trade secrets?\\xa0Don’t miss this opportunity to learn from United States Patent and Trademark Office (USPTO) experts about intellectual property (IP) basics and potential ways to protect your innovation as you transition from idea to product.\\xa0\\nThe USPTO offers this free event for aspiring entrepreneurs, innovators, and students the first Thursday of every month.\\xa0\\nRegister today\\xa0\\nThe discussion will cover:\\nAn overview of intellectual property types: patents, trademarks, copyrights, and trade secrets\\tWhy innovators and entrepreneurs should consider protecting their IP\\tLocal resources and assistance available through the USPTO and other agencies\\nFor questions or more information, email\\xa0Events@uspto.gov. '"
      ]
     },
     "execution_count": 80,
     "metadata": {},
     "output_type": "execute_result"
    }
   ],
   "source": [
    "soup_workshop.select_one('var.atc_description').text"
   ]
  },
  {
   "cell_type": "code",
   "execution_count": 61,
   "id": "e6fc53fb",
   "metadata": {},
   "outputs": [
    {
     "data": {
      "text/plain": [
       "<tr class=\"type-public-events type-guidance---training topic-alexandria-va-headquarters topic-dallas topic-denver topic-silicon-valley topic-detroit topic-all-topics type-all-event-types year-now year-2022\" date=\"20221201\"><td class=\"day views-field views-field-field-date-range-2\" headers=\"view-field-date-range-2-table-column--96\"><div>1</div>\n",
       "</td>\n",
       "<td class=\"name views-field views-field-title\"><a href=\"/about-us/events/intellectual-property-basics-and-helpful-resources-10\" hreflang=\"en\">Intellectual property basics and helpful resources</a> </td>\n",
       "<td class=\"location views-field views-field-field-address\">Virtual\n",
       "          </td>\n",
       "<td class=\"time views-field views-field-field-date-range-3\" headers=\"view-field-date-range-3-table-column--96\"><div>12:00 p.m. ET</div>\n",
       "</td>\n",
       "</tr>"
      ]
     },
     "execution_count": 61,
     "metadata": {},
     "output_type": "execute_result"
    }
   ],
   "source": [
    "tr[index]"
   ]
  },
  {
   "cell_type": "code",
   "execution_count": 91,
   "id": "b74d2539",
   "metadata": {},
   "outputs": [],
   "source": [
    "import time"
   ]
  },
  {
   "cell_type": "code",
   "execution_count": 92,
   "id": "0a488669",
   "metadata": {},
   "outputs": [],
   "source": [
    "time.sleep(6)"
   ]
  },
  {
   "cell_type": "code",
   "execution_count": 53,
   "id": "fb79a9ac",
   "metadata": {},
   "outputs": [],
   "source": [
    "import pandas as pd"
   ]
  },
  {
   "cell_type": "code",
   "execution_count": 55,
   "id": "058472e1",
   "metadata": {},
   "outputs": [],
   "source": [
    "events = pd.DataFrame(columns = ['item', 'title', 'link', 'guid', 'pubDate', 'description'])"
   ]
  },
  {
   "cell_type": "code",
   "execution_count": null,
   "id": "b709972b",
   "metadata": {},
   "outputs": [],
   "source": []
  }
 ],
 "metadata": {
  "kernelspec": {
   "display_name": "Python 3",
   "language": "python",
   "name": "python3"
  },
  "language_info": {
   "codemirror_mode": {
    "name": "ipython",
    "version": 3
   },
   "file_extension": ".py",
   "mimetype": "text/x-python",
   "name": "python",
   "nbconvert_exporter": "python",
   "pygments_lexer": "ipython3",
   "version": "3.8.8"
  }
 },
 "nbformat": 4,
 "nbformat_minor": 5
}
