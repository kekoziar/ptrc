{
 "cells": [
  {
   "cell_type": "code",
   "execution_count": 1,
   "id": "f9b7ea00",
   "metadata": {},
   "outputs": [],
   "source": [
    "import requests #http://docs.python-requests.org/en/master/ \n",
    "from bs4 import BeautifulSoup\n",
    "from datetime import datetime as dt\n",
    "from datetime import timedelta\n",
    "import time\n",
    "import pandas as pd"
   ]
  },
  {
   "cell_type": "code",
   "execution_count": 2,
   "id": "266a5628",
   "metadata": {},
   "outputs": [],
   "source": [
    "url = \"https://www.uspto.gov/about-us/events\"\n",
    "headers = {\"User-Agent\":\"kekoziar_ptrc/0.0 (Language=Python/3.9.7; Host=https://github.com/kekoziar/ptrc; email=katherine.koziar@ucr.edu) python-requests/2.26.0\"}\n",
    "events = pd.DataFrame(columns = ['title', 'link', 'pubDate', 'description', 'page_owner','date_index'])"
   ]
  },
  {
   "cell_type": "code",
   "execution_count": 3,
   "id": "0e4ee447",
   "metadata": {},
   "outputs": [],
   "source": [
    "webpage = requests.get(url, headers=headers)"
   ]
  },
  {
   "cell_type": "code",
   "execution_count": 4,
   "id": "5f169bf3",
   "metadata": {},
   "outputs": [],
   "source": [
    "soup = BeautifulSoup(webpage.content, 'html.parser')\n",
    "tr = soup.find_all('tr')"
   ]
  },
  {
   "cell_type": "markdown",
   "id": "78ce6f64",
   "metadata": {},
   "source": [
    "## Update Event List"
   ]
  },
  {
   "cell_type": "code",
   "execution_count": 5,
   "id": "228a6ed4",
   "metadata": {},
   "outputs": [],
   "source": [
    "# updates the event list based on previously created csv\n",
    "events_df = pd.read_csv(\"../data/events.csv\")"
   ]
  },
  {
   "cell_type": "code",
   "execution_count": 6,
   "id": "1f9edae1",
   "metadata": {},
   "outputs": [
    {
     "name": "stdout",
     "output_type": "stream",
     "text": [
      "link:  /about-us/uspto-locations/alexandria-va/blockchain-ip-introduction-blockchain-ip\n",
      "new event\n",
      "fin\n"
     ]
    }
   ],
   "source": [
    "# this checks if the workshop is after the current date\n",
    "url_start = \"https://www.uspto.gov\"\n",
    "current_date = (dt.now() + timedelta(days=1)).strftime(\"%Y%m%d\")\n",
    "current_date = int(current_date)\n",
    "date = 20221231\n",
    "\n",
    "index = len(tr)-1\n",
    "\n",
    "while(date >= current_date):\n",
    "#    print(index)\n",
    "    if(str(tr[index]).find(\"date=\")!=-1):\n",
    "        string = str(tr[index])\n",
    "        date_index=(string.find(\"date=\"))+6\n",
    "        date = int(string[date_index:date_index+8])\n",
    "        if(date >= current_date):\n",
    "            workshop_url = tr[index].find(href=True)['href']\n",
    "            if not (events_df[events_df[\"link\"] == url_start+workshop_url].index.tolist()):\n",
    "                print(\"link: \", workshop_url)\n",
    "                print(\"new event\")\n",
    "                \n",
    "                webpage = requests.get(url_start+workshop_url, headers = headers)\n",
    "                soup_workshop = BeautifulSoup(webpage.content, 'html.parser')\n",
    "\n",
    "                workshop_title = soup_workshop.find('meta', {\"name\":\"dcterms.title\"})\n",
    "                workshop_pageowner = soup_workshop.find('meta', {\"name\":\"uspto.pageowner\"})\n",
    "\n",
    "                workshop_description = soup_workshop.select_one('var.atc_description').text\n",
    "                workshop_description = workshop_description[0:workshop_description.find('\\n')].strip().replace('\\xa0', ' ')\n",
    "                workshop_description = workshop_description.replace('\\u200b','')\n",
    "                if(workshop_description == \"Image\"):\n",
    "                    workshop_description = \" \"\n",
    "                if(not(len(workshop_description))):\n",
    "                    workshop_description = \" \"\n",
    "\n",
    "                workshop_time = soup_workshop.select_one('var.atc_date_start').text\n",
    "                workshop_time = workshop_time.replace(\" \", \"T\")\n",
    "                workshop_time = dt.fromisoformat(workshop_time)\n",
    "\n",
    "                workshop_info = pd.DataFrame({\n",
    "                    \"title\": [workshop_title[\"content\"]], \n",
    "                    \"link\": [url_start+workshop_url], \n",
    "                    \"pubDate\": [workshop_time.strftime(\"%a, %d %b %Y %X EST\")], \n",
    "                    \"description\": [workshop_description],\n",
    "                    \"page_owner\": [workshop_pageowner[\"content\"]], \n",
    "                    \"date_index\": [date]\n",
    "                })        \n",
    "                new = [events, workshop_info]\n",
    "                events = pd.concat(new)\n",
    "                time.sleep(1)\n",
    "\n",
    "\n",
    "#    else:\n",
    "#        print(\"not here\")\n",
    "    index = index - 1\n",
    "print(\"fin\")"
   ]
  },
  {
   "cell_type": "code",
   "execution_count": 7,
   "id": "ad216425",
   "metadata": {},
   "outputs": [],
   "source": [
    "events_df = events_df[events_df[\"date_index\"] > current_date]"
   ]
  },
  {
   "cell_type": "code",
   "execution_count": 8,
   "id": "eb5c864c",
   "metadata": {},
   "outputs": [],
   "source": [
    "new = [events_df[['title', 'link', 'pubDate', 'description', 'page_owner','date_index']], events]\n",
    "events = pd.concat(new)\n",
    "events = events.sort_values(by=[\"date_index\"])"
   ]
  },
  {
   "cell_type": "code",
   "execution_count": 9,
   "id": "4e4fdb74",
   "metadata": {},
   "outputs": [],
   "source": [
    "events.to_csv(\"../data/events.csv\")"
   ]
  },
  {
   "cell_type": "code",
   "execution_count": null,
   "id": "225822f8",
   "metadata": {},
   "outputs": [],
   "source": []
  },
  {
   "cell_type": "markdown",
   "id": "93ee7bfd",
   "metadata": {},
   "source": [
    "# create xml file"
   ]
  },
  {
   "cell_type": "code",
   "execution_count": 15,
   "id": "5c88adac",
   "metadata": {},
   "outputs": [],
   "source": [
    "xml_files = [\"All\", \"Patent\", \"Trademark\", \"Other\"]"
   ]
  },
  {
   "cell_type": "code",
   "execution_count": 16,
   "id": "7ec381f4",
   "metadata": {},
   "outputs": [],
   "source": [
    "xml_dict = {\"All\": [\"<?xml version=\\\"1.0\\\" encoding=\\\"utf-8\\\"?>\\n<rss version=\\\"2.0\\\">\\n<channel>\\n\"], \n",
    "             \"Patent\": [\"<?xml version=\\\"1.0\\\" encoding=\\\"utf-8\\\"?>\\n<rss version=\\\"2.0\\\">\\n<channel>\\n\"],\n",
    "             \"Trademark\": [\"<?xml version=\\\"1.0\\\" encoding=\\\"utf-8\\\"?>\\n<rss version=\\\"2.0\\\">\\n<channel>\\n\"] , \n",
    "             \"Other\": [\"<?xml version=\\\"1.0\\\" encoding=\\\"utf-8\\\"?>\\n<rss version=\\\"2.0\\\">\\n<channel>\\n\"]\n",
    "            }"
   ]
  },
  {
   "cell_type": "code",
   "execution_count": 17,
   "id": "cf184bae",
   "metadata": {},
   "outputs": [],
   "source": [
    "for category in xml_files:\n",
    "    xml_dict[category].append(\"<title>USPTO \"+category+\" Events</title>\\n<link>https://guides.lib.ucr.edu/c.php?g=932732</link>\\n\")\n",
    "    xml_dict[category].append(\"<description>This feed provides easy access to USPTO \"+category+\" events.</description>\\n<language>en-us</language>\\n\")    \n",
    "    xml_dict[category].append(\"<lastBuildDate>\"+dt.now().strftime(\"%a, %d %b %Y %X PST\")+\"</lastBuildDate>\\n<webMaster>katherine.koziar@ucr.edu</webMaster>\\n\\n\")        "
   ]
  },
  {
   "cell_type": "code",
   "execution_count": 18,
   "id": "728c68b4",
   "metadata": {},
   "outputs": [],
   "source": [
    "for i in range(len(events)):\n",
    "    title = \"\\n<item> <title>\"+events.iloc[i, 0]+\"</title>\\n\"\n",
    "    title = title.replace(\"’\",\"'\")\n",
    "    title = title.replace(\"“\",\"'\")\n",
    "    title = title.replace(\"”\",\"'\")\n",
    "    title = title.replace(\"á\",\"&#225;\")\n",
    "    title = title.replace(\"é\",\"&#233;\")\n",
    "    title = title.replace(\"í\",\"&#237;\")\n",
    "    title = title.replace(\"ó\",\"&#243;\")\n",
    "    title = title.replace(\"ú\",\"&#250;\")\n",
    "    title = title.replace(\"ñ\",\"&#241;\")\n",
    "    title = title.replace(\"Á\",\"&#192;\")\n",
    "    title = title.replace(\"É\",\"&#201;\")\n",
    "    title = title.replace(\"Í\",\"&#205;\")\n",
    "    title = title.replace(\"Ó\",\"&#211;\")\n",
    "    title = title.replace(\"Ú\",\"&#218;\")\n",
    "    title = title.replace(\"Ñ\",\"&#209;\")\n",
    "    title = title.replace(\"§\",\"&#167;\")     \n",
    "    title = title.replace(\"–\",\"&#8212;\")  \n",
    "    title = title.replace(\"&\",\"&#38;\")\n",
    "    link = \"\\t<link>\"+events.iloc[i,1]+\"</link>\\n\"\n",
    "    guid = \"\\t<guid>\"+events.iloc[i,1]+\"</guid>\\n\"\n",
    "    pubDate = \"\\t<pubDate>\"+events.iloc[i,2]+\"</pubDate>\\n\"\n",
    "    description = \"\\t<description>\"+events.iloc[i,3]+\"</description>\\n\"\n",
    "    description = description.replace(\"’\",\"'\")\n",
    "    description = description.replace(\"“\",\"'\")\n",
    "    description = description.replace(\"”\",\"'\")\n",
    "    description = description.replace(\"á\",\"&#225;\")\n",
    "    description = description.replace(\"é\",\"&#233;\")\n",
    "    description = description.replace(\"í\",\"&#237;\")\n",
    "    description = description.replace(\"ó\",\"&#243;\")\n",
    "    description = description.replace(\"ú\",\"&#250;\")\n",
    "    description = description.replace(\"ñ\",\"&#241;\")\n",
    "    description = description.replace(\"Á\",\"&#192;\")\n",
    "    description = description.replace(\"É\",\"&#201;\")\n",
    "    description = description.replace(\"Í\",\"&#205;\")\n",
    "    description = description.replace(\"Ó\",\"&#211;\")\n",
    "    description = description.replace(\"Ú\",\"&#218;\")\n",
    "    description = description.replace(\"Ñ\",\"&#209;\")     \n",
    "    description = description.replace(\"§\",\"&#167;\")  \n",
    "    description = description.replace(\"–\",\"&#8212;\")  \n",
    "    description = description.replace(\"&\",\"&#38;\")  \n",
    "    enditem = \"</item>\\n\\n\"\n",
    "    \n",
    "    xml_dict[\"All\"].append(title+link+guid+pubDate+description+enditem)\n",
    "    \n",
    "    if(events.iloc[i,4] == 'All Regions') or (events.iloc[i,4] == 'ecommerce'):\n",
    "        xml_dict[\"Patent\"].append(title+link+guid+pubDate+description+enditem)\n",
    "    elif (events.iloc[i,4] == 'Trademarks'):\n",
    "        xml_dict[\"Trademark\"].append(title+link+guid+pubDate+description+enditem)\n",
    "    else:\n",
    "        xml_dict[\"Other\"].append(title+link+guid+pubDate+description+enditem)\n"
   ]
  },
  {
   "cell_type": "code",
   "execution_count": 19,
   "id": "1323a527",
   "metadata": {},
   "outputs": [],
   "source": [
    "for category in xml_files:\n",
    "    xml_dict[category].append(\"\\n</channel>\\n</rss>\")    \n",
    "    temp = \" \" \n",
    "    temp = temp.join(xml_dict[category])\n",
    "    xml_file = open(\"../rss-\"+category.lower()+\".xml\", \"w\")\n",
    "    xml_file.write(temp)\n",
    "    xml_file.close()"
   ]
  },
  {
   "cell_type": "code",
   "execution_count": null,
   "id": "85335f3b",
   "metadata": {},
   "outputs": [],
   "source": []
  },
  {
   "cell_type": "markdown",
   "id": "03b81c89",
   "metadata": {},
   "source": [
    "# Create dataframe"
   ]
  },
  {
   "cell_type": "code",
   "execution_count": null,
   "id": "15e789c8",
   "metadata": {},
   "outputs": [],
   "source": [
    "# if the events df needs to be rebuilt from scratch"
   ]
  },
  {
   "cell_type": "code",
   "execution_count": 51,
   "id": "10005678",
   "metadata": {},
   "outputs": [],
   "source": [
    "# this checks if the workshop is after the current date\n",
    "url_start = \"https://www.uspto.gov\"\n",
    "current_date = (dt.now() + timedelta(days=1)).strftime(\"%Y%m%d\")\n",
    "current_date = int(current_date)\n",
    "date = 20221231\n",
    "\n",
    "index = len(tr)-1\n",
    "\n",
    "while(date >= current_date):\n",
    "#    print(index)\n",
    "    if(str(tr[index]).find(\"date=\")!=-1):\n",
    "        string = str(tr[index])\n",
    "        date_index=(string.find(\"date=\"))+6\n",
    "        date = int(string[date_index:date_index+8])\n",
    "        if(date >= current_date):\n",
    "            workshop_url = tr[index].find(href=True)['href']\n",
    "    #        print(\"link: \", workshop_url)\n",
    "\n",
    "            webpage = requests.get(url_start+workshop_url, headers = headers)\n",
    "            soup_workshop = BeautifulSoup(webpage.content, 'html.parser')\n",
    "\n",
    "            workshop_title = soup_workshop.find('meta', {\"name\":\"dcterms.title\"})\n",
    "            workshop_pageowner = soup_workshop.find('meta', {\"name\":\"uspto.pageowner\"})\n",
    "\n",
    "            workshop_description = soup_workshop.select_one('var.atc_description').text\n",
    "            workshop_description = workshop_description[0:workshop_description.find('\\n')].strip().replace('\\xa0', ' ')\n",
    "            workshop_description = workshop_description.replace('\\u200b','')\n",
    "            if(workshop_description == \"Image\"):\n",
    "                workshop_description = \" \"\n",
    "            if(not(len(workshop_description))):\n",
    "                workshop_description = \" \"\n",
    "\n",
    "            workshop_time = soup_workshop.select_one('var.atc_date_start').text\n",
    "            workshop_time = workshop_time.replace(\" \", \"T\")\n",
    "            workshop_time = dt.fromisoformat(workshop_time)\n",
    "\n",
    "            workshop_info = pd.DataFrame({\n",
    "                \"title\": [workshop_title[\"content\"]], \n",
    "                \"link\": [url_start+workshop_url], \n",
    "                \"pubDate\": [workshop_time.strftime(\"%a, %d %b %Y %X EST\")], \n",
    "                \"description\": [workshop_description],\n",
    "                \"page_owner\": [workshop_pageowner[\"content\"]], \n",
    "                \"date_index\": [date]\n",
    "            })        \n",
    "            new = [events, workshop_info]\n",
    "            events = pd.concat(new)\n",
    "            time.sleep(1)\n",
    "#    else:\n",
    "#        print(\"not here\")\n",
    "    index = index - 1"
   ]
  },
  {
   "cell_type": "code",
   "execution_count": 52,
   "id": "94a9a329",
   "metadata": {},
   "outputs": [],
   "source": [
    "events = events.sort_values(by=[\"date_index\"])\n",
    "events.to_csv(\"../data/events.csv\")"
   ]
  },
  {
   "cell_type": "code",
   "execution_count": null,
   "id": "3e9522c3",
   "metadata": {},
   "outputs": [],
   "source": []
  },
  {
   "cell_type": "code",
   "execution_count": null,
   "id": "1e20ba7d",
   "metadata": {},
   "outputs": [],
   "source": []
  }
 ],
 "metadata": {
  "kernelspec": {
   "display_name": "Python 3",
   "language": "python",
   "name": "python3"
  },
  "language_info": {
   "codemirror_mode": {
    "name": "ipython",
    "version": 3
   },
   "file_extension": ".py",
   "mimetype": "text/x-python",
   "name": "python",
   "nbconvert_exporter": "python",
   "pygments_lexer": "ipython3",
   "version": "3.8.8"
  }
 },
 "nbformat": 4,
 "nbformat_minor": 5
}
