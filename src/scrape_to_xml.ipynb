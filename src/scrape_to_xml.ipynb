{
 "cells": [
  {
   "cell_type": "code",
   "execution_count": 1,
   "id": "009ca829",
   "metadata": {},
   "outputs": [],
   "source": [
    "import requests #http://docs.python-requests.org/en/master/ \n",
    "from bs4 import BeautifulSoup\n",
    "from datetime import datetime as dt\n",
    "from datetime import timedelta\n",
    "import time\n",
    "import pandas as pd"
   ]
  },
  {
   "cell_type": "code",
   "execution_count": 2,
   "id": "90e782a2",
   "metadata": {},
   "outputs": [],
   "source": [
    "url = \"https://www.uspto.gov/about-us/events\"\n",
    "headers = {\"User-Agent\":\"kekoziar_ptrc/0.0 (Language=Python/3.9.7; Host=https://github.com/kekoziar/ptrc; email=katherine.koziar@ucr.edu) python-requests/2.26.0\"}\n",
    "events = pd.DataFrame(columns = ['title', 'link', 'pubDate', 'description', 'page_owner','date_index'])"
   ]
  },
  {
   "cell_type": "code",
   "execution_count": 3,
   "id": "3c47b337",
   "metadata": {},
   "outputs": [],
   "source": [
    "webpage = requests.get(url, headers=headers)"
   ]
  },
  {
   "cell_type": "code",
   "execution_count": 4,
   "id": "f4007562",
   "metadata": {},
   "outputs": [],
   "source": [
    "soup = BeautifulSoup(webpage.content, 'html.parser')\n",
    "tr = soup.find_all('tr')"
   ]
  },
  {
   "cell_type": "markdown",
   "id": "ab48db19",
   "metadata": {},
   "source": [
    "# Create dataframe"
   ]
  },
  {
   "cell_type": "code",
   "execution_count": 5,
   "id": "3b401074",
   "metadata": {},
   "outputs": [],
   "source": [
    "# this checks if the workshop is after the current date\n",
    "url_start = \"https://www.uspto.gov\"\n",
    "current_date = (dt.now() + timedelta(days=1)).strftime(\"%Y%m%d\")\n",
    "current_date = int(current_date)\n",
    "date = 20221231\n",
    "\n",
    "index = len(tr)-1\n",
    "\n",
    "while(date >= current_date):\n",
    "#    print(index)\n",
    "    if(str(tr[index]).find(\"date=\")!=-1):\n",
    "        string = str(tr[index])\n",
    "        date_index=(string.find(\"date=\"))+6\n",
    "        date = int(string[date_index:date_index+8])\n",
    "        if(date >= current_date):\n",
    "            workshop_url = tr[index].find(href=True)['href']\n",
    "    #        print(\"link: \", workshop_url)\n",
    "\n",
    "            webpage = requests.get(url_start+workshop_url, headers = headers)\n",
    "            soup_workshop = BeautifulSoup(webpage.content, 'html.parser')\n",
    "\n",
    "            workshop_title = soup_workshop.find('meta', {\"name\":\"dcterms.title\"})\n",
    "            workshop_pageowner = soup_workshop.find('meta', {\"name\":\"uspto.pageowner\"})\n",
    "\n",
    "            workshop_description = soup_workshop.select_one('var.atc_description').text\n",
    "            workshop_description = workshop_description[0:workshop_description.find('\\n')].strip().replace('\\xa0', ' ')\n",
    "            workshop_description = workshop_description.replace('\\u200b','')\n",
    "\n",
    "            workshop_time = soup_workshop.select_one('var.atc_date_start').text\n",
    "            workshop_time = workshop_time.replace(\" \", \"T\")\n",
    "            workshop_time = dt.fromisoformat(workshop_time)\n",
    "\n",
    "            workshop_info = pd.DataFrame({\n",
    "                \"title\": [workshop_title[\"content\"]], \n",
    "                \"link\": [url_start+workshop_url], \n",
    "                \"pubDate\": [workshop_time.strftime(\"%a, %d %b %Y %X EST\")], \n",
    "                \"description\": [workshop_description],\n",
    "                \"page_owner\": [workshop_pageowner[\"content\"]], \n",
    "                \"date_index\": [date]\n",
    "            })        \n",
    "            new = [events, workshop_info]\n",
    "            events = pd.concat(new)\n",
    "            time.sleep(1)\n",
    "#    else:\n",
    "#        print(\"not here\")\n",
    "    index = index - 1"
   ]
  },
  {
   "cell_type": "code",
   "execution_count": 6,
   "id": "07574511",
   "metadata": {},
   "outputs": [],
   "source": [
    "events = events.sort_values(by=[\"date_index\"])\n",
    "events.to_csv(\"../data/events.csv\")"
   ]
  },
  {
   "cell_type": "code",
   "execution_count": null,
   "id": "8b920c01",
   "metadata": {},
   "outputs": [],
   "source": []
  },
  {
   "cell_type": "markdown",
   "id": "68c4920f",
   "metadata": {},
   "source": [
    "# create xml file"
   ]
  },
  {
   "cell_type": "code",
   "execution_count": 7,
   "id": "cda96452",
   "metadata": {},
   "outputs": [],
   "source": [
    "xml_files = [\"All\", \"Patent\", \"Trademark\", \"Other\"]"
   ]
  },
  {
   "cell_type": "code",
   "execution_count": 8,
   "id": "1469cca5",
   "metadata": {},
   "outputs": [],
   "source": [
    "xml_dict = {\"All\": [\"<?xml version=\\\"1.0\\\" encoding=\\\"utf-8\\\"?>\\n<rss version=\\\"2.0\\\">\\n<channel>\\n\"], \n",
    "             \"Patent\": [\"<?xml version=\\\"1.0\\\" encoding=\\\"utf-8\\\"?>\\n<rss version=\\\"2.0\\\">\\n<channel>\\n\"],\n",
    "             \"Trademark\": [\"<?xml version=\\\"1.0\\\" encoding=\\\"utf-8\\\"?>\\n<rss version=\\\"2.0\\\">\\n<channel>\\n\"] , \n",
    "             \"Other\": [\"<?xml version=\\\"1.0\\\" encoding=\\\"utf-8\\\"?>\\n<rss version=\\\"2.0\\\">\\n<channel>\\n\"]\n",
    "            }"
   ]
  },
  {
   "cell_type": "code",
   "execution_count": 9,
   "id": "f1d1d2b8",
   "metadata": {},
   "outputs": [],
   "source": [
    "for category in xml_files:\n",
    "    xml_dict[category].append(\"<title>USPTO \"+category+\" Events</title>\\n<link>https://guides.lib.ucr.edu/c.php?g=932732</link>\\n\")\n",
    "    xml_dict[category].append(\"<description>This feed provides easy access to USPTO \"+category+\" events.</description>\\n<language>en-us</language>\\n\")    \n",
    "    xml_dict[category].append(\"<lastBuildDate>\"+dt.now().strftime(\"%a, %d %b %Y %X PST\")+\"</lastBuildDate>\\n<webMaster>katherine.koziar@ucr.edu</webMaster>\\n\\n\")        "
   ]
  },
  {
   "cell_type": "code",
   "execution_count": 10,
   "id": "8587f9ba",
   "metadata": {},
   "outputs": [],
   "source": [
    "for i in range(len(events)):\n",
    "    title = \"\\n<item> <title>\"+events.iloc[i, 0]+\"</title>\\n\"\n",
    "    link = \"\\t<link>\"+events.iloc[i,1]+\"</link>\\n\"\n",
    "    guid = \"\\t<guid>\"+events.iloc[i,1]+\"</guid>\\n\"\n",
    "    pubDate = \"\\t<pubDate>\"+events.iloc[i,2]+\"</pubDate>\\n\"\n",
    "    description = \"\\t<description>\"+events.iloc[i,3]+\"</description>\\n\"\n",
    "    description = description.replace(\"’\",\"'\")\n",
    "    enditem = \"</item>\\n\\n\"\n",
    "    \n",
    "    xml_dict[\"All\"].append(title+link+guid+pubDate+description+enditem)\n",
    "    \n",
    "    if(events.iloc[i,4] == 'All Regions') or (events.iloc[i,4] == 'ecommerce'):\n",
    "        xml_dict[\"Patent\"].append(title+link+guid+pubDate+description+enditem)\n",
    "    elif (events.iloc[i,4] == 'Trademarks'):\n",
    "        xml_dict[\"Trademark\"].append(title+link+guid+pubDate+description+enditem)\n",
    "    else:\n",
    "        xml_dict[\"Other\"].append(title+link+guid+pubDate+description+enditem)\n"
   ]
  },
  {
   "cell_type": "code",
   "execution_count": 11,
   "id": "d2a33ef2",
   "metadata": {},
   "outputs": [],
   "source": [
    "for category in xml_files:\n",
    "    xml_dict[category].append(\"\\n</channel>\\n</rss>\")    \n",
    "    temp = \" \" \n",
    "    temp = temp.join(xml_dict[category])\n",
    "    xml_file = open(\"../rss-\"+category.lower()+\".xml\", \"w\")\n",
    "    xml_file.write(temp)\n",
    "    xml_file.close()"
   ]
  },
  {
   "cell_type": "code",
   "execution_count": null,
   "id": "26328a0b",
   "metadata": {},
   "outputs": [],
   "source": []
  },
  {
   "cell_type": "code",
   "execution_count": 12,
   "id": "12a1eefb",
   "metadata": {},
   "outputs": [],
   "source": [
    "# to do next: read events from file, check events page against events to identify new ones and add to events dataframe\n",
    "# use url"
   ]
  },
  {
   "cell_type": "code",
   "execution_count": null,
   "id": "21d3e2fb",
   "metadata": {},
   "outputs": [],
   "source": []
  }
 ],
 "metadata": {
  "kernelspec": {
   "display_name": "Python 3",
   "language": "python",
   "name": "python3"
  },
  "language_info": {
   "codemirror_mode": {
    "name": "ipython",
    "version": 3
   },
   "file_extension": ".py",
   "mimetype": "text/x-python",
   "name": "python",
   "nbconvert_exporter": "python",
   "pygments_lexer": "ipython3",
   "version": "3.8.8"
  }
 },
 "nbformat": 4,
 "nbformat_minor": 5
}
