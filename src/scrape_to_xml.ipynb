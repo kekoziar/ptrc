{
 "cells": [
  {
   "cell_type": "code",
   "execution_count": 31,
   "metadata": {},
   "outputs": [],
   "source": [
    "import requests #http://docs.python-requests.org/en/master/ \n",
    "from bs4 import BeautifulSoup\n",
    "from datetime import datetime as dt\n",
    "import time\n",
    "import pandas as pd"
   ]
  },
  {
   "cell_type": "code",
   "execution_count": 43,
   "metadata": {},
   "outputs": [],
   "source": [
    "url = \"https://www.uspto.gov/about-us/events\"\n",
    "headers = {\"User-Agent\":\"kekoziar_ptrc/0.0 (Language=Python/3.9.7; Host=https://github.com/kekoziar/ptrc; email=katherine.koziar@ucr.edu) python-requests/2.26.0\"}\n",
    "events = pd.DataFrame(columns = ['title', 'link', 'pubDate', 'description', 'page_owner','date_index'])"
   ]
  },
  {
   "cell_type": "code",
   "execution_count": 33,
   "metadata": {},
   "outputs": [],
   "source": [
    "webpage = requests.get(url, headers=headers)"
   ]
  },
  {
   "cell_type": "code",
   "execution_count": 34,
   "metadata": {},
   "outputs": [],
   "source": [
    "soup = BeautifulSoup(webpage.content, 'html.parser')\n",
    "tr = soup.find_all('tr')"
   ]
  },
  {
   "cell_type": "markdown",
   "metadata": {},
   "source": [
    "# Create dataframe"
   ]
  },
  {
   "cell_type": "code",
   "execution_count": 44,
   "metadata": {},
   "outputs": [],
   "source": [
    "# this checks if the workshop is after the current date\n",
    "url_start = \"https://www.uspto.gov\"\n",
    "current_date = 20220125\n",
    "date = 20221231\n",
    "\n",
    "index = len(tr)-1\n",
    "\n",
    "while(date >= current_date):\n",
    "#    print(index)\n",
    "    if(str(tr[index]).find(\"date=\")!=-1):\n",
    "        string = str(tr[index])\n",
    "        date_index=(string.find(\"date=\"))+6\n",
    "        date = int(string[date_index:date_index+8])\n",
    "        workshop_url = tr[index].find(href=True)['href']\n",
    "#        print(\"link: \", workshop_url)\n",
    "\n",
    "        webpage = requests.get(url_start+workshop_url, headers = headers)\n",
    "        soup_workshop = BeautifulSoup(webpage.content, 'html.parser')\n",
    "        \n",
    "        workshop_title = soup_workshop.find('meta', {\"name\":\"dcterms.title\"})\n",
    "        workshop_pageowner = soup_workshop.find('meta', {\"name\":\"uspto.pageowner\"})\n",
    "        \n",
    "        workshop_description = soup_workshop.select_one('var.atc_description').text\n",
    "        workshop_description = workshop_description[0:workshop_description.find('\\n')].strip().replace('\\xa0', ' ')\n",
    "        workshop_description = workshop_description.replace('\\u200b','')\n",
    "\n",
    "        workshop_time = soup_workshop.select_one('var.atc_date_start').text\n",
    "        workshop_time = workshop_time.replace(\" \", \"T\")\n",
    "        workshop_time = dt.fromisoformat(workshop_time)\n",
    "        \n",
    "        workshop_info = pd.DataFrame({\n",
    "            \"title\": [workshop_title[\"content\"]], \n",
    "            \"link\": [url_start+workshop_url], \n",
    "            \"pubDate\": [workshop_time.strftime(\"%a, %d %b %Y %X EST\")], \n",
    "            \"description\": [workshop_description],\n",
    "            \"page_owner\": [workshop_pageowner[\"content\"]], \n",
    "            \"date_index\": [date]\n",
    "        })        \n",
    "        new = [events, workshop_info]\n",
    "        events = pd.concat(new)\n",
    "        time.sleep(1)\n",
    "         \n",
    "#    else:\n",
    "#        print(\"not here\")\n",
    "    index = index - 1"
   ]
  },
  {
   "cell_type": "code",
   "execution_count": 48,
   "metadata": {},
   "outputs": [],
   "source": [
    "events = events.sort_values(by=[\"date_index\"])\n",
    "events.to_csv(\"../data/events.csv\")"
   ]
  },
  {
   "cell_type": "code",
   "execution_count": null,
   "metadata": {},
   "outputs": [],
   "source": []
  },
  {
   "cell_type": "code",
   "execution_count": 47,
   "metadata": {},
   "outputs": [],
   "source": []
  },
  {
   "cell_type": "code",
   "execution_count": 9,
   "metadata": {},
   "outputs": [
    {
     "name": "stdout",
     "output_type": "stream",
     "text": [
      "3037\n",
      "213\n",
      "iso8601 date:  20221201\n",
      "link:  /about-us/events/intellectual-property-basics-and-helpful-resources-10\n",
      "workshop name:  Intellectual property basics and helpful resources\n",
      "3036\n",
      "not here\n",
      "3035\n",
      "213\n",
      "iso8601 date:  20221103\n",
      "link:  /about-us/events/intellectual-property-basics-and-helpful-resources-9\n",
      "workshop name:  Intellectual property basics and helpful resources\n",
      "3034\n",
      "not here\n",
      "3033\n",
      "149\n",
      "iso8601 date:  20221026\n",
      "link:  /learning-and-resources/kids-educators/k-12-ip-education-office-hours-17\n",
      "workshop name:  K-12 IP education office hours \n",
      "3032\n",
      "149\n",
      "iso8601 date:  20221025\n",
      "link:  /learning-and-resources/kids-educators/intellectual-property-ip-workshop-k12-educators-10\n",
      "workshop name:  Intellectual Property (IP) Workshop for K12 Educators \n",
      "3031\n",
      "213\n",
      "iso8601 date:  20221006\n",
      "link:  /about-us/events/intellectual-property-basics-and-helpful-resources-8\n",
      "workshop name:  Intellectual property basics and helpful resources\n",
      "3030\n",
      "not here\n",
      "3029\n",
      "149\n",
      "iso8601 date:  20220928\n",
      "link:  /learning-and-resources/kids-educators/k-12-ip-education-office-hours-16\n",
      "workshop name:  K-12 IP education office hours \n",
      "3028\n",
      "149\n",
      "iso8601 date:  20220927\n",
      "link:  /learning-and-resources/kids-educators/intellectual-property-ip-workshop-k12-educators-11\n",
      "workshop name:  Intellectual Property (IP) Workshop for K12 Educators \n",
      "3027\n",
      "213\n",
      "iso8601 date:  20220901\n",
      "link:  /about-us/events/intellectual-property-basics-and-helpful-resources-7\n",
      "workshop name:  Intellectual property basics and helpful resources\n",
      "3026\n",
      "not here\n",
      "3025\n",
      "149\n",
      "iso8601 date:  20220831\n",
      "link:  /learning-and-resources/kids-educators/k-12-ip-education-office-hours-15\n",
      "workshop name:  K-12 IP education office hours \n",
      "3024\n",
      "149\n",
      "iso8601 date:  20220830\n",
      "link:  /learning-and-resources/kids-educators/intellectual-property-ip-workshop-k12-educators-12\n",
      "workshop name:  Intellectual Property (IP) Workshop for K12 Educators \n",
      "3023\n",
      "213\n",
      "iso8601 date:  20220804\n",
      "link:  /about-us/events/intellectual-property-basics-and-helpful-resources-6\n",
      "workshop name:  Intellectual property basics and helpful resources\n",
      "3022\n",
      "not here\n",
      "3021\n",
      "149\n",
      "iso8601 date:  20220727\n",
      "link:  /learning-and-resources/kids-educators/k-12-ip-education-office-hours-14\n",
      "workshop name:  K-12 IP education office hours \n",
      "3020\n",
      "149\n",
      "iso8601 date:  20220726\n",
      "link:  /learning-and-resources/kids-educators/intellectual-property-ip-workshop-k12-educators-13\n",
      "workshop name:  Intellectual Property (IP) Workshop for K12 Educators \n",
      "3019\n",
      "213\n",
      "iso8601 date:  20220707\n",
      "link:  /about-us/events/intellectual-property-basics-and-helpful-resources-5\n",
      "workshop name:  Intellectual property basics and helpful resources\n",
      "3018\n",
      "not here\n",
      "3017\n",
      "149\n",
      "iso8601 date:  20220629\n",
      "link:  /learning-and-resources/kids-educators/k-12-ip-education-office-hours-13\n",
      "workshop name:  K-12 IP education office hours \n",
      "3016\n",
      "149\n",
      "iso8601 date:  20220628\n",
      "link:  /learning-and-resources/kids-educators/intellectual-property-ip-workshop-k12-educators-14\n",
      "workshop name:  Intellectual Property (IP) Workshop for K12 Educators \n",
      "3015\n",
      "213\n",
      "iso8601 date:  20220602\n",
      "link:  /about-us/events/intellectual-property-basics-and-helpful-resources-4\n",
      "workshop name:  Intellectual property basics and helpful resources\n",
      "3014\n",
      "149\n",
      "iso8601 date:  20220601\n",
      "link:  /learning-and-resources/kids-educators/k-12-ip-education-office-hours-12\n",
      "workshop name:  K-12 IP education office hours \n",
      "3013\n",
      "not here\n",
      "3012\n",
      "149\n",
      "iso8601 date:  20220531\n",
      "link:  /learning-and-resources/kids-educators/intellectual-property-ip-workshop-k12-educators-15\n",
      "workshop name:  Intellectual Property (IP) Workshop for K12 Educators \n",
      "3011\n",
      "213\n",
      "iso8601 date:  20220505\n",
      "link:  /about-us/events/intellectual-property-basics-and-helpful-resources-3\n",
      "workshop name:  Intellectual property basics and helpful resources\n",
      "3010\n",
      "not here\n",
      "3009\n",
      "149\n",
      "iso8601 date:  20220427\n",
      "link:  /learning-and-resources/kids-educators/k-12-ip-education-office-hours-11\n",
      "workshop name:  K-12 IP education office hours \n",
      "3008\n",
      "149\n",
      "iso8601 date:  20220426\n",
      "link:  /learning-and-resources/kids-educators/intellectual-property-ip-workshop-k12-educators-16\n",
      "workshop name:  Intellectual Property (IP) Workshop for K12 Educators \n",
      "3007\n",
      "213\n",
      "iso8601 date:  20220407\n",
      "link:  /about-us/events/intellectual-property-basics-and-helpful-resources-2\n",
      "workshop name:  Intellectual property basics and helpful resources\n",
      "3006\n",
      "not here\n",
      "3005\n",
      "149\n",
      "iso8601 date:  20220330\n",
      "link:  /learning-and-resources/kids-educators/k-12-ip-education-office-hours-10\n",
      "workshop name:  K-12 IP education office hours \n",
      "3004\n",
      "149\n",
      "iso8601 date:  20220329\n",
      "link:  /learning-and-resources/kids-educators/intellectual-property-ip-workshop-k12-educators-17\n",
      "workshop name:  Intellectual Property (IP) Workshop for K12 Educators \n",
      "3003\n",
      "244\n",
      "iso8601 date:  20220329\n",
      "link:  /about-us/events/patent-trial-and-appeal-board-presents-appeals-101\n",
      "workshop name:  Patent Trial and Appeal Board presents Appeals 101\n",
      "3002\n",
      "224\n",
      "iso8601 date:  20220317\n",
      "link:  /about-us/uspto-locations/silicon-valley-ca/path-patent-part-viii-common-mistakes-and-post-filing-0\n",
      "workshop name:  The Path to a Patent, Part VIII: Common mistakes and post-filing support\n",
      "3001\n",
      "275\n",
      "iso8601 date:  20220310\n",
      "link:  /about-us/uspto-locations/denver-co/path-patent-part-vii-how-file-patent-application-using-patent-0\n",
      "workshop name:  The Path to a Patent, Part VII: How to file a patent application using Patent Center\n",
      "3000\n",
      "224\n",
      "iso8601 date:  20220303\n",
      "link:  /about-us/uspto-locations/silicon-valley-ca/path-patent-part-vi-learn-how-protect-your-ip-abroad-5\n",
      "workshop name:  The Path to a Patent, Part VI: Learn how to protect your IP abroad\n",
      "2999\n",
      "236\n",
      "iso8601 date:  20220303\n",
      "link:  /about-us/events/intellectual-property-basics-and-helpful-resources-1\n",
      "workshop name:  Intellectual property basics and helpful resources \n",
      "2998\n",
      "279\n",
      "iso8601 date:  20220301\n",
      "link:  /about-us/events/trademark-basics-boot-camp-module-8-question-and-answer-panel-4\n",
      "workshop name:  Trademark Basics Boot Camp, Module 8: Question-and-answer panel\n",
      "2997\n",
      "not here\n",
      "2996\n",
      "236\n",
      "iso8601 date:  20220224\n",
      "link:  /about-us/events/intellectual-property-basics-and-helpful-resources-13\n",
      "workshop name:  Intellectual property basics and helpful resources \n",
      "2995\n",
      "153\n",
      "iso8601 date:  20220224\n",
      "link:  /about-us/events/2022-black-innovation-and-entrepreneurship-program-part-two-invest-ideas\n",
      "workshop name:  2022 Black Innovation and Entrepreneurship program, part two: Invest in ideas\n",
      "2994\n",
      "139\n",
      "iso8601 date:  20220224\n",
      "link:  /about-us/events/attend-docx-filing-training-60\n",
      "workshop name:  Attend DOCX filing training\n",
      "2993\n",
      "149\n",
      "iso8601 date:  20220223\n",
      "link:  /learning-and-resources/kids-educators/k-12-ip-education-office-hours-9\n",
      "workshop name:  K-12 IP education office hours \n",
      "2992\n",
      "149\n",
      "iso8601 date:  20220222\n",
      "link:  /learning-and-resources/kids-educators/intellectual-property-ip-workshop-k12-educators-18\n",
      "workshop name:  Intellectual Property (IP) Workshop for K12 Educators \n",
      "2991\n",
      "279\n",
      "iso8601 date:  20220222\n",
      "link:  /about-us/events/trademark-basics-boot-camp-module-7-keeping-your-registration-alive-5\n",
      "workshop name:  Trademark Basics Boot Camp, Module 7: Keeping your registration alive\n",
      "2990\n",
      "153\n",
      "iso8601 date:  20220217\n",
      "link:  /about-us/events/2022-black-innovation-and-entrepreneurship-program-part-one-defining-tomorrow\n",
      "workshop name:  2022 Black Innovation and Entrepreneurship program, part one: Defining tomorrow\n",
      "2989\n",
      "224\n",
      "iso8601 date:  20220217\n",
      "link:  /about-us/uspto-locations/silicon-valley-ca/path-patent-part-v-understanding-role-claims-patent-2\n",
      "workshop name:  The Path to a Patent, Part V: Understanding the role of claims in a patent application\n",
      "2988\n",
      "139\n",
      "iso8601 date:  20220217\n",
      "link:  /about-us/events/attend-docx-filing-training-56\n",
      "workshop name:  Attend DOCX filing training\n",
      "2987\n",
      "236\n",
      "iso8601 date:  20220215\n",
      "link:  /about-us/events/intellectual-property-basics-and-helpful-resources-12\n",
      "workshop name:  Intellectual property basics and helpful resources\n",
      "2986\n",
      "279\n",
      "iso8601 date:  20220215\n",
      "link:  /about-us/events/trademark-basics-boot-camp-module-6-responding-office-action-2\n",
      "workshop name:  Trademark Basics Boot Camp, Module 6: Responding to an office action\n",
      "2985\n",
      "139\n",
      "iso8601 date:  20220215\n",
      "link:  /about-us/events/attend-docx-filing-training-59\n",
      "workshop name:  Attend DOCX filing training\n",
      "2984\n",
      "244\n",
      "iso8601 date:  20220215\n",
      "link:  /about-us/events/uspto-guidance-and-policy-subject-matter-eligibility\n",
      "workshop name:  USPTO guidance and policy: Subject matter eligibility \n",
      "2983\n",
      "206\n",
      "iso8601 date:  20220210\n",
      "link:  /about-us/events/what-you-need-sell-your-arts-and-crafts-online-introduction-entrepreneurship-native\n",
      "workshop name:  What you need to sell your arts and crafts online: An introduction to entrepreneurship for Native American visual artists (Session 1)\n",
      "2982\n",
      "139\n",
      "iso8601 date:  20220210\n",
      "link:  /about-us/events/attend-docx-filing-training-58\n",
      "workshop name:  Attend DOCX filing training\n",
      "2981\n",
      "279\n",
      "iso8601 date:  20220208\n",
      "link:  /about-us/events/trademark-basics-boot-camp-module-5-application-filing-walk-through-2\n",
      "workshop name:  Trademark Basics Boot Camp, Module 5: Application filing walk-through\n",
      "2980\n",
      "139\n",
      "iso8601 date:  20220208\n",
      "link:  /about-us/events/attend-docx-filing-training-55\n",
      "workshop name:  Attend DOCX filing training\n",
      "2979\n",
      "242\n",
      "iso8601 date:  20220203\n",
      "link:  /about-us/uspto-locations/alexandria-va/path-patent-part-iv-learn-how-draft-patent-application\n",
      "workshop name:  The Path to a Patent, Part IV: Learn how to draft a patent application\n",
      "2978\n",
      "139\n",
      "iso8601 date:  20220203\n",
      "link:  /about-us/events/attend-docx-filing-training-54\n",
      "workshop name:  Attend DOCX filing training\n",
      "2977\n",
      "209\n",
      "iso8601 date:  20220203\n",
      "link:  /about-us/events/intellectual-property-basics-and-helpful-resources-0\n",
      "workshop name:  Intellectual property basics and helpful resources\n",
      "2976\n",
      "279\n",
      "iso8601 date:  20220201\n",
      "link:  /about-us/events/trademark-basics-boot-camp-module-4-application-requirements-2\n",
      "workshop name:  Trademark Basics Boot Camp, Module 4: Application requirements\n",
      "2975\n",
      "139\n",
      "iso8601 date:  20220201\n",
      "link:  /about-us/events/attend-docx-filing-training-57\n",
      "workshop name:  Attend DOCX filing training\n",
      "2974\n",
      "not here\n",
      "2973\n",
      "189\n",
      "iso8601 date:  20220128\n",
      "link:  /about-us/events/attend-trademark-public-advisory-committee-quarterly-meeting-11\n",
      "workshop name:  Attend the Trademark Public Advisory Committee quarterly meeting\n",
      "2972\n",
      "244\n",
      "iso8601 date:  20220127\n",
      "link:  /about-us/uspto-locations/denver-co/path-patent-part-iii-patent-searching-3\n",
      "workshop name:  The Path to a Patent, Part III: Patent searching\n",
      "2971\n",
      "139\n",
      "iso8601 date:  20220127\n",
      "link:  /about-us/events/attend-docx-filing-training-50\n",
      "workshop name:  Attend DOCX filing training\n",
      "2970\n",
      "155\n",
      "iso8601 date:  20220127\n",
      "link:  /about-us/events/ptab-inventor-hour-webinar-episode-4\n",
      "workshop name:  PTAB Inventor Hour webinar - Episode 4\n",
      "2969\n",
      "149\n",
      "iso8601 date:  20220126\n",
      "link:  /learning-and-resources/kids-educators/k-12-ip-education-office-hours-8\n",
      "workshop name:  K-12 IP education office hours \n",
      "2968\n",
      "206\n",
      "iso8601 date:  20220126\n",
      "link:  /learning-and-resources/general-help/together-innovation-inner-space-and-outer-space\n",
      "workshop name:  Together in Innovation: Inner space and outer space\n",
      "2967\n",
      "213\n",
      "iso8601 date:  20220126\n",
      "link:  /about-us/events/usptos-liquid-capital-data-resources-inventors\n",
      "workshop name:  USPTO's liquid capital: Data resources for inventors\n",
      "2966\n",
      "149\n",
      "iso8601 date:  20220125\n",
      "link:  /learning-and-resources/kids-educators/intellectual-property-ip-workshop-k12-educators-19\n",
      "workshop name:  Intellectual property (IP) workshop for K-12 educators \n",
      "2965\n",
      "279\n",
      "iso8601 date:  20220125\n",
      "link:  /about-us/events/trademark-basics-boot-camp-module-3-searching-2\n",
      "workshop name:  Trademark Basics Boot Camp, Module 3: Searching\n",
      "2964\n",
      "139\n",
      "iso8601 date:  20220125\n",
      "link:  /about-us/events/attend-docx-filing-training-53\n",
      "workshop name:  Attend DOCX filing training\n",
      "2963\n",
      "227\n",
      "iso8601 date:  20220120\n",
      "link:  /about-us/events/intellectual-property-basics-and-helpful-resources-11\n",
      "workshop name:  Intellectual property basics and helpful resources\n"
     ]
    }
   ],
   "source": [
    "# this checks if the workshop is after the current date\n",
    "url_start = \"https://www.uspto.gov\"\n",
    "current_date = 20220122\n",
    "# date = 20221231\n",
    "date = 20220201\n",
    "index = len(tr)-1\n",
    "while(date >= current_date):\n",
    "    print(index)\n",
    "    if(str(tr[index]).find(\"date=\")!=-1):\n",
    "        string = str(tr[index])\n",
    "        date_index=(string.find(\"date=\"))+6\n",
    "        print(date_index)\n",
    "        print(\"iso8601 date: \",string[date_index:date_index+8])\n",
    "        date = int(string[date_index:date_index+8])\n",
    "        url_workshop = tr[index].find(href=True)['href']\n",
    "        print(\"link: \", url_workshop)\n",
    "        # print(\"workshop name: \", tr[index].select_one('a').text)\n",
    "        # store this info in a dataframe\n",
    "        # pull time info from a dataframe. get from description file, <div class=\"event-info\">\n",
    "        # or <var class=\"atc_date_start\"> <-- probbly get from that, since date is already in \n",
    "        # eastern time\n",
    "         \n",
    "    else:\n",
    "        print(\"not here\")\n",
    "    index = index - 1\n",
    "    \n",
    "    \n",
    "    "
   ]
  },
  {
   "cell_type": "code",
   "execution_count": 17,
   "metadata": {},
   "outputs": [
    {
     "name": "stdout",
     "output_type": "stream",
     "text": [
      "description:  Unfamiliar with patents, trademarks, copyrights, and trade secrets? Don’t miss this opportunity to learn from United States Patent and Trademark Office (USPTO) experts about intellectual property (IP) basics and potential ways to protect your innovation as you transition from idea to product.\n"
     ]
    }
   ],
   "source": [
    "        # description pull this later, getting url_workshop from dataframe\n",
    "        webpage = requests.get(url_start+url_workshop, headers=headers)\n",
    "        soup_workshop = BeautifulSoup(webpage.content, 'html.parser')\n",
    "        workshop_description = soup_workshop.select_one('var.atc_description').text\n",
    "        xml_description = workshop_description[0:workshop_description.find('\\n')].strip().replace('\\xa0', ' ')\n",
    "        print(\"description: \", xml_description)\n",
    "        #time.sleep(5)\n"
   ]
  },
  {
   "cell_type": "code",
   "execution_count": 47,
   "metadata": {},
   "outputs": [
    {
     "data": {
      "text/plain": [
       "'2022-01-20 20:00:00'"
      ]
     },
     "execution_count": 47,
     "metadata": {},
     "output_type": "execute_result"
    }
   ],
   "source": [
    "soup_workshop.select_one('var.atc_date_start').text"
   ]
  },
  {
   "cell_type": "code",
   "execution_count": 19,
   "metadata": {},
   "outputs": [],
   "source": [
    "import datetime"
   ]
  },
  {
   "cell_type": "code",
   "execution_count": 48,
   "metadata": {},
   "outputs": [],
   "source": [
    "workshop_time = soup_workshop.select_one('var.atc_date_start').text"
   ]
  },
  {
   "cell_type": "code",
   "execution_count": 49,
   "metadata": {},
   "outputs": [],
   "source": [
    "workshop_time = workshop_time.replace(\" \", \"T\")"
   ]
  },
  {
   "cell_type": "code",
   "execution_count": 50,
   "metadata": {},
   "outputs": [],
   "source": [
    "workshop_time = datetime.datetime.fromisoformat(workshop_time)"
   ]
  },
  {
   "cell_type": "code",
   "execution_count": 51,
   "metadata": {},
   "outputs": [
    {
     "data": {
      "text/plain": [
       "'Thu Jan 20 20:00:00 2022'"
      ]
     },
     "execution_count": 51,
     "metadata": {},
     "output_type": "execute_result"
    }
   ],
   "source": [
    "# workshop_time.strftime(\"%c\")"
   ]
  },
  {
   "cell_type": "code",
   "execution_count": 52,
   "metadata": {},
   "outputs": [
    {
     "name": "stdout",
     "output_type": "stream",
     "text": [
      "Thu, 20 Jan 2022 20:00:00 EST\n"
     ]
    }
   ],
   "source": [
    "#  Sat, 22 Jan 2022 10:30:00 PST\n",
    "print(workshop_time.strftime(\"%a, %d %b %Y %X EST\"))"
   ]
  },
  {
   "cell_type": "code",
   "execution_count": null,
   "metadata": {},
   "outputs": [],
   "source": []
  },
  {
   "cell_type": "code",
   "execution_count": 19,
   "metadata": {},
   "outputs": [],
   "source": [
    "url_start = \"https://www.uspto.gov\"\n",
    "workshop_url = \"/about-us/events/intellectual-property-basics-and-helpful-resources-10\""
   ]
  },
  {
   "cell_type": "code",
   "execution_count": 22,
   "metadata": {},
   "outputs": [],
   "source": [
    "webpage = requests.get(url_start+workshop_url, headers=headers)\n"
   ]
  },
  {
   "cell_type": "code",
   "execution_count": 23,
   "metadata": {},
   "outputs": [],
   "source": [
    "soup_workshop = BeautifulSoup(webpage.content, 'html.parser')\n",
    "# workshop_description = soup_workshop.select_one('var.atc_description').text"
   ]
  },
  {
   "cell_type": "code",
   "execution_count": 83,
   "metadata": {},
   "outputs": [
    {
     "data": {
      "text/plain": [
       "295"
      ]
     },
     "execution_count": 83,
     "metadata": {},
     "output_type": "execute_result"
    }
   ],
   "source": [
    "workshop_description.find('\\n')"
   ]
  },
  {
   "cell_type": "code",
   "execution_count": 89,
   "metadata": {},
   "outputs": [
    {
     "data": {
      "text/plain": [
       "'Unfamiliar with patents, trademarks, copyrights, and trade secrets? Don’t miss this opportunity to learn from United States Patent and Trademark Office (USPTO) experts about intellectual property (IP) basics and potential ways to protect your innovation as you transition from idea to product.'"
      ]
     },
     "execution_count": 89,
     "metadata": {},
     "output_type": "execute_result"
    }
   ],
   "source": [
    "workshop_description[0:workshop_description.find('\\n')].strip().replace('\\xa0', ' ')"
   ]
  },
  {
   "cell_type": "code",
   "execution_count": 77,
   "metadata": {},
   "outputs": [
    {
     "data": {
      "text/plain": [
       "[<var class=\"atc_description\"> Unfamiliar with patents, trademarks, copyrights, and trade secrets? Don’t miss this opportunity to learn from United States Patent and Trademark Office (USPTO) experts about intellectual property (IP) basics and potential ways to protect your innovation as you transition from idea to product. \n",
       " The USPTO offers this free event for aspiring entrepreneurs, innovators, and students the first Thursday of every month. \n",
       " Register today \n",
       " The discussion will cover:\n",
       " An overview of intellectual property types: patents, trademarks, copyrights, and trade secrets\tWhy innovators and entrepreneurs should consider protecting their IP\tLocal resources and assistance available through the USPTO and other agencies\n",
       " For questions or more information, email Events@uspto.gov. </var>]"
      ]
     },
     "execution_count": 77,
     "metadata": {},
     "output_type": "execute_result"
    }
   ],
   "source": [
    "soup_workshop.find_all(class_=\"atc_description\")"
   ]
  },
  {
   "cell_type": "code",
   "execution_count": 80,
   "metadata": {},
   "outputs": [
    {
     "data": {
      "text/plain": [
       "' Unfamiliar with patents, trademarks, copyrights, and trade secrets?\\xa0Don’t miss this opportunity to learn from United States Patent and Trademark Office (USPTO) experts about intellectual property (IP) basics and potential ways to protect your innovation as you transition from idea to product.\\xa0\\nThe USPTO offers this free event for aspiring entrepreneurs, innovators, and students the first Thursday of every month.\\xa0\\nRegister today\\xa0\\nThe discussion will cover:\\nAn overview of intellectual property types: patents, trademarks, copyrights, and trade secrets\\tWhy innovators and entrepreneurs should consider protecting their IP\\tLocal resources and assistance available through the USPTO and other agencies\\nFor questions or more information, email\\xa0Events@uspto.gov. '"
      ]
     },
     "execution_count": 80,
     "metadata": {},
     "output_type": "execute_result"
    }
   ],
   "source": [
    "soup_workshop.select_one('var.atc_description').text"
   ]
  },
  {
   "cell_type": "code",
   "execution_count": 61,
   "metadata": {},
   "outputs": [
    {
     "data": {
      "text/plain": [
       "<tr class=\"type-public-events type-guidance---training topic-alexandria-va-headquarters topic-dallas topic-denver topic-silicon-valley topic-detroit topic-all-topics type-all-event-types year-now year-2022\" date=\"20221201\"><td class=\"day views-field views-field-field-date-range-2\" headers=\"view-field-date-range-2-table-column--96\"><div>1</div>\n",
       "</td>\n",
       "<td class=\"name views-field views-field-title\"><a href=\"/about-us/events/intellectual-property-basics-and-helpful-resources-10\" hreflang=\"en\">Intellectual property basics and helpful resources</a> </td>\n",
       "<td class=\"location views-field views-field-field-address\">Virtual\n",
       "          </td>\n",
       "<td class=\"time views-field views-field-field-date-range-3\" headers=\"view-field-date-range-3-table-column--96\"><div>12:00 p.m. ET</div>\n",
       "</td>\n",
       "</tr>"
      ]
     },
     "execution_count": 61,
     "metadata": {},
     "output_type": "execute_result"
    }
   ],
   "source": [
    "tr[index]"
   ]
  },
  {
   "cell_type": "code",
   "execution_count": 114,
   "metadata": {},
   "outputs": [],
   "source": [
    "import time"
   ]
  },
  {
   "cell_type": "code",
   "execution_count": 92,
   "metadata": {},
   "outputs": [],
   "source": [
    "time.sleep(6)"
   ]
  },
  {
   "cell_type": "code",
   "execution_count": 53,
   "metadata": {},
   "outputs": [],
   "source": [
    "import time\n",
    "import pandas as pd"
   ]
  },
  {
   "cell_type": "code",
   "execution_count": 80,
   "metadata": {},
   "outputs": [
    {
     "data": {
      "text/plain": [
       "'Intellectual property basics and helpful resources'"
      ]
     },
     "execution_count": 80,
     "metadata": {},
     "output_type": "execute_result"
    }
   ],
   "source": [
    "title = soup_workshop.find('meta', {\"name\":\"dcterms.title\"})\n",
    "title[\"content\"]"
   ]
  },
  {
   "cell_type": "code",
   "execution_count": 82,
   "metadata": {},
   "outputs": [
    {
     "name": "stdout",
     "output_type": "stream",
     "text": [
      "Unfamiliar with patents, trademarks, copyrights, and trade secrets? Don’t miss this opportunity to learn from United States Patent and Trademark Office (USPTO) experts about intellectual property (IP) basics and potential ways to protect your innovation as you transition from idea to product.\n"
     ]
    }
   ],
   "source": [
    "workshop_description = soup_workshop.select_one('var.atc_description').text\n",
    "workshop_description = workshop_description[0:workshop_description.find('\\n')].strip().replace('\\xa0', ' ')\n",
    "print(workshop_description)"
   ]
  },
  {
   "cell_type": "code",
   "execution_count": 83,
   "metadata": {},
   "outputs": [
    {
     "name": "stdout",
     "output_type": "stream",
     "text": [
      "Thu, 20 Jan 2022 20:00:00 EST\n"
     ]
    }
   ],
   "source": [
    "workshop_time = soup_workshop.select_one('var.atc_date_start').text\n",
    "workshop_time = workshop_time.replace(\" \", \"T\")\n",
    "workshop_time = datetime.datetime.fromisoformat(workshop_time)\n",
    "print(workshop_time.strftime(\"%a, %d %b %Y %X EST\"))"
   ]
  },
  {
   "cell_type": "code",
   "execution_count": null,
   "metadata": {},
   "outputs": [],
   "source": []
  },
  {
   "cell_type": "code",
   "execution_count": 26,
   "metadata": {},
   "outputs": [],
   "source": [
    "        workshop_title = soup_workshop.find('meta', {\"name\":\"dcterms.title\"})\n",
    "        workshop_pageowner = soup_workshop.find('meta', {\"name\":\"uspto.pageowner\"})\n",
    "        \n",
    "        workshop_description = soup_workshop.select_one('var.atc_description').text\n",
    "        workshop_description = workshop_description[0:workshop_description.find('\\n')].strip().replace('\\xa0', ' ')\n",
    "        workshop_description = workshop_description.replace('\\u200b','')\n",
    "\n",
    "        workshop_time = soup_workshop.select_one('var.atc_date_start').text\n",
    "        workshop_time = workshop_time.replace(\" \", \"T\")\n",
    "        workshop_time = dt.fromisoformat(workshop_time)\n"
   ]
  },
  {
   "cell_type": "code",
   "execution_count": 28,
   "metadata": {},
   "outputs": [
    {
     "ename": "NameError",
     "evalue": "name 'tr' is not defined",
     "output_type": "error",
     "traceback": [
      "\u001b[1;31m---------------------------------------------------------------------------\u001b[0m",
      "\u001b[1;31mNameError\u001b[0m                                 Traceback (most recent call last)",
      "\u001b[1;32m<ipython-input-28-f3793aab9321>\u001b[0m in \u001b[0;36m<module>\u001b[1;34m\u001b[0m\n\u001b[1;32m----> 1\u001b[1;33m \u001b[0mstring\u001b[0m \u001b[1;33m=\u001b[0m \u001b[0mstr\u001b[0m\u001b[1;33m(\u001b[0m\u001b[0mtr\u001b[0m\u001b[1;33m[\u001b[0m\u001b[0mindex\u001b[0m\u001b[1;33m]\u001b[0m\u001b[1;33m)\u001b[0m\u001b[1;33m\u001b[0m\u001b[1;33m\u001b[0m\u001b[0m\n\u001b[0m\u001b[0;32m      2\u001b[0m \u001b[0mdate_index\u001b[0m\u001b[1;33m=\u001b[0m\u001b[1;33m(\u001b[0m\u001b[0mstring\u001b[0m\u001b[1;33m.\u001b[0m\u001b[0mfind\u001b[0m\u001b[1;33m(\u001b[0m\u001b[1;34m\"date=\"\u001b[0m\u001b[1;33m)\u001b[0m\u001b[1;33m)\u001b[0m\u001b[1;33m+\u001b[0m\u001b[1;36m6\u001b[0m\u001b[1;33m\u001b[0m\u001b[1;33m\u001b[0m\u001b[0m\n\u001b[0;32m      3\u001b[0m \u001b[1;31m#        print(date_index)\u001b[0m\u001b[1;33m\u001b[0m\u001b[1;33m\u001b[0m\u001b[1;33m\u001b[0m\u001b[0m\n\u001b[0;32m      4\u001b[0m \u001b[1;31m#        print(\"iso8601 date: \",string[date_index:date_index+8])\u001b[0m\u001b[1;33m\u001b[0m\u001b[1;33m\u001b[0m\u001b[1;33m\u001b[0m\u001b[0m\n\u001b[0;32m      5\u001b[0m \u001b[0mdate\u001b[0m \u001b[1;33m=\u001b[0m \u001b[0mint\u001b[0m\u001b[1;33m(\u001b[0m\u001b[0mstring\u001b[0m\u001b[1;33m[\u001b[0m\u001b[0mdate_index\u001b[0m\u001b[1;33m:\u001b[0m\u001b[0mdate_index\u001b[0m\u001b[1;33m+\u001b[0m\u001b[1;36m8\u001b[0m\u001b[1;33m]\u001b[0m\u001b[1;33m)\u001b[0m\u001b[1;33m\u001b[0m\u001b[1;33m\u001b[0m\u001b[0m\n",
      "\u001b[1;31mNameError\u001b[0m: name 'tr' is not defined"
     ]
    }
   ],
   "source": [
    "        string = str(tr[index])\n",
    "        date_index=(string.find(\"date=\"))+6\n",
    "#        print(date_index)\n",
    "#        print(\"iso8601 date: \",string[date_index:date_index+8])\n",
    "        date = int(string[date_index:date_index+8])\n",
    "        workshop_url = tr[index].find(href=True)['href']\n"
   ]
  },
  {
   "cell_type": "code",
   "execution_count": 29,
   "metadata": {},
   "outputs": [],
   "source": [
    "        workshop_info = pd.DataFrame({\n",
    "            \"title\": [workshop_title[\"content\"]], \n",
    "            \"link\": [url_start+workshop_url], \n",
    "            \"pubDate\": [workshop_time.strftime(\"%a, %d %b %Y %X EST\")], \n",
    "            \"description\": [workshop_description],\n",
    "            \"pageowner\": [workshop_pageowner[\"content\"]], \n",
    "            \"date_index\": ['20220125']\n",
    "        })        \n"
   ]
  },
  {
   "cell_type": "code",
   "execution_count": 30,
   "metadata": {},
   "outputs": [
    {
     "data": {
      "text/html": [
       "<div>\n",
       "<style scoped>\n",
       "    .dataframe tbody tr th:only-of-type {\n",
       "        vertical-align: middle;\n",
       "    }\n",
       "\n",
       "    .dataframe tbody tr th {\n",
       "        vertical-align: top;\n",
       "    }\n",
       "\n",
       "    .dataframe thead th {\n",
       "        text-align: right;\n",
       "    }\n",
       "</style>\n",
       "<table border=\"1\" class=\"dataframe\">\n",
       "  <thead>\n",
       "    <tr style=\"text-align: right;\">\n",
       "      <th></th>\n",
       "      <th>title</th>\n",
       "      <th>link</th>\n",
       "      <th>pubDate</th>\n",
       "      <th>description</th>\n",
       "      <th>pageowner</th>\n",
       "      <th>date_index</th>\n",
       "    </tr>\n",
       "  </thead>\n",
       "  <tbody>\n",
       "    <tr>\n",
       "      <th>0</th>\n",
       "      <td>Intellectual property basics and helpful resou...</td>\n",
       "      <td>https://www.uspto.gov/about-us/events/intellec...</td>\n",
       "      <td>Thu, 01 Dec 2022 12:00:00 EST</td>\n",
       "      <td>Unfamiliar with patents, trademarks, copyright...</td>\n",
       "      <td>All Regions</td>\n",
       "      <td>20220125</td>\n",
       "    </tr>\n",
       "  </tbody>\n",
       "</table>\n",
       "</div>"
      ],
      "text/plain": [
       "                                               title  \\\n",
       "0  Intellectual property basics and helpful resou...   \n",
       "\n",
       "                                                link  \\\n",
       "0  https://www.uspto.gov/about-us/events/intellec...   \n",
       "\n",
       "                         pubDate  \\\n",
       "0  Thu, 01 Dec 2022 12:00:00 EST   \n",
       "\n",
       "                                         description    pageowner date_index  \n",
       "0  Unfamiliar with patents, trademarks, copyright...  All Regions   20220125  "
      ]
     },
     "execution_count": 30,
     "metadata": {},
     "output_type": "execute_result"
    }
   ],
   "source": [
    "workshop_info"
   ]
  },
  {
   "cell_type": "code",
   "execution_count": 104,
   "metadata": {},
   "outputs": [],
   "source": [
    "new = [events, workshop_info]\n",
    "events = pd.concat(new)"
   ]
  },
  {
   "cell_type": "code",
   "execution_count": 94,
   "metadata": {},
   "outputs": [
    {
     "data": {
      "text/plain": [
       "'Thu, 20 Jan 2022 20:00:00 EST'"
      ]
     },
     "execution_count": 94,
     "metadata": {},
     "output_type": "execute_result"
    }
   ],
   "source": [
    "workshop_time.strftime(\"%a, %d %b %Y %X EST\")\n"
   ]
  },
  {
   "cell_type": "code",
   "execution_count": 95,
   "metadata": {},
   "outputs": [
    {
     "data": {
      "text/plain": [
       "'Unfamiliar with patents, trademarks, copyrights, and trade secrets? Don’t miss this opportunity to learn from United States Patent and Trademark Office (USPTO) experts about intellectual property (IP) basics and potential ways to protect your innovation as you transition from idea to product.'"
      ]
     },
     "execution_count": 95,
     "metadata": {},
     "output_type": "execute_result"
    }
   ],
   "source": [
    "workshop_description"
   ]
  },
  {
   "cell_type": "code",
   "execution_count": 99,
   "metadata": {
    "scrolled": true
   },
   "outputs": [
    {
     "name": "stdout",
     "output_type": "stream",
     "text": [
      "Variable               Type             Data/Info\n",
      "-------------------------------------------------\n",
      "BeautifulSoup          type             <class 'bs4.BeautifulSoup'>\n",
      "current_date           int              20221231\n",
      "date                   int              20221201\n",
      "date_index             int              213\n",
      "datetime               module           <module 'datetime' from '<...>onda3\\\\lib\\\\datetime.py'>\n",
      "events                 DataFrame        Empty DataFrame\\nColumns:<...>, description]\\nIndex: []\n",
      "headers                dict             n=1\n",
      "index                  int              3036\n",
      "pd                     module           <module 'pandas' from 'C:<...>es\\\\pandas\\\\__init__.py'>\n",
      "requests               module           <module 'requests' from '<...>\\\\requests\\\\__init__.py'>\n",
      "soup                   BeautifulSoup    <!DOCTYPE html>\\n\\n<html <...></script></body></html>\\n\n",
      "soup_workshop          BeautifulSoup    <!DOCTYPE html>\\n<html di<...>\"></script></body></html>\n",
      "string                 str              <tr class=\"type-public-ev<...>m. ET</div>\\n</td>\\n</tr>\n",
      "title                  Tag              <meta content=\"Intellectu<...>s\" name=\"dcterms.title\"/>\n",
      "tr                     ResultSet        [<tr><th colspan=\"3\">Janu<...>. ET</div>\\n</td>\\n</tr>]\n",
      "url                    str              https://www.uspto.gov/about-us/events\n",
      "url_start              str              https://www.uspto.gov\n",
      "url_workshop           str              /about-us/events/intellec<...>-and-helpful-resources-10\n",
      "webpage                Response         <Response [200]>\n",
      "workshop_description   str              Unfamiliar with patents, <...>ion from idea to product.\n",
      "workshop_time          datetime         2022-01-20 20:00:00\n",
      "xml_description        str              Unfamiliar with patents, <...>ion from idea to product.\n"
     ]
    }
   ],
   "source": [
    "%whos"
   ]
  },
  {
   "cell_type": "code",
   "execution_count": 130,
   "metadata": {},
   "outputs": [
    {
     "data": {
      "text/plain": [
       "'Mon, 24 Jan 2022 21:30:32 PST'"
      ]
     },
     "execution_count": 130,
     "metadata": {},
     "output_type": "execute_result"
    }
   ],
   "source": [
    "datetime.datetime.now().strftime(\"%a, %d %b %Y %X PST\")"
   ]
  },
  {
   "cell_type": "code",
   "execution_count": 127,
   "metadata": {},
   "outputs": [
    {
     "data": {
      "text/plain": [
       "datetime.datetime(2022, 1, 24, 21, 27, 8, 162292)"
      ]
     },
     "execution_count": 127,
     "metadata": {},
     "output_type": "execute_result"
    }
   ],
   "source": [
    "datetime.datetime.now()"
   ]
  },
  {
   "cell_type": "code",
   "execution_count": 164,
   "metadata": {},
   "outputs": [],
   "source": [
    "xml_header = \"<?xml version=\\\"1.0\\\" encoding=\\\"utf-8\\\"?>\\n<rss version=\\\"2.0\\\">\\n<channel>\\n<title>USPTO Patent Events</title>\\n<link>https://guides.lib.ucr.edu/c.php?g=932732</link>\\n<description>This feed provides easy access to USPTO Patents events.</description>\\n<language>en-us</language>\\n<lastBuildDate>\"+datetime.datetime.now().strftime(\"%a, %d %b %Y %X PST\")+\"</lastBuildDate>\\n<webMaster>katherine.koziar@ucr.edu</webMaster>\""
   ]
  },
  {
   "cell_type": "code",
   "execution_count": 132,
   "metadata": {},
   "outputs": [
    {
     "data": {
      "text/plain": [
       "'<?xml version=\"1.0\" encoding=\"utf-8\"?>\\n<rss version=\"2.0\">\\n<channel>\\n<title>USPTO Patent Events</title>\\n<link>https://guides.lib.ucr.edu/c.php?g=932732</link>\\n<description>This feed provides easy access to USPTO Patents events.</description>\\n<language>en-us</language>\\n<lastBuildDate>Mon, 24 Jan 2022 21:30:51 PST</lastBuildDate>\\n<webMaster>katherine.koziar@ucr.edu</webMaster>'"
      ]
     },
     "execution_count": 132,
     "metadata": {},
     "output_type": "execute_result"
    }
   ],
   "source": [
    "xml_header"
   ]
  },
  {
   "cell_type": "markdown",
   "metadata": {},
   "source": [
    "# create xml file"
   ]
  },
  {
   "cell_type": "code",
   "execution_count": 103,
   "metadata": {},
   "outputs": [],
   "source": [
    "xml_files = [\"All\", \"Patent\", \"Trademark\", \"Other\"]"
   ]
  },
  {
   "cell_type": "code",
   "execution_count": 120,
   "metadata": {},
   "outputs": [],
   "source": [
    "xml_dict = {\"All\": [\"<?xml version=\\\"1.0\\\" encoding=\\\"utf-8\\\"?>\\n<rss version=\\\"2.0\\\">\\n<channel>\\n\"], \n",
    "             \"Patent\": [\"<?xml version=\\\"1.0\\\" encoding=\\\"utf-8\\\"?>\\n<rss version=\\\"2.0\\\">\\n<channel>\\n\"],\n",
    "             \"Trademark\": [\"<?xml version=\\\"1.0\\\" encoding=\\\"utf-8\\\"?>\\n<rss version=\\\"2.0\\\">\\n<channel>\\n\"] , \n",
    "             \"Other\": [\"<?xml version=\\\"1.0\\\" encoding=\\\"utf-8\\\"?>\\n<rss version=\\\"2.0\\\">\\n<channel>\\n\"]\n",
    "            }"
   ]
  },
  {
   "cell_type": "code",
   "execution_count": 121,
   "metadata": {},
   "outputs": [],
   "source": [
    "for category in xml_files:\n",
    "    xml_dict[category].append(\"<title>USPTO \"+category+\" Events</title>\\n<link>https://guides.lib.ucr.edu/c.php?g=932732</link>\\n\")\n",
    "    xml_dict[category].append(\"<description>This feed provides easy access to USPTO \"+category+\" events.</description>\\n<language>en-us</language>\\n\")    \n",
    "    xml_dict[category].append(\"<lastBuildDate>\"+dt.now().strftime(\"%a, %d %b %Y %X PST\")+\"</lastBuildDate>\\n<webMaster>katherine.koziar@ucr.edu</webMaster>\\n\\n\")        "
   ]
  },
  {
   "cell_type": "code",
   "execution_count": 122,
   "metadata": {},
   "outputs": [],
   "source": [
    "for i in range(len(events)):\n",
    "    title = \"\\n<item> <title>\"+events.iloc[i, 0]+\"</title>\\n\"\n",
    "    link = \"\\t<link>\"+events.iloc[i,1]+\"</link>\\n\"\n",
    "    guid = \"\\t<guid>\"+events.iloc[i,1]+\"</guid>\\n\"\n",
    "    pubDate = \"\\t<pubDate>\"+events.iloc[i,2]+\"</pubDate>\\n\"\n",
    "    description = \"\\t<description>\"+events.iloc[i,3]+\"</description>\\n\"\n",
    "    description = description.replace(\"’\",\"'\")\n",
    "    enditem = \"</item>\\n\\n\"\n",
    "    \n",
    "    xml_dict[\"All\"].append(title+link+guid+pubDate+description+enditem)\n",
    "    \n",
    "    if(events.iloc[i,4] == 'All Regions') or (events.iloc[i,4] == 'ecommerce'):\n",
    "        xml_dict[\"Patent\"].append(title+link+guid+pubDate+description+enditem)\n",
    "    elif (events.iloc[i,4] == 'Trademarks'):\n",
    "        xml_dict[\"Trademark\"].append(title+link+guid+pubDate+description+enditem)\n",
    "    else:\n",
    "        xml_dict[\"Other\"].append(title+link+guid+pubDate+description+enditem)\n"
   ]
  },
  {
   "cell_type": "code",
   "execution_count": 119,
   "metadata": {},
   "outputs": [],
   "source": [
    "for category in xml_files:\n",
    "    xml_dict[category].append(\"\\n</channel>\\n</rss>\")    \n",
    "    temp = \" \" \n",
    "    temp = temp.join(xml_dict[category])\n",
    "    xml_file = open(\"../rss-\"+category.lower()+\".xml\", \"w\")\n",
    "    xml_file.write(temp)\n",
    "    xml_file.close()"
   ]
  },
  {
   "cell_type": "code",
   "execution_count": 99,
   "metadata": {},
   "outputs": [
    {
     "name": "stdout",
     "output_type": "stream",
     "text": [
      "all\n",
      "patent\n",
      "trademark\n",
      "other\n"
     ]
    }
   ],
   "source": [
    "for category in xml_files:\n",
    "    print(category.lower())"
   ]
  },
  {
   "cell_type": "code",
   "execution_count": 14,
   "metadata": {},
   "outputs": [],
   "source": [
    "xml_close = \"\\n</channel>\\n</rss>\"\n",
    "xml_all = xml_all+xml_close"
   ]
  },
  {
   "cell_type": "code",
   "execution_count": 62,
   "metadata": {},
   "outputs": [],
   "source": [
    "xml_dict[category].append()"
   ]
  },
  {
   "cell_type": "code",
   "execution_count": 15,
   "metadata": {},
   "outputs": [],
   "source": [
    "xml_file = open(\"../test.xml\", \"w\")\n",
    "xml_file.write(xml)\n",
    "xml_file.close()"
   ]
  },
  {
   "cell_type": "code",
   "execution_count": 88,
   "metadata": {},
   "outputs": [
    {
     "data": {
      "text/plain": [
       "{'All': ['',\n",
       "  '<?xml version=\"1.0\" encoding=\"utf-8\"?>\\n<rss version=\"2.0\">\\n<channel>\\n',\n",
       "  '<title>USPTO All Events</title>\\n<link>https://guides.lib.ucr.edu/c.php?g=932732</link>\\n',\n",
       "  '<description>This feed provides easy access to USPTO All Patents events.</description>\\n<language>en-us</language>\\n',\n",
       "  '<lastBuildDate>Tue, 25 Jan 2022 11:40:19 PST</lastBuildDate>\\n<webMaster>katherine.koziar@ucr.edu</webMaster>\\n\\n',\n",
       "  '<item> <title>Intellectual property basics and helpful resources</title>\\n\\t<link>https://www.uspto.gov/about-us/events/intellectual-property-basics-and-helpful-resources-11</link>\\n\\t<guid>https://www.uspto.gov/about-us/events/intellectual-property-basics-and-helpful-resources-11</guid>\\n\\t<pubDate>Thu, 20 Jan 2022 20:00:00 EST</pubDate>\\n\\t<description>Unfamiliar with patents, trademarks, copyrights, and trade secrets? Don’t miss this opportunity to learn from United States Patent and Trademark Office (USPTO) experts about intellectual property (IP) basics and potential ways to protect your innovation as you transition from idea to product.</description>\\n</item>\\n',\n",
       "  '<item> <title>Intellectual property (IP) workshop for K-12 educators</title>\\n\\t<link>https://www.uspto.gov/learning-and-resources/kids-educators/intellectual-property-ip-workshop-k12-educators-19</link>\\n\\t<guid>https://www.uspto.gov/learning-and-resources/kids-educators/intellectual-property-ip-workshop-k12-educators-19</guid>\\n\\t<pubDate>Tue, 25 Jan 2022 18:00:00 EST</pubDate>\\n\\t<description></description>\\n</item>\\n',\n",
       "  \"<item> <title>Attend DOCX filing training</title>\\n\\t<link>https://www.uspto.gov/about-us/events/attend-docx-filing-training-53</link>\\n\\t<guid>https://www.uspto.gov/about-us/events/attend-docx-filing-training-53</guid>\\n\\t<pubDate>Tue, 25 Jan 2022 13:00:00 EST</pubDate>\\n\\t<description>Learn how to file patent-related documents in DOCX format using Patent Center and EFS-Web during any of several free upcoming training sessions. You will hear from experts on the United States Patent and Trademark Office's (USPTO) eCommerce Modernization (eMod) team, who will provide demonstrations and answer your questions.</description>\\n</item>\\n\",\n",
       "  \"<item> <title>Trademark Basics Boot Camp, Module 3: Searching</title>\\n\\t<link>https://www.uspto.gov/about-us/events/trademark-basics-boot-camp-module-3-searching-2</link>\\n\\t<guid>https://www.uspto.gov/about-us/events/trademark-basics-boot-camp-module-3-searching-2</guid>\\n\\t<pubDate>Tue, 25 Jan 2022 14:00:00 EST</pubDate>\\n\\t<description>Are you a small business owner or entrepreneur interested in learning about trademarks and how to apply for a federal registration? If so, this event is a must-attend. In this third module of our eight-part virtual Trademark Basics Boot Camp, we'll focus on important principles related to trademark searching and effective use of the USPTO’s Trademark Electronic Search System (TESS). The event is free, but space is limited, so register early.</description>\\n</item>\\n\",\n",
       "  \"<item> <title>USPTO's liquid capital: Data resources for inventors</title>\\n\\t<link>https://www.uspto.gov/about-us/events/usptos-liquid-capital-data-resources-inventors</link>\\n\\t<guid>https://www.uspto.gov/about-us/events/usptos-liquid-capital-data-resources-inventors</guid>\\n\\t<pubDate>Wed, 26 Jan 2022 13:00:00 EST</pubDate>\\n\\t<description>The United States Patent and Trademark Office's (USPTO) data plays a critical role in spurring jobs, empowering entrepreneurs to innovate and grow, and helping American businesses to compete globally. Join us for this free virtual event to learn more about available USPTO data and resources for inventors. We will have a lively discussion engaging those who share a passion for strengthening the competitive edge of American inventors and entrepreneurs.</description>\\n</item>\\n\",\n",
       "  '<item> <title>Together in Innovation: Inner space and outer space</title>\\n\\t<link>https://www.uspto.gov/learning-and-resources/general-help/together-innovation-inner-space-and-outer-space</link>\\n\\t<guid>https://www.uspto.gov/learning-and-resources/general-help/together-innovation-inner-space-and-outer-space</guid>\\n\\t<pubDate>Wed, 26 Jan 2022 14:00:00 EST</pubDate>\\n\\t<description>Image</description>\\n</item>\\n',\n",
       "  '<item> <title>K-12 IP education office hours</title>\\n\\t<link>https://www.uspto.gov/learning-and-resources/kids-educators/k-12-ip-education-office-hours-8</link>\\n\\t<guid>https://www.uspto.gov/learning-and-resources/kids-educators/k-12-ip-education-office-hours-8</guid>\\n\\t<pubDate>Wed, 26 Jan 2022 15:00:00 EST</pubDate>\\n\\t<description></description>\\n</item>\\n',\n",
       "  '<item> <title>PTAB Inventor Hour webinar - Episode 4</title>\\n\\t<link>https://www.uspto.gov/about-us/events/ptab-inventor-hour-webinar-episode-4</link>\\n\\t<guid>https://www.uspto.gov/about-us/events/ptab-inventor-hour-webinar-episode-4</guid>\\n\\t<pubDate>Thu, 27 Jan 2022 12:00:00 EST</pubDate>\\n\\t<description>Are you an inventor or new to Patent Trial and Appeal Board (PTAB or Board) proceedings? Join us on Thursday, January 27, at noon ET, to learn more about all aspects of ex parte appeals, America Invents Act (AIA) proceedings, and PTAB operations.</description>\\n</item>\\n',\n",
       "  \"<item> <title>Attend DOCX filing training</title>\\n\\t<link>https://www.uspto.gov/about-us/events/attend-docx-filing-training-50</link>\\n\\t<guid>https://www.uspto.gov/about-us/events/attend-docx-filing-training-50</guid>\\n\\t<pubDate>Thu, 27 Jan 2022 14:00:00 EST</pubDate>\\n\\t<description>Learn how to file patent-related documents in DOCX format using Patent Center and EFS-Web during any of several free upcoming training sessions. You will hear from experts on the United States Patent and Trademark Office's (USPTO) eCommerce Modernization (eMod) team, who will provide demonstrations and answer your questions.</description>\\n</item>\\n\",\n",
       "  '<item> <title>The Path to a Patent, Part III: Patent searching</title>\\n\\t<link>https://www.uspto.gov/about-us/uspto-locations/denver-co/path-patent-part-iii-patent-searching-3</link>\\n\\t<guid>https://www.uspto.gov/about-us/uspto-locations/denver-co/path-patent-part-iii-patent-searching-3</guid>\\n\\t<pubDate>Thu, 27 Jan 2022 14:00:00 EST</pubDate>\\n\\t<description>Are you interested in learning more about patent searching? Attend this virtual session and learn from United States Patent and Trademark Office (USPTO) experts about preliminary searching, using the suggested Seven-Step Strategy, and more. Register now for this free event.</description>\\n</item>\\n',\n",
       "  '<item> <title>Attend the Trademark Public Advisory Committee quarterly meeting</title>\\n\\t<link>https://www.uspto.gov/about-us/events/attend-trademark-public-advisory-committee-quarterly-meeting-11</link>\\n\\t<guid>https://www.uspto.gov/about-us/events/attend-trademark-public-advisory-committee-quarterly-meeting-11</guid>\\n\\t<pubDate>Fri, 28 Jan 2022 10:00:00 EST</pubDate>\\n\\t<description>Attend the next quarterly meeting of the Trademark Public Advisory Committee (TPAC) to learn more about trademark-related policies, goals, performance, budget, and user fees. You can watch the public session virtually at the following Teams link. The TPAC advises the Under Secretary of Commerce for Intellectual Property and Director of the USPTO.</description>\\n</item>\\n',\n",
       "  \"<item> <title>Attend DOCX filing training</title>\\n\\t<link>https://www.uspto.gov/about-us/events/attend-docx-filing-training-57</link>\\n\\t<guid>https://www.uspto.gov/about-us/events/attend-docx-filing-training-57</guid>\\n\\t<pubDate>Tue, 01 Feb 2022 13:00:00 EST</pubDate>\\n\\t<description>Learn how to file patent-related documents in DOCX format using Patent Center and EFS-Web during any of several free upcoming training sessions. You will hear from experts on the United States Patent and Trademark Office's (USPTO) eCommerce Modernization (eMod) team, who will provide demonstrations and answer your questions.</description>\\n</item>\\n\",\n",
       "  '<item> <title>Trademark Basics Boot Camp, Module 4: Application requirements</title>\\n\\t<link>https://www.uspto.gov/about-us/events/trademark-basics-boot-camp-module-4-application-requirements-2</link>\\n\\t<guid>https://www.uspto.gov/about-us/events/trademark-basics-boot-camp-module-4-application-requirements-2</guid>\\n\\t<pubDate>Tue, 01 Feb 2022 14:00:00 EST</pubDate>\\n\\t<description>Are you a small business owner or entrepreneur interested in learning about trademarks and how to apply for a federal registration? If so, this event is a must-attend. In this fourth module of our eight-part virtual Trademark Basics Boot Camp, we’ll focus on the requirements for an initial trademark application. Knowing what is needed up front will help your filing process go more smoothly. The event is free, but space is limited, so register early.</description>\\n</item>\\n',\n",
       "  \"<item> <title>Attend DOCX filing training</title>\\n\\t<link>https://www.uspto.gov/about-us/events/attend-docx-filing-training-54</link>\\n\\t<guid>https://www.uspto.gov/about-us/events/attend-docx-filing-training-54</guid>\\n\\t<pubDate>Thu, 03 Feb 2022 14:00:00 EST</pubDate>\\n\\t<description>Learn how to file patent-related documents in DOCX format using Patent Center and EFS-Web during any of several free upcoming training sessions. You will hear from experts on the United States Patent and Trademark Office's (USPTO) eCommerce Modernization (eMod) team, who will provide demonstrations and answer your questions.</description>\\n</item>\\n\",\n",
       "  '<item> <title>The Path to a Patent, Part IV: Learn how to draft a patent application</title>\\n\\t<link>https://www.uspto.gov/about-us/uspto-locations/alexandria-va/path-patent-part-iv-learn-how-draft-patent-application</link>\\n\\t<guid>https://www.uspto.gov/about-us/uspto-locations/alexandria-va/path-patent-part-iv-learn-how-draft-patent-application</guid>\\n\\t<pubDate>Thu, 03 Feb 2022 14:00:00 EST</pubDate>\\n\\t<description>Understanding patent application drafting is a vital step in protecting your invention. Attend this virtual workshop and learn from United States Patent and Trademark Office (USPTO) experts about the formalities and requirements of drafting a patent application, as well as how to avoid common mistakes. Register now for this free virtual event.</description>\\n</item>\\n',\n",
       "  '<item> <title>Intellectual property basics and helpful resources</title>\\n\\t<link>https://www.uspto.gov/about-us/events/intellectual-property-basics-and-helpful-resources-0</link>\\n\\t<guid>https://www.uspto.gov/about-us/events/intellectual-property-basics-and-helpful-resources-0</guid>\\n\\t<pubDate>Thu, 03 Feb 2022 12:00:00 EST</pubDate>\\n\\t<description>Unfamiliar with patents, trademarks, copyrights, and trade secrets? Don’t miss this opportunity to learn from United States Patent and Trademark Office (USPTO) experts about intellectual property (IP) basics and potential ways to protect your innovation as you transition from idea to product.</description>\\n</item>\\n',\n",
       "  \"<item> <title>Attend DOCX filing training</title>\\n\\t<link>https://www.uspto.gov/about-us/events/attend-docx-filing-training-55</link>\\n\\t<guid>https://www.uspto.gov/about-us/events/attend-docx-filing-training-55</guid>\\n\\t<pubDate>Tue, 08 Feb 2022 14:00:00 EST</pubDate>\\n\\t<description>Learn how to file patent-related documents in DOCX format using Patent Center and EFS-Web during any of several free upcoming training sessions. You will hear from experts on the United States Patent and Trademark Office's (USPTO) eCommerce Modernization (eMod) team, who will provide demonstrations and answer your questions.</description>\\n</item>\\n\",\n",
       "  '<item> <title>Trademark Basics Boot Camp, Module 5: Application filing walk-through</title>\\n\\t<link>https://www.uspto.gov/about-us/events/trademark-basics-boot-camp-module-5-application-filing-walk-through-2</link>\\n\\t<guid>https://www.uspto.gov/about-us/events/trademark-basics-boot-camp-module-5-application-filing-walk-through-2</guid>\\n\\t<pubDate>Tue, 08 Feb 2022 14:00:00 EST</pubDate>\\n\\t<description>Are you a small business owner or entrepreneur interested in learning about trademarks and how to apply for a federal registration? If so, this event is a must-attend. In this fifth module of our eight-part virtual Trademark Basics Boot Camp, we’ll focus on the USPTO’s Trademark Electronic Application System (TEAS), including a live demonstration of a trademark filing. TEAS is the required system for making any trademark submission to the USPTO. The event is free, but space is limited, so register early.</description>\\n</item>\\n',\n",
       "  '<item> <title>What you need to sell your arts and crafts online: An introduction to entrepreneurship for Native American visual artists (Session 1)</title>\\n\\t<link>https://www.uspto.gov/about-us/events/what-you-need-sell-your-arts-and-crafts-online-introduction-entrepreneurship-native</link>\\n\\t<guid>https://www.uspto.gov/about-us/events/what-you-need-sell-your-arts-and-crafts-online-introduction-entrepreneurship-native</guid>\\n\\t<pubDate>Thu, 10 Feb 2022 15:00:00 EST</pubDate>\\n\\t<description>Native American, Alaska Native, and Native Hawaiian artists face unique challenges with the shift to online sales and continued limits on attendance at local arts and crafts fairs where their work has traditionally found a home. Register now for this inaugural program of a free, monthly webinar series on entrepreneurship and e-commerce that will run through December 2022.</description>\\n</item>\\n',\n",
       "  \"<item> <title>Attend DOCX filing training</title>\\n\\t<link>https://www.uspto.gov/about-us/events/attend-docx-filing-training-58</link>\\n\\t<guid>https://www.uspto.gov/about-us/events/attend-docx-filing-training-58</guid>\\n\\t<pubDate>Thu, 10 Feb 2022 13:00:00 EST</pubDate>\\n\\t<description>Learn how to file patent-related documents in DOCX format using Patent Center and EFS-Web during any of several free upcoming training sessions. You will hear from experts on the United States Patent and Trademark Office's (USPTO) eCommerce Modernization (eMod) team, who will provide demonstrations and answer your questions.</description>\\n</item>\\n\",\n",
       "  '<item> <title>USPTO guidance and policy: Subject matter eligibility</title>\\n\\t<link>https://www.uspto.gov/about-us/events/uspto-guidance-and-policy-subject-matter-eligibility</link>\\n\\t<guid>https://www.uspto.gov/about-us/events/uspto-guidance-and-policy-subject-matter-eligibility</guid>\\n\\t<pubDate>Tue, 15 Feb 2022 12:00:00 EST</pubDate>\\n\\t<description>Join us on February 15, 2022 for a presentation on patent subject matter eligibility under 35 U.S.C. 101.</description>\\n</item>\\n',\n",
       "  \"<item> <title>Attend DOCX filing training</title>\\n\\t<link>https://www.uspto.gov/about-us/events/attend-docx-filing-training-59</link>\\n\\t<guid>https://www.uspto.gov/about-us/events/attend-docx-filing-training-59</guid>\\n\\t<pubDate>Tue, 15 Feb 2022 13:00:00 EST</pubDate>\\n\\t<description>Learn how to file patent-related documents in DOCX format using Patent Center and EFS-Web during any of several free upcoming training sessions. You will hear from experts on the United States Patent and Trademark Office's (USPTO) eCommerce Modernization (eMod) team, who will provide demonstrations and answer your questions.</description>\\n</item>\\n\",\n",
       "  '<item> <title>Trademark Basics Boot Camp, Module 6: Responding to an office action</title>\\n\\t<link>https://www.uspto.gov/about-us/events/trademark-basics-boot-camp-module-6-responding-office-action-2</link>\\n\\t<guid>https://www.uspto.gov/about-us/events/trademark-basics-boot-camp-module-6-responding-office-action-2</guid>\\n\\t<pubDate>Tue, 15 Feb 2022 14:00:00 EST</pubDate>\\n\\t<description>Are you a small business owner or entrepreneur interested in learning about trademarks and how to apply for a federal registration? If so, this event is a must-attend. In this sixth module of our eight-part virtual Trademark Basics Boot Camp, we’ll focus on responding to office actions, the official letters that USPTO examining attorneys issue after reviewing your trademark application. The event is free, but space is limited, so register early.</description>\\n</item>\\n',\n",
       "  '<item> <title>Intellectual property basics and helpful resources</title>\\n\\t<link>https://www.uspto.gov/about-us/events/intellectual-property-basics-and-helpful-resources-12</link>\\n\\t<guid>https://www.uspto.gov/about-us/events/intellectual-property-basics-and-helpful-resources-12</guid>\\n\\t<pubDate>Tue, 15 Feb 2022 18:00:00 EST</pubDate>\\n\\t<description>Unfamiliar with patents, trademarks, copyrights, and trade secrets? Don’t miss this opportunity to learn from United States Patent and Trademark Office (USPTO) experts about intellectual property (IP) basics and potential ways to protect your innovation as you transition from idea to product.</description>\\n</item>\\n',\n",
       "  \"<item> <title>Attend DOCX filing training</title>\\n\\t<link>https://www.uspto.gov/about-us/events/attend-docx-filing-training-56</link>\\n\\t<guid>https://www.uspto.gov/about-us/events/attend-docx-filing-training-56</guid>\\n\\t<pubDate>Thu, 17 Feb 2022 14:00:00 EST</pubDate>\\n\\t<description>Learn how to file patent-related documents in DOCX format using Patent Center and EFS-Web during any of several free upcoming training sessions. You will hear from experts on the United States Patent and Trademark Office's (USPTO) eCommerce Modernization (eMod) team, who will provide demonstrations and answer your questions.</description>\\n</item>\\n\",\n",
       "  '<item> <title>The Path to a Patent, Part V: Understanding the role of claims in a patent application</title>\\n\\t<link>https://www.uspto.gov/about-us/uspto-locations/silicon-valley-ca/path-patent-part-v-understanding-role-claims-patent-2</link>\\n\\t<guid>https://www.uspto.gov/about-us/uspto-locations/silicon-valley-ca/path-patent-part-v-understanding-role-claims-patent-2</guid>\\n\\t<pubDate>Thu, 17 Feb 2022 14:00:00 EST</pubDate>\\n\\t<description>Are you an inventor preparing to file a patent application? Join us for Part V of our Path to a Patent series. United States Patent and Trademark Office (USPTO) experts will discuss the parts of the claim, show examples of claim illustrations from issued U.S. patents, and help participants develop a better appreciation of how a patent examiner views a claim. Register now for this free virtual event.</description>\\n</item>\\n',\n",
       "  '<item> <title>2022 Black Innovation and Entrepreneurship program, part one: Defining tomorrow</title>\\n\\t<link>https://www.uspto.gov/about-us/events/2022-black-innovation-and-entrepreneurship-program-part-one-defining-tomorrow</link>\\n\\t<guid>https://www.uspto.gov/about-us/events/2022-black-innovation-and-entrepreneurship-program-part-one-defining-tomorrow</guid>\\n\\t<pubDate>Thu, 17 Feb 2022 14:00:00 EST</pubDate>\\n\\t<description>Image</description>\\n</item>\\n',\n",
       "  '<item> <title>Trademark Basics Boot Camp, Module 7: Keeping your registration alive</title>\\n\\t<link>https://www.uspto.gov/about-us/events/trademark-basics-boot-camp-module-7-keeping-your-registration-alive-5</link>\\n\\t<guid>https://www.uspto.gov/about-us/events/trademark-basics-boot-camp-module-7-keeping-your-registration-alive-5</guid>\\n\\t<pubDate>Tue, 22 Feb 2022 14:00:00 EST</pubDate>\\n\\t<description>Are you a small business owner or entrepreneur interested in learning about trademarks and how to apply for a federal registration? If so, this event is a must-attend. In this seventh module of our eight-part virtual Trademark Basics Boot Camp, we’ll focus on what happens after registration, including mandatory filings to keep your registration alive. The event is free, but space is limited, so register early.</description>\\n</item>\\n',\n",
       "  '<item> <title>Intellectual Property (IP) Workshop for K12 Educators</title>\\n\\t<link>https://www.uspto.gov/learning-and-resources/kids-educators/intellectual-property-ip-workshop-k12-educators-18</link>\\n\\t<guid>https://www.uspto.gov/learning-and-resources/kids-educators/intellectual-property-ip-workshop-k12-educators-18</guid>\\n\\t<pubDate>Tue, 22 Feb 2022 18:00:00 EST</pubDate>\\n\\t<description></description>\\n</item>\\n',\n",
       "  '<item> <title>K-12 IP education office hours</title>\\n\\t<link>https://www.uspto.gov/learning-and-resources/kids-educators/k-12-ip-education-office-hours-9</link>\\n\\t<guid>https://www.uspto.gov/learning-and-resources/kids-educators/k-12-ip-education-office-hours-9</guid>\\n\\t<pubDate>Wed, 23 Feb 2022 15:00:00 EST</pubDate>\\n\\t<description></description>\\n</item>\\n',\n",
       "  '<item> <title>Intellectual property basics and helpful resources</title>\\n\\t<link>https://www.uspto.gov/about-us/events/intellectual-property-basics-and-helpful-resources-13</link>\\n\\t<guid>https://www.uspto.gov/about-us/events/intellectual-property-basics-and-helpful-resources-13</guid>\\n\\t<pubDate>Thu, 24 Feb 2022 18:00:00 EST</pubDate>\\n\\t<description>Unfamiliar with patents, trademarks, copyrights, and trade secrets? Don’t miss this opportunity to learn from United States Patent and Trademark Office (USPTO) experts about intellectual property (IP) basics and potential ways to protect your innovation as you transition from idea to product.</description>\\n</item>\\n',\n",
       "  \"<item> <title>Attend DOCX filing training</title>\\n\\t<link>https://www.uspto.gov/about-us/events/attend-docx-filing-training-60</link>\\n\\t<guid>https://www.uspto.gov/about-us/events/attend-docx-filing-training-60</guid>\\n\\t<pubDate>Thu, 24 Feb 2022 13:00:00 EST</pubDate>\\n\\t<description>Learn how to file patent-related documents in DOCX format using Patent Center and EFS-Web during any of several free upcoming training sessions. You will hear from experts on the United States Patent and Trademark Office's (USPTO) eCommerce Modernization (eMod) team, who will provide demonstrations and answer your questions.</description>\\n</item>\\n\",\n",
       "  '<item> <title>2022 Black Innovation and Entrepreneurship program, part two: Invest in ideas</title>\\n\\t<link>https://www.uspto.gov/about-us/events/2022-black-innovation-and-entrepreneurship-program-part-two-invest-ideas</link>\\n\\t<guid>https://www.uspto.gov/about-us/events/2022-black-innovation-and-entrepreneurship-program-part-two-invest-ideas</guid>\\n\\t<pubDate>Thu, 24 Feb 2022 15:00:00 EST</pubDate>\\n\\t<description>Image</description>\\n</item>\\n',\n",
       "  '<item> <title>Trademark Basics Boot Camp, Module 8: Question-and-answer panel</title>\\n\\t<link>https://www.uspto.gov/about-us/events/trademark-basics-boot-camp-module-8-question-and-answer-panel-4</link>\\n\\t<guid>https://www.uspto.gov/about-us/events/trademark-basics-boot-camp-module-8-question-and-answer-panel-4</guid>\\n\\t<pubDate>Tue, 01 Mar 2022 14:00:00 EST</pubDate>\\n\\t<description>Are you a small business owner or entrepreneur interested in learning about trademarks and how to apply for a federal registration? If so, this event is a must-attend. In this final module of our eight-part virtual Trademark Basics Boot Camp, we’ll provide a unique opportunity for you to “meet the trademark experts.” Come prepared with all of your trademark questions to share with our Law Office Managing Attorneys and other trademark experts. The event is free, but space is limited, so register early.</description>\\n</item>\\n',\n",
       "  '<item> <title>Intellectual property basics and helpful resources</title>\\n\\t<link>https://www.uspto.gov/about-us/events/intellectual-property-basics-and-helpful-resources-1</link>\\n\\t<guid>https://www.uspto.gov/about-us/events/intellectual-property-basics-and-helpful-resources-1</guid>\\n\\t<pubDate>Thu, 03 Mar 2022 12:00:00 EST</pubDate>\\n\\t<description>Unfamiliar with patents, trademarks, copyrights, and trade secrets? Don’t miss this opportunity to learn from United States Patent and Trademark Office (USPTO) experts about intellectual property (IP) basics and potential ways to protect your innovation as you transition from idea to product.</description>\\n</item>\\n',\n",
       "  \"<item> <title>The Path to a Patent, Part VI: Learn how to protect your IP abroad</title>\\n\\t<link>https://www.uspto.gov/about-us/uspto-locations/silicon-valley-ca/path-patent-part-vi-learn-how-protect-your-ip-abroad-5</link>\\n\\t<guid>https://www.uspto.gov/about-us/uspto-locations/silicon-valley-ca/path-patent-part-vi-learn-how-protect-your-ip-abroad-5</guid>\\n\\t<pubDate>Thu, 03 Mar 2022 14:00:00 EST</pubDate>\\n\\t<description>Did you know that patents offer territorial rights, meaning that there is no such thing as an international or global patent? Learn how to help protect your intellectual property (IP) in foreign jurisdictions. United States Patent and Trademark Office's (USPTO) International Patent Legal Administration experts will discuss considerations and options for filing foreign patent applications. Register now for this free virtual event.</description>\\n</item>\\n\",\n",
       "  '<item> <title>The Path to a Patent, Part VII: How to file a patent application using Patent Center</title>\\n\\t<link>https://www.uspto.gov/about-us/uspto-locations/denver-co/path-patent-part-vii-how-file-patent-application-using-patent-0</link>\\n\\t<guid>https://www.uspto.gov/about-us/uspto-locations/denver-co/path-patent-part-vii-how-file-patent-application-using-patent-0</guid>\\n\\t<pubDate>Thu, 10 Mar 2022 14:00:00 EST</pubDate>\\n\\t<description>Looking for more information on using Patent Center? United States Patent and Trademark Office (USPTO) experts will teach participants how to use this tool to file and manage patent documents online. This presentation will feature filing application documents in DOCX format, including using Patent Center training mode to practice filing. You will learn about some helpful resources, such as the Inventors Assistance Center (IAC) and the Patent Electronics Business Center (EBC). Register early for this virtual event.</description>\\n</item>\\n',\n",
       "  '<item> <title>The Path to a Patent, Part VIII: Common mistakes and post-filing support</title>\\n\\t<link>https://www.uspto.gov/about-us/uspto-locations/silicon-valley-ca/path-patent-part-viii-common-mistakes-and-post-filing-0</link>\\n\\t<guid>https://www.uspto.gov/about-us/uspto-locations/silicon-valley-ca/path-patent-part-viii-common-mistakes-and-post-filing-0</guid>\\n\\t<pubDate>Thu, 17 Mar 2022 14:00:00 EST</pubDate>\\n\\t<description>Are you an inventor? Join us for this session full of important tips on filing a patent application and what to do after you file for a patent. Learn about common mistakes to avoid and gain a better understanding of post-filing procedures and support. Register now for this free virtual event.</description>\\n</item>\\n',\n",
       "  '<item> <title>Patent Trial and Appeal Board presents Appeals 101</title>\\n\\t<link>https://www.uspto.gov/about-us/events/patent-trial-and-appeal-board-presents-appeals-101</link>\\n\\t<guid>https://www.uspto.gov/about-us/events/patent-trial-and-appeal-board-presents-appeals-101</guid>\\n\\t<pubDate>Tue, 29 Mar 2022 12:00:00 EST</pubDate>\\n\\t<description>Interested in learning more about the appeal process? Join the Patent Trial and Appeal Board (PTAB) for a presentation on March 29, 2022.</description>\\n</item>\\n',\n",
       "  '<item> <title>Intellectual Property (IP) Workshop for K12 Educators</title>\\n\\t<link>https://www.uspto.gov/learning-and-resources/kids-educators/intellectual-property-ip-workshop-k12-educators-17</link>\\n\\t<guid>https://www.uspto.gov/learning-and-resources/kids-educators/intellectual-property-ip-workshop-k12-educators-17</guid>\\n\\t<pubDate>Tue, 29 Mar 2022 18:00:00 EST</pubDate>\\n\\t<description></description>\\n</item>\\n',\n",
       "  '<item> <title>K-12 IP education office hours</title>\\n\\t<link>https://www.uspto.gov/learning-and-resources/kids-educators/k-12-ip-education-office-hours-10</link>\\n\\t<guid>https://www.uspto.gov/learning-and-resources/kids-educators/k-12-ip-education-office-hours-10</guid>\\n\\t<pubDate>Wed, 30 Mar 2022 15:00:00 EST</pubDate>\\n\\t<description></description>\\n</item>\\n',\n",
       "  '<item> <title>Intellectual property basics and helpful resources</title>\\n\\t<link>https://www.uspto.gov/about-us/events/intellectual-property-basics-and-helpful-resources-2</link>\\n\\t<guid>https://www.uspto.gov/about-us/events/intellectual-property-basics-and-helpful-resources-2</guid>\\n\\t<pubDate>Thu, 07 Apr 2022 12:00:00 EST</pubDate>\\n\\t<description>Unfamiliar with patents, trademarks, copyrights, and trade secrets? Don’t miss this opportunity to learn from United States Patent and Trademark Office (USPTO) experts about intellectual property (IP) basics and potential ways to protect your innovation as you transition from idea to product.</description>\\n</item>\\n',\n",
       "  '<item> <title>Intellectual Property (IP) Workshop for K12 Educators</title>\\n\\t<link>https://www.uspto.gov/learning-and-resources/kids-educators/intellectual-property-ip-workshop-k12-educators-16</link>\\n\\t<guid>https://www.uspto.gov/learning-and-resources/kids-educators/intellectual-property-ip-workshop-k12-educators-16</guid>\\n\\t<pubDate>Tue, 26 Apr 2022 18:00:00 EST</pubDate>\\n\\t<description></description>\\n</item>\\n',\n",
       "  '<item> <title>K-12 IP education office hours</title>\\n\\t<link>https://www.uspto.gov/learning-and-resources/kids-educators/k-12-ip-education-office-hours-11</link>\\n\\t<guid>https://www.uspto.gov/learning-and-resources/kids-educators/k-12-ip-education-office-hours-11</guid>\\n\\t<pubDate>Wed, 27 Apr 2022 15:00:00 EST</pubDate>\\n\\t<description></description>\\n</item>\\n',\n",
       "  '<item> <title>Intellectual property basics and helpful resources</title>\\n\\t<link>https://www.uspto.gov/about-us/events/intellectual-property-basics-and-helpful-resources-3</link>\\n\\t<guid>https://www.uspto.gov/about-us/events/intellectual-property-basics-and-helpful-resources-3</guid>\\n\\t<pubDate>Thu, 05 May 2022 12:00:00 EST</pubDate>\\n\\t<description>Unfamiliar with patents, trademarks, copyrights, and trade secrets? Don’t miss this opportunity to learn from United States Patent and Trademark Office (USPTO) experts about intellectual property (IP) basics and potential ways to protect your innovation as you transition from idea to product.</description>\\n</item>\\n',\n",
       "  '<item> <title>Intellectual Property (IP) Workshop for K12 Educators</title>\\n\\t<link>https://www.uspto.gov/learning-and-resources/kids-educators/intellectual-property-ip-workshop-k12-educators-15</link>\\n\\t<guid>https://www.uspto.gov/learning-and-resources/kids-educators/intellectual-property-ip-workshop-k12-educators-15</guid>\\n\\t<pubDate>Tue, 31 May 2022 18:00:00 EST</pubDate>\\n\\t<description></description>\\n</item>\\n',\n",
       "  '<item> <title>K-12 IP education office hours</title>\\n\\t<link>https://www.uspto.gov/learning-and-resources/kids-educators/k-12-ip-education-office-hours-12</link>\\n\\t<guid>https://www.uspto.gov/learning-and-resources/kids-educators/k-12-ip-education-office-hours-12</guid>\\n\\t<pubDate>Wed, 01 Jun 2022 15:00:00 EST</pubDate>\\n\\t<description></description>\\n</item>\\n',\n",
       "  '<item> <title>Intellectual property basics and helpful resources</title>\\n\\t<link>https://www.uspto.gov/about-us/events/intellectual-property-basics-and-helpful-resources-4</link>\\n\\t<guid>https://www.uspto.gov/about-us/events/intellectual-property-basics-and-helpful-resources-4</guid>\\n\\t<pubDate>Thu, 02 Jun 2022 12:00:00 EST</pubDate>\\n\\t<description>Unfamiliar with patents, trademarks, copyrights, and trade secrets? Don’t miss this opportunity to learn from United States Patent and Trademark Office (USPTO) experts about intellectual property (IP) basics and potential ways to protect your innovation as you transition from idea to product.</description>\\n</item>\\n',\n",
       "  '<item> <title>Intellectual Property (IP) Workshop for K12 Educators</title>\\n\\t<link>https://www.uspto.gov/learning-and-resources/kids-educators/intellectual-property-ip-workshop-k12-educators-14</link>\\n\\t<guid>https://www.uspto.gov/learning-and-resources/kids-educators/intellectual-property-ip-workshop-k12-educators-14</guid>\\n\\t<pubDate>Tue, 28 Jun 2022 18:00:00 EST</pubDate>\\n\\t<description></description>\\n</item>\\n',\n",
       "  '<item> <title>K-12 IP education office hours</title>\\n\\t<link>https://www.uspto.gov/learning-and-resources/kids-educators/k-12-ip-education-office-hours-13</link>\\n\\t<guid>https://www.uspto.gov/learning-and-resources/kids-educators/k-12-ip-education-office-hours-13</guid>\\n\\t<pubDate>Wed, 29 Jun 2022 15:00:00 EST</pubDate>\\n\\t<description></description>\\n</item>\\n',\n",
       "  '<item> <title>Intellectual property basics and helpful resources</title>\\n\\t<link>https://www.uspto.gov/about-us/events/intellectual-property-basics-and-helpful-resources-5</link>\\n\\t<guid>https://www.uspto.gov/about-us/events/intellectual-property-basics-and-helpful-resources-5</guid>\\n\\t<pubDate>Thu, 07 Jul 2022 12:00:00 EST</pubDate>\\n\\t<description>Unfamiliar with patents, trademarks, copyrights, and trade secrets? Don’t miss this opportunity to learn from United States Patent and Trademark Office (USPTO) experts about intellectual property (IP) basics and potential ways to protect your innovation as you transition from idea to product.</description>\\n</item>\\n',\n",
       "  '<item> <title>Intellectual Property (IP) Workshop for K12 Educators</title>\\n\\t<link>https://www.uspto.gov/learning-and-resources/kids-educators/intellectual-property-ip-workshop-k12-educators-13</link>\\n\\t<guid>https://www.uspto.gov/learning-and-resources/kids-educators/intellectual-property-ip-workshop-k12-educators-13</guid>\\n\\t<pubDate>Tue, 26 Jul 2022 18:00:00 EST</pubDate>\\n\\t<description></description>\\n</item>\\n',\n",
       "  '<item> <title>K-12 IP education office hours</title>\\n\\t<link>https://www.uspto.gov/learning-and-resources/kids-educators/k-12-ip-education-office-hours-14</link>\\n\\t<guid>https://www.uspto.gov/learning-and-resources/kids-educators/k-12-ip-education-office-hours-14</guid>\\n\\t<pubDate>Wed, 27 Jul 2022 15:00:00 EST</pubDate>\\n\\t<description></description>\\n</item>\\n',\n",
       "  '<item> <title>Intellectual property basics and helpful resources</title>\\n\\t<link>https://www.uspto.gov/about-us/events/intellectual-property-basics-and-helpful-resources-6</link>\\n\\t<guid>https://www.uspto.gov/about-us/events/intellectual-property-basics-and-helpful-resources-6</guid>\\n\\t<pubDate>Thu, 04 Aug 2022 12:00:00 EST</pubDate>\\n\\t<description>Unfamiliar with patents, trademarks, copyrights, and trade secrets? Don’t miss this opportunity to learn from United States Patent and Trademark Office (USPTO) experts about intellectual property (IP) basics and potential ways to protect your innovation as you transition from idea to product.</description>\\n</item>\\n',\n",
       "  '<item> <title>Intellectual Property (IP) Workshop for K12 Educators</title>\\n\\t<link>https://www.uspto.gov/learning-and-resources/kids-educators/intellectual-property-ip-workshop-k12-educators-12</link>\\n\\t<guid>https://www.uspto.gov/learning-and-resources/kids-educators/intellectual-property-ip-workshop-k12-educators-12</guid>\\n\\t<pubDate>Tue, 30 Aug 2022 18:00:00 EST</pubDate>\\n\\t<description></description>\\n</item>\\n',\n",
       "  '<item> <title>K-12 IP education office hours</title>\\n\\t<link>https://www.uspto.gov/learning-and-resources/kids-educators/k-12-ip-education-office-hours-15</link>\\n\\t<guid>https://www.uspto.gov/learning-and-resources/kids-educators/k-12-ip-education-office-hours-15</guid>\\n\\t<pubDate>Wed, 31 Aug 2022 15:00:00 EST</pubDate>\\n\\t<description></description>\\n</item>\\n',\n",
       "  '<item> <title>Intellectual property basics and helpful resources</title>\\n\\t<link>https://www.uspto.gov/about-us/events/intellectual-property-basics-and-helpful-resources-7</link>\\n\\t<guid>https://www.uspto.gov/about-us/events/intellectual-property-basics-and-helpful-resources-7</guid>\\n\\t<pubDate>Thu, 01 Sep 2022 12:00:00 EST</pubDate>\\n\\t<description>Unfamiliar with patents, trademarks, copyrights, and trade secrets? Don’t miss this opportunity to learn from United States Patent and Trademark Office (USPTO) experts about intellectual property (IP) basics and potential ways to protect your innovation as you transition from idea to product.</description>\\n</item>\\n',\n",
       "  '<item> <title>Intellectual Property (IP) Workshop for K12 Educators</title>\\n\\t<link>https://www.uspto.gov/learning-and-resources/kids-educators/intellectual-property-ip-workshop-k12-educators-11</link>\\n\\t<guid>https://www.uspto.gov/learning-and-resources/kids-educators/intellectual-property-ip-workshop-k12-educators-11</guid>\\n\\t<pubDate>Tue, 27 Sep 2022 18:00:00 EST</pubDate>\\n\\t<description></description>\\n</item>\\n',\n",
       "  '<item> <title>K-12 IP education office hours</title>\\n\\t<link>https://www.uspto.gov/learning-and-resources/kids-educators/k-12-ip-education-office-hours-16</link>\\n\\t<guid>https://www.uspto.gov/learning-and-resources/kids-educators/k-12-ip-education-office-hours-16</guid>\\n\\t<pubDate>Wed, 28 Sep 2022 15:00:00 EST</pubDate>\\n\\t<description></description>\\n</item>\\n',\n",
       "  '<item> <title>Intellectual property basics and helpful resources</title>\\n\\t<link>https://www.uspto.gov/about-us/events/intellectual-property-basics-and-helpful-resources-8</link>\\n\\t<guid>https://www.uspto.gov/about-us/events/intellectual-property-basics-and-helpful-resources-8</guid>\\n\\t<pubDate>Thu, 06 Oct 2022 12:00:00 EST</pubDate>\\n\\t<description>Unfamiliar with patents, trademarks, copyrights, and trade secrets? Don’t miss this opportunity to learn from United States Patent and Trademark Office (USPTO) experts about intellectual property (IP) basics and potential ways to protect your innovation as you transition from idea to product.</description>\\n</item>\\n',\n",
       "  '<item> <title>Intellectual Property (IP) Workshop for K12 Educators</title>\\n\\t<link>https://www.uspto.gov/learning-and-resources/kids-educators/intellectual-property-ip-workshop-k12-educators-10</link>\\n\\t<guid>https://www.uspto.gov/learning-and-resources/kids-educators/intellectual-property-ip-workshop-k12-educators-10</guid>\\n\\t<pubDate>Tue, 25 Oct 2022 18:00:00 EST</pubDate>\\n\\t<description></description>\\n</item>\\n',\n",
       "  '<item> <title>K-12 IP education office hours</title>\\n\\t<link>https://www.uspto.gov/learning-and-resources/kids-educators/k-12-ip-education-office-hours-17</link>\\n\\t<guid>https://www.uspto.gov/learning-and-resources/kids-educators/k-12-ip-education-office-hours-17</guid>\\n\\t<pubDate>Wed, 26 Oct 2022 15:00:00 EST</pubDate>\\n\\t<description></description>\\n</item>\\n',\n",
       "  '<item> <title>Intellectual property basics and helpful resources</title>\\n\\t<link>https://www.uspto.gov/about-us/events/intellectual-property-basics-and-helpful-resources-9</link>\\n\\t<guid>https://www.uspto.gov/about-us/events/intellectual-property-basics-and-helpful-resources-9</guid>\\n\\t<pubDate>Thu, 03 Nov 2022 12:00:00 EST</pubDate>\\n\\t<description>Unfamiliar with patents, trademarks, copyrights, and trade secrets? Don’t miss this opportunity to learn from United States Patent and Trademark Office (USPTO) experts about intellectual property (IP) basics and potential ways to protect your innovation as you transition from idea to product.</description>\\n</item>\\n',\n",
       "  '<item> <title>Intellectual property basics and helpful resources</title>\\n\\t<link>https://www.uspto.gov/about-us/events/intellectual-property-basics-and-helpful-resources-10</link>\\n\\t<guid>https://www.uspto.gov/about-us/events/intellectual-property-basics-and-helpful-resources-10</guid>\\n\\t<pubDate>Thu, 01 Dec 2022 12:00:00 EST</pubDate>\\n\\t<description>Unfamiliar with patents, trademarks, copyrights, and trade secrets? Don’t miss this opportunity to learn from United States Patent and Trademark Office (USPTO) experts about intellectual property (IP) basics and potential ways to protect your innovation as you transition from idea to product.</description>\\n</item>\\n'],\n",
       " 'Patent': ['',\n",
       "  '<?xml version=\"1.0\" encoding=\"utf-8\"?>\\n<rss version=\"2.0\">\\n<channel>\\n',\n",
       "  '<title>USPTO Patent Events</title>\\n<link>https://guides.lib.ucr.edu/c.php?g=932732</link>\\n',\n",
       "  '<description>This feed provides easy access to USPTO Patent Patents events.</description>\\n<language>en-us</language>\\n',\n",
       "  '<lastBuildDate>Tue, 25 Jan 2022 11:40:19 PST</lastBuildDate>\\n<webMaster>katherine.koziar@ucr.edu</webMaster>\\n\\n',\n",
       "  '<item> <title>Intellectual property basics and helpful resources</title>\\n\\t<link>https://www.uspto.gov/about-us/events/intellectual-property-basics-and-helpful-resources-11</link>\\n\\t<guid>https://www.uspto.gov/about-us/events/intellectual-property-basics-and-helpful-resources-11</guid>\\n\\t<pubDate>Thu, 20 Jan 2022 20:00:00 EST</pubDate>\\n\\t<description>Unfamiliar with patents, trademarks, copyrights, and trade secrets? Don’t miss this opportunity to learn from United States Patent and Trademark Office (USPTO) experts about intellectual property (IP) basics and potential ways to protect your innovation as you transition from idea to product.</description>\\n</item>\\n',\n",
       "  \"<item> <title>Attend DOCX filing training</title>\\n\\t<link>https://www.uspto.gov/about-us/events/attend-docx-filing-training-53</link>\\n\\t<guid>https://www.uspto.gov/about-us/events/attend-docx-filing-training-53</guid>\\n\\t<pubDate>Tue, 25 Jan 2022 13:00:00 EST</pubDate>\\n\\t<description>Learn how to file patent-related documents in DOCX format using Patent Center and EFS-Web during any of several free upcoming training sessions. You will hear from experts on the United States Patent and Trademark Office's (USPTO) eCommerce Modernization (eMod) team, who will provide demonstrations and answer your questions.</description>\\n</item>\\n\",\n",
       "  \"<item> <title>USPTO's liquid capital: Data resources for inventors</title>\\n\\t<link>https://www.uspto.gov/about-us/events/usptos-liquid-capital-data-resources-inventors</link>\\n\\t<guid>https://www.uspto.gov/about-us/events/usptos-liquid-capital-data-resources-inventors</guid>\\n\\t<pubDate>Wed, 26 Jan 2022 13:00:00 EST</pubDate>\\n\\t<description>The United States Patent and Trademark Office's (USPTO) data plays a critical role in spurring jobs, empowering entrepreneurs to innovate and grow, and helping American businesses to compete globally. Join us for this free virtual event to learn more about available USPTO data and resources for inventors. We will have a lively discussion engaging those who share a passion for strengthening the competitive edge of American inventors and entrepreneurs.</description>\\n</item>\\n\",\n",
       "  \"<item> <title>Attend DOCX filing training</title>\\n\\t<link>https://www.uspto.gov/about-us/events/attend-docx-filing-training-50</link>\\n\\t<guid>https://www.uspto.gov/about-us/events/attend-docx-filing-training-50</guid>\\n\\t<pubDate>Thu, 27 Jan 2022 14:00:00 EST</pubDate>\\n\\t<description>Learn how to file patent-related documents in DOCX format using Patent Center and EFS-Web during any of several free upcoming training sessions. You will hear from experts on the United States Patent and Trademark Office's (USPTO) eCommerce Modernization (eMod) team, who will provide demonstrations and answer your questions.</description>\\n</item>\\n\",\n",
       "  '<item> <title>The Path to a Patent, Part III: Patent searching</title>\\n\\t<link>https://www.uspto.gov/about-us/uspto-locations/denver-co/path-patent-part-iii-patent-searching-3</link>\\n\\t<guid>https://www.uspto.gov/about-us/uspto-locations/denver-co/path-patent-part-iii-patent-searching-3</guid>\\n\\t<pubDate>Thu, 27 Jan 2022 14:00:00 EST</pubDate>\\n\\t<description>Are you interested in learning more about patent searching? Attend this virtual session and learn from United States Patent and Trademark Office (USPTO) experts about preliminary searching, using the suggested Seven-Step Strategy, and more. Register now for this free event.</description>\\n</item>\\n',\n",
       "  \"<item> <title>Attend DOCX filing training</title>\\n\\t<link>https://www.uspto.gov/about-us/events/attend-docx-filing-training-57</link>\\n\\t<guid>https://www.uspto.gov/about-us/events/attend-docx-filing-training-57</guid>\\n\\t<pubDate>Tue, 01 Feb 2022 13:00:00 EST</pubDate>\\n\\t<description>Learn how to file patent-related documents in DOCX format using Patent Center and EFS-Web during any of several free upcoming training sessions. You will hear from experts on the United States Patent and Trademark Office's (USPTO) eCommerce Modernization (eMod) team, who will provide demonstrations and answer your questions.</description>\\n</item>\\n\",\n",
       "  \"<item> <title>Attend DOCX filing training</title>\\n\\t<link>https://www.uspto.gov/about-us/events/attend-docx-filing-training-54</link>\\n\\t<guid>https://www.uspto.gov/about-us/events/attend-docx-filing-training-54</guid>\\n\\t<pubDate>Thu, 03 Feb 2022 14:00:00 EST</pubDate>\\n\\t<description>Learn how to file patent-related documents in DOCX format using Patent Center and EFS-Web during any of several free upcoming training sessions. You will hear from experts on the United States Patent and Trademark Office's (USPTO) eCommerce Modernization (eMod) team, who will provide demonstrations and answer your questions.</description>\\n</item>\\n\",\n",
       "  '<item> <title>The Path to a Patent, Part IV: Learn how to draft a patent application</title>\\n\\t<link>https://www.uspto.gov/about-us/uspto-locations/alexandria-va/path-patent-part-iv-learn-how-draft-patent-application</link>\\n\\t<guid>https://www.uspto.gov/about-us/uspto-locations/alexandria-va/path-patent-part-iv-learn-how-draft-patent-application</guid>\\n\\t<pubDate>Thu, 03 Feb 2022 14:00:00 EST</pubDate>\\n\\t<description>Understanding patent application drafting is a vital step in protecting your invention. Attend this virtual workshop and learn from United States Patent and Trademark Office (USPTO) experts about the formalities and requirements of drafting a patent application, as well as how to avoid common mistakes. Register now for this free virtual event.</description>\\n</item>\\n',\n",
       "  '<item> <title>Intellectual property basics and helpful resources</title>\\n\\t<link>https://www.uspto.gov/about-us/events/intellectual-property-basics-and-helpful-resources-0</link>\\n\\t<guid>https://www.uspto.gov/about-us/events/intellectual-property-basics-and-helpful-resources-0</guid>\\n\\t<pubDate>Thu, 03 Feb 2022 12:00:00 EST</pubDate>\\n\\t<description>Unfamiliar with patents, trademarks, copyrights, and trade secrets? Don’t miss this opportunity to learn from United States Patent and Trademark Office (USPTO) experts about intellectual property (IP) basics and potential ways to protect your innovation as you transition from idea to product.</description>\\n</item>\\n',\n",
       "  \"<item> <title>Attend DOCX filing training</title>\\n\\t<link>https://www.uspto.gov/about-us/events/attend-docx-filing-training-55</link>\\n\\t<guid>https://www.uspto.gov/about-us/events/attend-docx-filing-training-55</guid>\\n\\t<pubDate>Tue, 08 Feb 2022 14:00:00 EST</pubDate>\\n\\t<description>Learn how to file patent-related documents in DOCX format using Patent Center and EFS-Web during any of several free upcoming training sessions. You will hear from experts on the United States Patent and Trademark Office's (USPTO) eCommerce Modernization (eMod) team, who will provide demonstrations and answer your questions.</description>\\n</item>\\n\",\n",
       "  \"<item> <title>Attend DOCX filing training</title>\\n\\t<link>https://www.uspto.gov/about-us/events/attend-docx-filing-training-58</link>\\n\\t<guid>https://www.uspto.gov/about-us/events/attend-docx-filing-training-58</guid>\\n\\t<pubDate>Thu, 10 Feb 2022 13:00:00 EST</pubDate>\\n\\t<description>Learn how to file patent-related documents in DOCX format using Patent Center and EFS-Web during any of several free upcoming training sessions. You will hear from experts on the United States Patent and Trademark Office's (USPTO) eCommerce Modernization (eMod) team, who will provide demonstrations and answer your questions.</description>\\n</item>\\n\",\n",
       "  '<item> <title>USPTO guidance and policy: Subject matter eligibility</title>\\n\\t<link>https://www.uspto.gov/about-us/events/uspto-guidance-and-policy-subject-matter-eligibility</link>\\n\\t<guid>https://www.uspto.gov/about-us/events/uspto-guidance-and-policy-subject-matter-eligibility</guid>\\n\\t<pubDate>Tue, 15 Feb 2022 12:00:00 EST</pubDate>\\n\\t<description>Join us on February 15, 2022 for a presentation on patent subject matter eligibility under 35 U.S.C. 101.</description>\\n</item>\\n',\n",
       "  \"<item> <title>Attend DOCX filing training</title>\\n\\t<link>https://www.uspto.gov/about-us/events/attend-docx-filing-training-59</link>\\n\\t<guid>https://www.uspto.gov/about-us/events/attend-docx-filing-training-59</guid>\\n\\t<pubDate>Tue, 15 Feb 2022 13:00:00 EST</pubDate>\\n\\t<description>Learn how to file patent-related documents in DOCX format using Patent Center and EFS-Web during any of several free upcoming training sessions. You will hear from experts on the United States Patent and Trademark Office's (USPTO) eCommerce Modernization (eMod) team, who will provide demonstrations and answer your questions.</description>\\n</item>\\n\",\n",
       "  '<item> <title>Intellectual property basics and helpful resources</title>\\n\\t<link>https://www.uspto.gov/about-us/events/intellectual-property-basics-and-helpful-resources-12</link>\\n\\t<guid>https://www.uspto.gov/about-us/events/intellectual-property-basics-and-helpful-resources-12</guid>\\n\\t<pubDate>Tue, 15 Feb 2022 18:00:00 EST</pubDate>\\n\\t<description>Unfamiliar with patents, trademarks, copyrights, and trade secrets? Don’t miss this opportunity to learn from United States Patent and Trademark Office (USPTO) experts about intellectual property (IP) basics and potential ways to protect your innovation as you transition from idea to product.</description>\\n</item>\\n',\n",
       "  \"<item> <title>Attend DOCX filing training</title>\\n\\t<link>https://www.uspto.gov/about-us/events/attend-docx-filing-training-56</link>\\n\\t<guid>https://www.uspto.gov/about-us/events/attend-docx-filing-training-56</guid>\\n\\t<pubDate>Thu, 17 Feb 2022 14:00:00 EST</pubDate>\\n\\t<description>Learn how to file patent-related documents in DOCX format using Patent Center and EFS-Web during any of several free upcoming training sessions. You will hear from experts on the United States Patent and Trademark Office's (USPTO) eCommerce Modernization (eMod) team, who will provide demonstrations and answer your questions.</description>\\n</item>\\n\",\n",
       "  '<item> <title>The Path to a Patent, Part V: Understanding the role of claims in a patent application</title>\\n\\t<link>https://www.uspto.gov/about-us/uspto-locations/silicon-valley-ca/path-patent-part-v-understanding-role-claims-patent-2</link>\\n\\t<guid>https://www.uspto.gov/about-us/uspto-locations/silicon-valley-ca/path-patent-part-v-understanding-role-claims-patent-2</guid>\\n\\t<pubDate>Thu, 17 Feb 2022 14:00:00 EST</pubDate>\\n\\t<description>Are you an inventor preparing to file a patent application? Join us for Part V of our Path to a Patent series. United States Patent and Trademark Office (USPTO) experts will discuss the parts of the claim, show examples of claim illustrations from issued U.S. patents, and help participants develop a better appreciation of how a patent examiner views a claim. Register now for this free virtual event.</description>\\n</item>\\n',\n",
       "  '<item> <title>Intellectual property basics and helpful resources</title>\\n\\t<link>https://www.uspto.gov/about-us/events/intellectual-property-basics-and-helpful-resources-13</link>\\n\\t<guid>https://www.uspto.gov/about-us/events/intellectual-property-basics-and-helpful-resources-13</guid>\\n\\t<pubDate>Thu, 24 Feb 2022 18:00:00 EST</pubDate>\\n\\t<description>Unfamiliar with patents, trademarks, copyrights, and trade secrets? Don’t miss this opportunity to learn from United States Patent and Trademark Office (USPTO) experts about intellectual property (IP) basics and potential ways to protect your innovation as you transition from idea to product.</description>\\n</item>\\n',\n",
       "  \"<item> <title>Attend DOCX filing training</title>\\n\\t<link>https://www.uspto.gov/about-us/events/attend-docx-filing-training-60</link>\\n\\t<guid>https://www.uspto.gov/about-us/events/attend-docx-filing-training-60</guid>\\n\\t<pubDate>Thu, 24 Feb 2022 13:00:00 EST</pubDate>\\n\\t<description>Learn how to file patent-related documents in DOCX format using Patent Center and EFS-Web during any of several free upcoming training sessions. You will hear from experts on the United States Patent and Trademark Office's (USPTO) eCommerce Modernization (eMod) team, who will provide demonstrations and answer your questions.</description>\\n</item>\\n\",\n",
       "  '<item> <title>Intellectual property basics and helpful resources</title>\\n\\t<link>https://www.uspto.gov/about-us/events/intellectual-property-basics-and-helpful-resources-1</link>\\n\\t<guid>https://www.uspto.gov/about-us/events/intellectual-property-basics-and-helpful-resources-1</guid>\\n\\t<pubDate>Thu, 03 Mar 2022 12:00:00 EST</pubDate>\\n\\t<description>Unfamiliar with patents, trademarks, copyrights, and trade secrets? Don’t miss this opportunity to learn from United States Patent and Trademark Office (USPTO) experts about intellectual property (IP) basics and potential ways to protect your innovation as you transition from idea to product.</description>\\n</item>\\n',\n",
       "  \"<item> <title>The Path to a Patent, Part VI: Learn how to protect your IP abroad</title>\\n\\t<link>https://www.uspto.gov/about-us/uspto-locations/silicon-valley-ca/path-patent-part-vi-learn-how-protect-your-ip-abroad-5</link>\\n\\t<guid>https://www.uspto.gov/about-us/uspto-locations/silicon-valley-ca/path-patent-part-vi-learn-how-protect-your-ip-abroad-5</guid>\\n\\t<pubDate>Thu, 03 Mar 2022 14:00:00 EST</pubDate>\\n\\t<description>Did you know that patents offer territorial rights, meaning that there is no such thing as an international or global patent? Learn how to help protect your intellectual property (IP) in foreign jurisdictions. United States Patent and Trademark Office's (USPTO) International Patent Legal Administration experts will discuss considerations and options for filing foreign patent applications. Register now for this free virtual event.</description>\\n</item>\\n\",\n",
       "  '<item> <title>The Path to a Patent, Part VII: How to file a patent application using Patent Center</title>\\n\\t<link>https://www.uspto.gov/about-us/uspto-locations/denver-co/path-patent-part-vii-how-file-patent-application-using-patent-0</link>\\n\\t<guid>https://www.uspto.gov/about-us/uspto-locations/denver-co/path-patent-part-vii-how-file-patent-application-using-patent-0</guid>\\n\\t<pubDate>Thu, 10 Mar 2022 14:00:00 EST</pubDate>\\n\\t<description>Looking for more information on using Patent Center? United States Patent and Trademark Office (USPTO) experts will teach participants how to use this tool to file and manage patent documents online. This presentation will feature filing application documents in DOCX format, including using Patent Center training mode to practice filing. You will learn about some helpful resources, such as the Inventors Assistance Center (IAC) and the Patent Electronics Business Center (EBC). Register early for this virtual event.</description>\\n</item>\\n',\n",
       "  '<item> <title>The Path to a Patent, Part VIII: Common mistakes and post-filing support</title>\\n\\t<link>https://www.uspto.gov/about-us/uspto-locations/silicon-valley-ca/path-patent-part-viii-common-mistakes-and-post-filing-0</link>\\n\\t<guid>https://www.uspto.gov/about-us/uspto-locations/silicon-valley-ca/path-patent-part-viii-common-mistakes-and-post-filing-0</guid>\\n\\t<pubDate>Thu, 17 Mar 2022 14:00:00 EST</pubDate>\\n\\t<description>Are you an inventor? Join us for this session full of important tips on filing a patent application and what to do after you file for a patent. Learn about common mistakes to avoid and gain a better understanding of post-filing procedures and support. Register now for this free virtual event.</description>\\n</item>\\n',\n",
       "  '<item> <title>Patent Trial and Appeal Board presents Appeals 101</title>\\n\\t<link>https://www.uspto.gov/about-us/events/patent-trial-and-appeal-board-presents-appeals-101</link>\\n\\t<guid>https://www.uspto.gov/about-us/events/patent-trial-and-appeal-board-presents-appeals-101</guid>\\n\\t<pubDate>Tue, 29 Mar 2022 12:00:00 EST</pubDate>\\n\\t<description>Interested in learning more about the appeal process? Join the Patent Trial and Appeal Board (PTAB) for a presentation on March 29, 2022.</description>\\n</item>\\n',\n",
       "  '<item> <title>Intellectual property basics and helpful resources</title>\\n\\t<link>https://www.uspto.gov/about-us/events/intellectual-property-basics-and-helpful-resources-2</link>\\n\\t<guid>https://www.uspto.gov/about-us/events/intellectual-property-basics-and-helpful-resources-2</guid>\\n\\t<pubDate>Thu, 07 Apr 2022 12:00:00 EST</pubDate>\\n\\t<description>Unfamiliar with patents, trademarks, copyrights, and trade secrets? Don’t miss this opportunity to learn from United States Patent and Trademark Office (USPTO) experts about intellectual property (IP) basics and potential ways to protect your innovation as you transition from idea to product.</description>\\n</item>\\n',\n",
       "  '<item> <title>Intellectual property basics and helpful resources</title>\\n\\t<link>https://www.uspto.gov/about-us/events/intellectual-property-basics-and-helpful-resources-3</link>\\n\\t<guid>https://www.uspto.gov/about-us/events/intellectual-property-basics-and-helpful-resources-3</guid>\\n\\t<pubDate>Thu, 05 May 2022 12:00:00 EST</pubDate>\\n\\t<description>Unfamiliar with patents, trademarks, copyrights, and trade secrets? Don’t miss this opportunity to learn from United States Patent and Trademark Office (USPTO) experts about intellectual property (IP) basics and potential ways to protect your innovation as you transition from idea to product.</description>\\n</item>\\n',\n",
       "  '<item> <title>Intellectual property basics and helpful resources</title>\\n\\t<link>https://www.uspto.gov/about-us/events/intellectual-property-basics-and-helpful-resources-4</link>\\n\\t<guid>https://www.uspto.gov/about-us/events/intellectual-property-basics-and-helpful-resources-4</guid>\\n\\t<pubDate>Thu, 02 Jun 2022 12:00:00 EST</pubDate>\\n\\t<description>Unfamiliar with patents, trademarks, copyrights, and trade secrets? Don’t miss this opportunity to learn from United States Patent and Trademark Office (USPTO) experts about intellectual property (IP) basics and potential ways to protect your innovation as you transition from idea to product.</description>\\n</item>\\n',\n",
       "  '<item> <title>Intellectual property basics and helpful resources</title>\\n\\t<link>https://www.uspto.gov/about-us/events/intellectual-property-basics-and-helpful-resources-5</link>\\n\\t<guid>https://www.uspto.gov/about-us/events/intellectual-property-basics-and-helpful-resources-5</guid>\\n\\t<pubDate>Thu, 07 Jul 2022 12:00:00 EST</pubDate>\\n\\t<description>Unfamiliar with patents, trademarks, copyrights, and trade secrets? Don’t miss this opportunity to learn from United States Patent and Trademark Office (USPTO) experts about intellectual property (IP) basics and potential ways to protect your innovation as you transition from idea to product.</description>\\n</item>\\n',\n",
       "  '<item> <title>Intellectual property basics and helpful resources</title>\\n\\t<link>https://www.uspto.gov/about-us/events/intellectual-property-basics-and-helpful-resources-6</link>\\n\\t<guid>https://www.uspto.gov/about-us/events/intellectual-property-basics-and-helpful-resources-6</guid>\\n\\t<pubDate>Thu, 04 Aug 2022 12:00:00 EST</pubDate>\\n\\t<description>Unfamiliar with patents, trademarks, copyrights, and trade secrets? Don’t miss this opportunity to learn from United States Patent and Trademark Office (USPTO) experts about intellectual property (IP) basics and potential ways to protect your innovation as you transition from idea to product.</description>\\n</item>\\n',\n",
       "  '<item> <title>Intellectual property basics and helpful resources</title>\\n\\t<link>https://www.uspto.gov/about-us/events/intellectual-property-basics-and-helpful-resources-7</link>\\n\\t<guid>https://www.uspto.gov/about-us/events/intellectual-property-basics-and-helpful-resources-7</guid>\\n\\t<pubDate>Thu, 01 Sep 2022 12:00:00 EST</pubDate>\\n\\t<description>Unfamiliar with patents, trademarks, copyrights, and trade secrets? Don’t miss this opportunity to learn from United States Patent and Trademark Office (USPTO) experts about intellectual property (IP) basics and potential ways to protect your innovation as you transition from idea to product.</description>\\n</item>\\n',\n",
       "  '<item> <title>Intellectual property basics and helpful resources</title>\\n\\t<link>https://www.uspto.gov/about-us/events/intellectual-property-basics-and-helpful-resources-8</link>\\n\\t<guid>https://www.uspto.gov/about-us/events/intellectual-property-basics-and-helpful-resources-8</guid>\\n\\t<pubDate>Thu, 06 Oct 2022 12:00:00 EST</pubDate>\\n\\t<description>Unfamiliar with patents, trademarks, copyrights, and trade secrets? Don’t miss this opportunity to learn from United States Patent and Trademark Office (USPTO) experts about intellectual property (IP) basics and potential ways to protect your innovation as you transition from idea to product.</description>\\n</item>\\n',\n",
       "  '<item> <title>Intellectual property basics and helpful resources</title>\\n\\t<link>https://www.uspto.gov/about-us/events/intellectual-property-basics-and-helpful-resources-9</link>\\n\\t<guid>https://www.uspto.gov/about-us/events/intellectual-property-basics-and-helpful-resources-9</guid>\\n\\t<pubDate>Thu, 03 Nov 2022 12:00:00 EST</pubDate>\\n\\t<description>Unfamiliar with patents, trademarks, copyrights, and trade secrets? Don’t miss this opportunity to learn from United States Patent and Trademark Office (USPTO) experts about intellectual property (IP) basics and potential ways to protect your innovation as you transition from idea to product.</description>\\n</item>\\n',\n",
       "  '<item> <title>Intellectual property basics and helpful resources</title>\\n\\t<link>https://www.uspto.gov/about-us/events/intellectual-property-basics-and-helpful-resources-10</link>\\n\\t<guid>https://www.uspto.gov/about-us/events/intellectual-property-basics-and-helpful-resources-10</guid>\\n\\t<pubDate>Thu, 01 Dec 2022 12:00:00 EST</pubDate>\\n\\t<description>Unfamiliar with patents, trademarks, copyrights, and trade secrets? Don’t miss this opportunity to learn from United States Patent and Trademark Office (USPTO) experts about intellectual property (IP) basics and potential ways to protect your innovation as you transition from idea to product.</description>\\n</item>\\n'],\n",
       " 'Trademark': ['',\n",
       "  '<?xml version=\"1.0\" encoding=\"utf-8\"?>\\n<rss version=\"2.0\">\\n<channel>\\n',\n",
       "  '<title>USPTO Trademark Events</title>\\n<link>https://guides.lib.ucr.edu/c.php?g=932732</link>\\n',\n",
       "  '<description>This feed provides easy access to USPTO Trademark Patents events.</description>\\n<language>en-us</language>\\n',\n",
       "  '<lastBuildDate>Tue, 25 Jan 2022 11:40:19 PST</lastBuildDate>\\n<webMaster>katherine.koziar@ucr.edu</webMaster>\\n\\n'],\n",
       " 'Other': ['',\n",
       "  '<?xml version=\"1.0\" encoding=\"utf-8\"?>\\n<rss version=\"2.0\">\\n<channel>\\n',\n",
       "  '<title>USPTO Other Events</title>\\n<link>https://guides.lib.ucr.edu/c.php?g=932732</link>\\n',\n",
       "  '<description>This feed provides easy access to USPTO Other Patents events.</description>\\n<language>en-us</language>\\n',\n",
       "  '<lastBuildDate>Tue, 25 Jan 2022 11:40:19 PST</lastBuildDate>\\n<webMaster>katherine.koziar@ucr.edu</webMaster>\\n\\n',\n",
       "  '<item> <title>Intellectual property (IP) workshop for K-12 educators</title>\\n\\t<link>https://www.uspto.gov/learning-and-resources/kids-educators/intellectual-property-ip-workshop-k12-educators-19</link>\\n\\t<guid>https://www.uspto.gov/learning-and-resources/kids-educators/intellectual-property-ip-workshop-k12-educators-19</guid>\\n\\t<pubDate>Tue, 25 Jan 2022 18:00:00 EST</pubDate>\\n\\t<description></description>\\n</item>\\n',\n",
       "  \"<item> <title>Trademark Basics Boot Camp, Module 3: Searching</title>\\n\\t<link>https://www.uspto.gov/about-us/events/trademark-basics-boot-camp-module-3-searching-2</link>\\n\\t<guid>https://www.uspto.gov/about-us/events/trademark-basics-boot-camp-module-3-searching-2</guid>\\n\\t<pubDate>Tue, 25 Jan 2022 14:00:00 EST</pubDate>\\n\\t<description>Are you a small business owner or entrepreneur interested in learning about trademarks and how to apply for a federal registration? If so, this event is a must-attend. In this third module of our eight-part virtual Trademark Basics Boot Camp, we'll focus on important principles related to trademark searching and effective use of the USPTO’s Trademark Electronic Search System (TESS). The event is free, but space is limited, so register early.</description>\\n</item>\\n\",\n",
       "  '<item> <title>Together in Innovation: Inner space and outer space</title>\\n\\t<link>https://www.uspto.gov/learning-and-resources/general-help/together-innovation-inner-space-and-outer-space</link>\\n\\t<guid>https://www.uspto.gov/learning-and-resources/general-help/together-innovation-inner-space-and-outer-space</guid>\\n\\t<pubDate>Wed, 26 Jan 2022 14:00:00 EST</pubDate>\\n\\t<description>Image</description>\\n</item>\\n',\n",
       "  '<item> <title>K-12 IP education office hours</title>\\n\\t<link>https://www.uspto.gov/learning-and-resources/kids-educators/k-12-ip-education-office-hours-8</link>\\n\\t<guid>https://www.uspto.gov/learning-and-resources/kids-educators/k-12-ip-education-office-hours-8</guid>\\n\\t<pubDate>Wed, 26 Jan 2022 15:00:00 EST</pubDate>\\n\\t<description></description>\\n</item>\\n',\n",
       "  '<item> <title>PTAB Inventor Hour webinar - Episode 4</title>\\n\\t<link>https://www.uspto.gov/about-us/events/ptab-inventor-hour-webinar-episode-4</link>\\n\\t<guid>https://www.uspto.gov/about-us/events/ptab-inventor-hour-webinar-episode-4</guid>\\n\\t<pubDate>Thu, 27 Jan 2022 12:00:00 EST</pubDate>\\n\\t<description>Are you an inventor or new to Patent Trial and Appeal Board (PTAB or Board) proceedings? Join us on Thursday, January 27, at noon ET, to learn more about all aspects of ex parte appeals, America Invents Act (AIA) proceedings, and PTAB operations.</description>\\n</item>\\n',\n",
       "  '<item> <title>Attend the Trademark Public Advisory Committee quarterly meeting</title>\\n\\t<link>https://www.uspto.gov/about-us/events/attend-trademark-public-advisory-committee-quarterly-meeting-11</link>\\n\\t<guid>https://www.uspto.gov/about-us/events/attend-trademark-public-advisory-committee-quarterly-meeting-11</guid>\\n\\t<pubDate>Fri, 28 Jan 2022 10:00:00 EST</pubDate>\\n\\t<description>Attend the next quarterly meeting of the Trademark Public Advisory Committee (TPAC) to learn more about trademark-related policies, goals, performance, budget, and user fees. You can watch the public session virtually at the following Teams link. The TPAC advises the Under Secretary of Commerce for Intellectual Property and Director of the USPTO.</description>\\n</item>\\n',\n",
       "  '<item> <title>Trademark Basics Boot Camp, Module 4: Application requirements</title>\\n\\t<link>https://www.uspto.gov/about-us/events/trademark-basics-boot-camp-module-4-application-requirements-2</link>\\n\\t<guid>https://www.uspto.gov/about-us/events/trademark-basics-boot-camp-module-4-application-requirements-2</guid>\\n\\t<pubDate>Tue, 01 Feb 2022 14:00:00 EST</pubDate>\\n\\t<description>Are you a small business owner or entrepreneur interested in learning about trademarks and how to apply for a federal registration? If so, this event is a must-attend. In this fourth module of our eight-part virtual Trademark Basics Boot Camp, we’ll focus on the requirements for an initial trademark application. Knowing what is needed up front will help your filing process go more smoothly. The event is free, but space is limited, so register early.</description>\\n</item>\\n',\n",
       "  '<item> <title>Trademark Basics Boot Camp, Module 5: Application filing walk-through</title>\\n\\t<link>https://www.uspto.gov/about-us/events/trademark-basics-boot-camp-module-5-application-filing-walk-through-2</link>\\n\\t<guid>https://www.uspto.gov/about-us/events/trademark-basics-boot-camp-module-5-application-filing-walk-through-2</guid>\\n\\t<pubDate>Tue, 08 Feb 2022 14:00:00 EST</pubDate>\\n\\t<description>Are you a small business owner or entrepreneur interested in learning about trademarks and how to apply for a federal registration? If so, this event is a must-attend. In this fifth module of our eight-part virtual Trademark Basics Boot Camp, we’ll focus on the USPTO’s Trademark Electronic Application System (TEAS), including a live demonstration of a trademark filing. TEAS is the required system for making any trademark submission to the USPTO. The event is free, but space is limited, so register early.</description>\\n</item>\\n',\n",
       "  '<item> <title>What you need to sell your arts and crafts online: An introduction to entrepreneurship for Native American visual artists (Session 1)</title>\\n\\t<link>https://www.uspto.gov/about-us/events/what-you-need-sell-your-arts-and-crafts-online-introduction-entrepreneurship-native</link>\\n\\t<guid>https://www.uspto.gov/about-us/events/what-you-need-sell-your-arts-and-crafts-online-introduction-entrepreneurship-native</guid>\\n\\t<pubDate>Thu, 10 Feb 2022 15:00:00 EST</pubDate>\\n\\t<description>Native American, Alaska Native, and Native Hawaiian artists face unique challenges with the shift to online sales and continued limits on attendance at local arts and crafts fairs where their work has traditionally found a home. Register now for this inaugural program of a free, monthly webinar series on entrepreneurship and e-commerce that will run through December 2022.</description>\\n</item>\\n',\n",
       "  '<item> <title>Trademark Basics Boot Camp, Module 6: Responding to an office action</title>\\n\\t<link>https://www.uspto.gov/about-us/events/trademark-basics-boot-camp-module-6-responding-office-action-2</link>\\n\\t<guid>https://www.uspto.gov/about-us/events/trademark-basics-boot-camp-module-6-responding-office-action-2</guid>\\n\\t<pubDate>Tue, 15 Feb 2022 14:00:00 EST</pubDate>\\n\\t<description>Are you a small business owner or entrepreneur interested in learning about trademarks and how to apply for a federal registration? If so, this event is a must-attend. In this sixth module of our eight-part virtual Trademark Basics Boot Camp, we’ll focus on responding to office actions, the official letters that USPTO examining attorneys issue after reviewing your trademark application. The event is free, but space is limited, so register early.</description>\\n</item>\\n',\n",
       "  '<item> <title>2022 Black Innovation and Entrepreneurship program, part one: Defining tomorrow</title>\\n\\t<link>https://www.uspto.gov/about-us/events/2022-black-innovation-and-entrepreneurship-program-part-one-defining-tomorrow</link>\\n\\t<guid>https://www.uspto.gov/about-us/events/2022-black-innovation-and-entrepreneurship-program-part-one-defining-tomorrow</guid>\\n\\t<pubDate>Thu, 17 Feb 2022 14:00:00 EST</pubDate>\\n\\t<description>Image</description>\\n</item>\\n',\n",
       "  '<item> <title>Trademark Basics Boot Camp, Module 7: Keeping your registration alive</title>\\n\\t<link>https://www.uspto.gov/about-us/events/trademark-basics-boot-camp-module-7-keeping-your-registration-alive-5</link>\\n\\t<guid>https://www.uspto.gov/about-us/events/trademark-basics-boot-camp-module-7-keeping-your-registration-alive-5</guid>\\n\\t<pubDate>Tue, 22 Feb 2022 14:00:00 EST</pubDate>\\n\\t<description>Are you a small business owner or entrepreneur interested in learning about trademarks and how to apply for a federal registration? If so, this event is a must-attend. In this seventh module of our eight-part virtual Trademark Basics Boot Camp, we’ll focus on what happens after registration, including mandatory filings to keep your registration alive. The event is free, but space is limited, so register early.</description>\\n</item>\\n',\n",
       "  '<item> <title>Intellectual Property (IP) Workshop for K12 Educators</title>\\n\\t<link>https://www.uspto.gov/learning-and-resources/kids-educators/intellectual-property-ip-workshop-k12-educators-18</link>\\n\\t<guid>https://www.uspto.gov/learning-and-resources/kids-educators/intellectual-property-ip-workshop-k12-educators-18</guid>\\n\\t<pubDate>Tue, 22 Feb 2022 18:00:00 EST</pubDate>\\n\\t<description></description>\\n</item>\\n',\n",
       "  '<item> <title>K-12 IP education office hours</title>\\n\\t<link>https://www.uspto.gov/learning-and-resources/kids-educators/k-12-ip-education-office-hours-9</link>\\n\\t<guid>https://www.uspto.gov/learning-and-resources/kids-educators/k-12-ip-education-office-hours-9</guid>\\n\\t<pubDate>Wed, 23 Feb 2022 15:00:00 EST</pubDate>\\n\\t<description></description>\\n</item>\\n',\n",
       "  '<item> <title>2022 Black Innovation and Entrepreneurship program, part two: Invest in ideas</title>\\n\\t<link>https://www.uspto.gov/about-us/events/2022-black-innovation-and-entrepreneurship-program-part-two-invest-ideas</link>\\n\\t<guid>https://www.uspto.gov/about-us/events/2022-black-innovation-and-entrepreneurship-program-part-two-invest-ideas</guid>\\n\\t<pubDate>Thu, 24 Feb 2022 15:00:00 EST</pubDate>\\n\\t<description>Image</description>\\n</item>\\n',\n",
       "  '<item> <title>Trademark Basics Boot Camp, Module 8: Question-and-answer panel</title>\\n\\t<link>https://www.uspto.gov/about-us/events/trademark-basics-boot-camp-module-8-question-and-answer-panel-4</link>\\n\\t<guid>https://www.uspto.gov/about-us/events/trademark-basics-boot-camp-module-8-question-and-answer-panel-4</guid>\\n\\t<pubDate>Tue, 01 Mar 2022 14:00:00 EST</pubDate>\\n\\t<description>Are you a small business owner or entrepreneur interested in learning about trademarks and how to apply for a federal registration? If so, this event is a must-attend. In this final module of our eight-part virtual Trademark Basics Boot Camp, we’ll provide a unique opportunity for you to “meet the trademark experts.” Come prepared with all of your trademark questions to share with our Law Office Managing Attorneys and other trademark experts. The event is free, but space is limited, so register early.</description>\\n</item>\\n',\n",
       "  '<item> <title>Intellectual Property (IP) Workshop for K12 Educators</title>\\n\\t<link>https://www.uspto.gov/learning-and-resources/kids-educators/intellectual-property-ip-workshop-k12-educators-17</link>\\n\\t<guid>https://www.uspto.gov/learning-and-resources/kids-educators/intellectual-property-ip-workshop-k12-educators-17</guid>\\n\\t<pubDate>Tue, 29 Mar 2022 18:00:00 EST</pubDate>\\n\\t<description></description>\\n</item>\\n',\n",
       "  '<item> <title>K-12 IP education office hours</title>\\n\\t<link>https://www.uspto.gov/learning-and-resources/kids-educators/k-12-ip-education-office-hours-10</link>\\n\\t<guid>https://www.uspto.gov/learning-and-resources/kids-educators/k-12-ip-education-office-hours-10</guid>\\n\\t<pubDate>Wed, 30 Mar 2022 15:00:00 EST</pubDate>\\n\\t<description></description>\\n</item>\\n',\n",
       "  '<item> <title>Intellectual Property (IP) Workshop for K12 Educators</title>\\n\\t<link>https://www.uspto.gov/learning-and-resources/kids-educators/intellectual-property-ip-workshop-k12-educators-16</link>\\n\\t<guid>https://www.uspto.gov/learning-and-resources/kids-educators/intellectual-property-ip-workshop-k12-educators-16</guid>\\n\\t<pubDate>Tue, 26 Apr 2022 18:00:00 EST</pubDate>\\n\\t<description></description>\\n</item>\\n',\n",
       "  '<item> <title>K-12 IP education office hours</title>\\n\\t<link>https://www.uspto.gov/learning-and-resources/kids-educators/k-12-ip-education-office-hours-11</link>\\n\\t<guid>https://www.uspto.gov/learning-and-resources/kids-educators/k-12-ip-education-office-hours-11</guid>\\n\\t<pubDate>Wed, 27 Apr 2022 15:00:00 EST</pubDate>\\n\\t<description></description>\\n</item>\\n',\n",
       "  '<item> <title>Intellectual Property (IP) Workshop for K12 Educators</title>\\n\\t<link>https://www.uspto.gov/learning-and-resources/kids-educators/intellectual-property-ip-workshop-k12-educators-15</link>\\n\\t<guid>https://www.uspto.gov/learning-and-resources/kids-educators/intellectual-property-ip-workshop-k12-educators-15</guid>\\n\\t<pubDate>Tue, 31 May 2022 18:00:00 EST</pubDate>\\n\\t<description></description>\\n</item>\\n',\n",
       "  '<item> <title>K-12 IP education office hours</title>\\n\\t<link>https://www.uspto.gov/learning-and-resources/kids-educators/k-12-ip-education-office-hours-12</link>\\n\\t<guid>https://www.uspto.gov/learning-and-resources/kids-educators/k-12-ip-education-office-hours-12</guid>\\n\\t<pubDate>Wed, 01 Jun 2022 15:00:00 EST</pubDate>\\n\\t<description></description>\\n</item>\\n',\n",
       "  '<item> <title>Intellectual Property (IP) Workshop for K12 Educators</title>\\n\\t<link>https://www.uspto.gov/learning-and-resources/kids-educators/intellectual-property-ip-workshop-k12-educators-14</link>\\n\\t<guid>https://www.uspto.gov/learning-and-resources/kids-educators/intellectual-property-ip-workshop-k12-educators-14</guid>\\n\\t<pubDate>Tue, 28 Jun 2022 18:00:00 EST</pubDate>\\n\\t<description></description>\\n</item>\\n',\n",
       "  '<item> <title>K-12 IP education office hours</title>\\n\\t<link>https://www.uspto.gov/learning-and-resources/kids-educators/k-12-ip-education-office-hours-13</link>\\n\\t<guid>https://www.uspto.gov/learning-and-resources/kids-educators/k-12-ip-education-office-hours-13</guid>\\n\\t<pubDate>Wed, 29 Jun 2022 15:00:00 EST</pubDate>\\n\\t<description></description>\\n</item>\\n',\n",
       "  '<item> <title>Intellectual Property (IP) Workshop for K12 Educators</title>\\n\\t<link>https://www.uspto.gov/learning-and-resources/kids-educators/intellectual-property-ip-workshop-k12-educators-13</link>\\n\\t<guid>https://www.uspto.gov/learning-and-resources/kids-educators/intellectual-property-ip-workshop-k12-educators-13</guid>\\n\\t<pubDate>Tue, 26 Jul 2022 18:00:00 EST</pubDate>\\n\\t<description></description>\\n</item>\\n',\n",
       "  '<item> <title>K-12 IP education office hours</title>\\n\\t<link>https://www.uspto.gov/learning-and-resources/kids-educators/k-12-ip-education-office-hours-14</link>\\n\\t<guid>https://www.uspto.gov/learning-and-resources/kids-educators/k-12-ip-education-office-hours-14</guid>\\n\\t<pubDate>Wed, 27 Jul 2022 15:00:00 EST</pubDate>\\n\\t<description></description>\\n</item>\\n',\n",
       "  '<item> <title>Intellectual Property (IP) Workshop for K12 Educators</title>\\n\\t<link>https://www.uspto.gov/learning-and-resources/kids-educators/intellectual-property-ip-workshop-k12-educators-12</link>\\n\\t<guid>https://www.uspto.gov/learning-and-resources/kids-educators/intellectual-property-ip-workshop-k12-educators-12</guid>\\n\\t<pubDate>Tue, 30 Aug 2022 18:00:00 EST</pubDate>\\n\\t<description></description>\\n</item>\\n',\n",
       "  '<item> <title>K-12 IP education office hours</title>\\n\\t<link>https://www.uspto.gov/learning-and-resources/kids-educators/k-12-ip-education-office-hours-15</link>\\n\\t<guid>https://www.uspto.gov/learning-and-resources/kids-educators/k-12-ip-education-office-hours-15</guid>\\n\\t<pubDate>Wed, 31 Aug 2022 15:00:00 EST</pubDate>\\n\\t<description></description>\\n</item>\\n',\n",
       "  '<item> <title>Intellectual Property (IP) Workshop for K12 Educators</title>\\n\\t<link>https://www.uspto.gov/learning-and-resources/kids-educators/intellectual-property-ip-workshop-k12-educators-11</link>\\n\\t<guid>https://www.uspto.gov/learning-and-resources/kids-educators/intellectual-property-ip-workshop-k12-educators-11</guid>\\n\\t<pubDate>Tue, 27 Sep 2022 18:00:00 EST</pubDate>\\n\\t<description></description>\\n</item>\\n',\n",
       "  '<item> <title>K-12 IP education office hours</title>\\n\\t<link>https://www.uspto.gov/learning-and-resources/kids-educators/k-12-ip-education-office-hours-16</link>\\n\\t<guid>https://www.uspto.gov/learning-and-resources/kids-educators/k-12-ip-education-office-hours-16</guid>\\n\\t<pubDate>Wed, 28 Sep 2022 15:00:00 EST</pubDate>\\n\\t<description></description>\\n</item>\\n',\n",
       "  '<item> <title>Intellectual Property (IP) Workshop for K12 Educators</title>\\n\\t<link>https://www.uspto.gov/learning-and-resources/kids-educators/intellectual-property-ip-workshop-k12-educators-10</link>\\n\\t<guid>https://www.uspto.gov/learning-and-resources/kids-educators/intellectual-property-ip-workshop-k12-educators-10</guid>\\n\\t<pubDate>Tue, 25 Oct 2022 18:00:00 EST</pubDate>\\n\\t<description></description>\\n</item>\\n',\n",
       "  '<item> <title>K-12 IP education office hours</title>\\n\\t<link>https://www.uspto.gov/learning-and-resources/kids-educators/k-12-ip-education-office-hours-17</link>\\n\\t<guid>https://www.uspto.gov/learning-and-resources/kids-educators/k-12-ip-education-office-hours-17</guid>\\n\\t<pubDate>Wed, 26 Oct 2022 15:00:00 EST</pubDate>\\n\\t<description></description>\\n</item>\\n']}"
      ]
     },
     "execution_count": 88,
     "metadata": {},
     "output_type": "execute_result"
    }
   ],
   "source": [
    "xml_dict"
   ]
  },
  {
   "cell_type": "code",
   "execution_count": 174,
   "metadata": {},
   "outputs": [
    {
     "data": {
      "text/html": [
       "<div>\n",
       "<style scoped>\n",
       "    .dataframe tbody tr th:only-of-type {\n",
       "        vertical-align: middle;\n",
       "    }\n",
       "\n",
       "    .dataframe tbody tr th {\n",
       "        vertical-align: top;\n",
       "    }\n",
       "\n",
       "    .dataframe thead th {\n",
       "        text-align: right;\n",
       "    }\n",
       "</style>\n",
       "<table border=\"1\" class=\"dataframe\">\n",
       "  <thead>\n",
       "    <tr style=\"text-align: right;\">\n",
       "      <th></th>\n",
       "      <th>title</th>\n",
       "      <th>link</th>\n",
       "      <th>pubDate</th>\n",
       "      <th>description</th>\n",
       "      <th>date_index</th>\n",
       "    </tr>\n",
       "  </thead>\n",
       "  <tbody>\n",
       "    <tr>\n",
       "      <th>0</th>\n",
       "      <td>Intellectual property basics and helpful resou...</td>\n",
       "      <td>https://www.uspto.gov/about-us/events/intellec...</td>\n",
       "      <td>Thu, 20 Jan 2022 20:00:00 EST</td>\n",
       "      <td>Unfamiliar with patents, trademarks, copyright...</td>\n",
       "      <td>20220120</td>\n",
       "    </tr>\n",
       "    <tr>\n",
       "      <th>0</th>\n",
       "      <td>Intellectual property (IP) workshop for K-12 e...</td>\n",
       "      <td>https://www.uspto.gov/learning-and-resources/k...</td>\n",
       "      <td>Tue, 25 Jan 2022 18:00:00 EST</td>\n",
       "      <td></td>\n",
       "      <td>20220125</td>\n",
       "    </tr>\n",
       "    <tr>\n",
       "      <th>0</th>\n",
       "      <td>Attend DOCX filing training</td>\n",
       "      <td>https://www.uspto.gov/about-us/events/attend-d...</td>\n",
       "      <td>Tue, 25 Jan 2022 13:00:00 EST</td>\n",
       "      <td>Learn how to file patent-related documents in ...</td>\n",
       "      <td>20220125</td>\n",
       "    </tr>\n",
       "    <tr>\n",
       "      <th>0</th>\n",
       "      <td>Trademark Basics Boot Camp, Module 3: Searching</td>\n",
       "      <td>https://www.uspto.gov/about-us/events/trademar...</td>\n",
       "      <td>Tue, 25 Jan 2022 14:00:00 EST</td>\n",
       "      <td>Are you a small business owner or entrepreneur...</td>\n",
       "      <td>20220125</td>\n",
       "    </tr>\n",
       "    <tr>\n",
       "      <th>0</th>\n",
       "      <td>USPTO's liquid capital: Data resources for inv...</td>\n",
       "      <td>https://www.uspto.gov/about-us/events/usptos-l...</td>\n",
       "      <td>Wed, 26 Jan 2022 13:00:00 EST</td>\n",
       "      <td>The United States Patent and Trademark Office'...</td>\n",
       "      <td>20220126</td>\n",
       "    </tr>\n",
       "    <tr>\n",
       "      <th>...</th>\n",
       "      <td>...</td>\n",
       "      <td>...</td>\n",
       "      <td>...</td>\n",
       "      <td>...</td>\n",
       "      <td>...</td>\n",
       "    </tr>\n",
       "    <tr>\n",
       "      <th>0</th>\n",
       "      <td>Intellectual property basics and helpful resou...</td>\n",
       "      <td>https://www.uspto.gov/about-us/events/intellec...</td>\n",
       "      <td>Thu, 06 Oct 2022 12:00:00 EST</td>\n",
       "      <td>Unfamiliar with patents, trademarks, copyright...</td>\n",
       "      <td>20221006</td>\n",
       "    </tr>\n",
       "    <tr>\n",
       "      <th>0</th>\n",
       "      <td>Intellectual Property (IP) Workshop for K12 Ed...</td>\n",
       "      <td>https://www.uspto.gov/learning-and-resources/k...</td>\n",
       "      <td>Tue, 25 Oct 2022 18:00:00 EST</td>\n",
       "      <td></td>\n",
       "      <td>20221025</td>\n",
       "    </tr>\n",
       "    <tr>\n",
       "      <th>0</th>\n",
       "      <td>K-12 IP education office hours</td>\n",
       "      <td>https://www.uspto.gov/learning-and-resources/k...</td>\n",
       "      <td>Wed, 26 Oct 2022 15:00:00 EST</td>\n",
       "      <td></td>\n",
       "      <td>20221026</td>\n",
       "    </tr>\n",
       "    <tr>\n",
       "      <th>0</th>\n",
       "      <td>Intellectual property basics and helpful resou...</td>\n",
       "      <td>https://www.uspto.gov/about-us/events/intellec...</td>\n",
       "      <td>Thu, 03 Nov 2022 12:00:00 EST</td>\n",
       "      <td>Unfamiliar with patents, trademarks, copyright...</td>\n",
       "      <td>20221103</td>\n",
       "    </tr>\n",
       "    <tr>\n",
       "      <th>0</th>\n",
       "      <td>Intellectual property basics and helpful resou...</td>\n",
       "      <td>https://www.uspto.gov/about-us/events/intellec...</td>\n",
       "      <td>Thu, 01 Dec 2022 12:00:00 EST</td>\n",
       "      <td>Unfamiliar with patents, trademarks, copyright...</td>\n",
       "      <td>20221201</td>\n",
       "    </tr>\n",
       "  </tbody>\n",
       "</table>\n",
       "<p>64 rows × 5 columns</p>\n",
       "</div>"
      ],
      "text/plain": [
       "                                                title  \\\n",
       "0   Intellectual property basics and helpful resou...   \n",
       "0   Intellectual property (IP) workshop for K-12 e...   \n",
       "0                         Attend DOCX filing training   \n",
       "0     Trademark Basics Boot Camp, Module 3: Searching   \n",
       "0   USPTO's liquid capital: Data resources for inv...   \n",
       "..                                                ...   \n",
       "0   Intellectual property basics and helpful resou...   \n",
       "0   Intellectual Property (IP) Workshop for K12 Ed...   \n",
       "0                      K-12 IP education office hours   \n",
       "0   Intellectual property basics and helpful resou...   \n",
       "0   Intellectual property basics and helpful resou...   \n",
       "\n",
       "                                                 link  \\\n",
       "0   https://www.uspto.gov/about-us/events/intellec...   \n",
       "0   https://www.uspto.gov/learning-and-resources/k...   \n",
       "0   https://www.uspto.gov/about-us/events/attend-d...   \n",
       "0   https://www.uspto.gov/about-us/events/trademar...   \n",
       "0   https://www.uspto.gov/about-us/events/usptos-l...   \n",
       "..                                                ...   \n",
       "0   https://www.uspto.gov/about-us/events/intellec...   \n",
       "0   https://www.uspto.gov/learning-and-resources/k...   \n",
       "0   https://www.uspto.gov/learning-and-resources/k...   \n",
       "0   https://www.uspto.gov/about-us/events/intellec...   \n",
       "0   https://www.uspto.gov/about-us/events/intellec...   \n",
       "\n",
       "                          pubDate  \\\n",
       "0   Thu, 20 Jan 2022 20:00:00 EST   \n",
       "0   Tue, 25 Jan 2022 18:00:00 EST   \n",
       "0   Tue, 25 Jan 2022 13:00:00 EST   \n",
       "0   Tue, 25 Jan 2022 14:00:00 EST   \n",
       "0   Wed, 26 Jan 2022 13:00:00 EST   \n",
       "..                            ...   \n",
       "0   Thu, 06 Oct 2022 12:00:00 EST   \n",
       "0   Tue, 25 Oct 2022 18:00:00 EST   \n",
       "0   Wed, 26 Oct 2022 15:00:00 EST   \n",
       "0   Thu, 03 Nov 2022 12:00:00 EST   \n",
       "0   Thu, 01 Dec 2022 12:00:00 EST   \n",
       "\n",
       "                                          description date_index  \n",
       "0   Unfamiliar with patents, trademarks, copyright...   20220120  \n",
       "0                                                       20220125  \n",
       "0   Learn how to file patent-related documents in ...   20220125  \n",
       "0   Are you a small business owner or entrepreneur...   20220125  \n",
       "0   The United States Patent and Trademark Office'...   20220126  \n",
       "..                                                ...        ...  \n",
       "0   Unfamiliar with patents, trademarks, copyright...   20221006  \n",
       "0                                                       20221025  \n",
       "0                                                       20221026  \n",
       "0   Unfamiliar with patents, trademarks, copyright...   20221103  \n",
       "0   Unfamiliar with patents, trademarks, copyright...   20221201  \n",
       "\n",
       "[64 rows x 5 columns]"
      ]
     },
     "execution_count": 174,
     "metadata": {},
     "output_type": "execute_result"
    }
   ],
   "source": [
    "events"
   ]
  },
  {
   "cell_type": "code",
   "execution_count": 42,
   "metadata": {},
   "outputs": [
    {
     "data": {
      "text/plain": [
       "'All Regions'"
      ]
     },
     "execution_count": 42,
     "metadata": {},
     "output_type": "execute_result"
    }
   ],
   "source": [
    "workshop_pageowner[\"content\"]"
   ]
  },
  {
   "cell_type": "code",
   "execution_count": 53,
   "metadata": {},
   "outputs": [
    {
     "data": {
      "text/plain": [
       "'All'"
      ]
     },
     "execution_count": 53,
     "metadata": {},
     "output_type": "execute_result"
    }
   ],
   "source": [
    "xml_files[0]"
   ]
  },
  {
   "cell_type": "code",
   "execution_count": 60,
   "metadata": {},
   "outputs": [
    {
     "data": {
      "text/plain": [
       "<function dict.values>"
      ]
     },
     "execution_count": 60,
     "metadata": {},
     "output_type": "execute_result"
    }
   ],
   "source": [
    "xml_dict.values"
   ]
  },
  {
   "cell_type": "code",
   "execution_count": 72,
   "metadata": {},
   "outputs": [],
   "source": [
    "temp = \" \" "
   ]
  },
  {
   "cell_type": "code",
   "execution_count": 75,
   "metadata": {},
   "outputs": [],
   "source": [
    "temp = \" \" \n",
    "temp = temp.join(xml_dict[xml_files[0]])"
   ]
  },
  {
   "cell_type": "code",
   "execution_count": 76,
   "metadata": {},
   "outputs": [
    {
     "data": {
      "text/plain": [
       "'one three'"
      ]
     },
     "execution_count": 76,
     "metadata": {},
     "output_type": "execute_result"
    }
   ],
   "source": [
    "temp"
   ]
  },
  {
   "cell_type": "markdown",
   "metadata": {},
   "source": [
    "temp"
   ]
  },
  {
   "cell_type": "code",
   "execution_count": null,
   "metadata": {},
   "outputs": [],
   "source": []
  }
 ],
 "metadata": {
  "kernelspec": {
   "display_name": "Python 3",
   "language": "python",
   "name": "python3"
  },
  "language_info": {
   "codemirror_mode": {
    "name": "ipython",
    "version": 3
   },
   "file_extension": ".py",
   "mimetype": "text/x-python",
   "name": "python",
   "nbconvert_exporter": "python",
   "pygments_lexer": "ipython3",
   "version": "3.8.5"
  }
 },
 "nbformat": 4,
 "nbformat_minor": 5
}
